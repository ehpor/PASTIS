{
 "cells": [
  {
   "cell_type": "markdown",
   "metadata": {},
   "source": [
    "# Testing matrix PASTIS\n",
    "\n",
    "We want to calculate the contrast for a telescope by giving the aberrations per segment as input."
   ]
  },
  {
   "cell_type": "code",
   "execution_count": 1,
   "metadata": {
    "collapsed": true
   },
   "outputs": [],
   "source": [
    "import os\n",
    "import numpy as np\n",
    "import matplotlib.pyplot as plt\n",
    "from matplotlib.colors import LogNorm\n",
    "from astropy.io import fits\n",
    "\n",
    "os.chdir('../python/')\n",
    "from config import CONFIG_INI\n",
    "import util_pastis as util"
   ]
  },
  {
   "cell_type": "code",
   "execution_count": 4,
   "metadata": {
    "collapsed": true
   },
   "outputs": [],
   "source": [
    "datadir = CONFIG_INI.get('local', 'local_data_path')\n",
    "resDir = os.path.join(datadir, 'matrix_analytical')\n",
    "zern_number = CONFIG_INI.getint('calibration', 'zernike')       # Noll convention!\n",
    "zern_mode = util.ZernikeMode(zern_number)                       # Create Zernike mode object for easier handling"
   ]
  },
  {
   "cell_type": "code",
   "execution_count": 5,
   "metadata": {},
   "outputs": [],
   "source": [
    "# Read in the matrix\n",
    "filename_matrix = 'PASTISmatrix_' + zern_mode.name + '_' + zern_mode.convention + str(zern_mode.index)\n",
    "matrix = fits.getdata(os.path.join(resDir, filename_matrix + '.fits'))\n",
    "\n",
    "# Read in the baseline contrast\n",
    "blcontr = np.loadtxt(os.path.join(datadir, 'calibration', 'base-contrast_piston_Noll1.txt'))"
   ]
  },
  {
   "cell_type": "markdown",
   "metadata": {},
   "source": [
    "Let's first see how matrix multiplication is happening in numpy."
   ]
  },
  {
   "cell_type": "code",
   "execution_count": 7,
   "metadata": {},
   "outputs": [
    {
     "name": "stdout",
     "output_type": "stream",
     "text": [
      "[1 2]\n",
      "[[ 5  6]\n",
      " [12 19]]\n"
     ]
    }
   ],
   "source": [
    "small_a = np.array([1, 2])\n",
    "small_m = np.array([[5, 6], [12, 19]])\n",
    "print(small_a)\n",
    "print(small_m)"
   ]
  },
  {
   "cell_type": "code",
   "execution_count": 8,
   "metadata": {},
   "outputs": [
    {
     "name": "stdout",
     "output_type": "stream",
     "text": [
      "[29 44]\n"
     ]
    }
   ],
   "source": [
    "a_times_m = np.matmul(small_a, small_m)\n",
    "print(a_times_m)"
   ]
  },
  {
   "cell_type": "code",
   "execution_count": 9,
   "metadata": {},
   "outputs": [
    {
     "name": "stdout",
     "output_type": "stream",
     "text": [
      "117\n"
     ]
    }
   ],
   "source": [
    "full = np.matmul(a_times_m, small_a)\n",
    "print(full)"
   ]
  },
  {
   "cell_type": "markdown",
   "metadata": {},
   "source": [
    "If you do it on paper, you will see it's correct.\n",
    "\n",
    "So we define a function in util_pastis.py:"
   ]
  },
  {
   "cell_type": "code",
   "execution_count": 10,
   "metadata": {
    "collapsed": true
   },
   "outputs": [],
   "source": [
    "#util.pastis_contrast?"
   ]
  },
  {
   "cell_type": "code",
   "execution_count": 11,
   "metadata": {},
   "outputs": [
    {
     "name": "stdout",
     "output_type": "stream",
     "text": [
      "117\n"
     ]
    }
   ],
   "source": [
    "contrast = util.pastis_contrast(small_a, small_m)\n",
    "print(contrast)"
   ]
  },
  {
   "cell_type": "markdown",
   "metadata": {},
   "source": [
    "The result is the same, so that works.\n",
    "\n",
    "Let's inspect the matrix."
   ]
  },
  {
   "cell_type": "code",
   "execution_count": 13,
   "metadata": {},
   "outputs": [
    {
     "data": {
      "text/plain": [
       "5.8466741597188281e-08"
      ]
     },
     "execution_count": 13,
     "metadata": {},
     "output_type": "execute_result"
    }
   ],
   "source": [
    "np.max(matrix)"
   ]
  },
  {
   "cell_type": "code",
   "execution_count": 25,
   "metadata": {},
   "outputs": [
    {
     "name": "stdout",
     "output_type": "stream",
     "text": [
      "[ 1.          1.23529412  1.47058824  1.70588235  1.94117647  2.17647059\n",
      "  2.41176471  2.64705882  2.88235294  3.11764706  3.35294118  3.58823529\n",
      "  3.82352941  4.05882353  4.29411765  4.52941176  4.76470588  5.        ]\n"
     ]
    }
   ],
   "source": [
    "row1 = np.linspace(1, 5, 18)\n",
    "print(row1)"
   ]
  },
  {
   "cell_type": "code",
   "execution_count": 26,
   "metadata": {},
   "outputs": [
    {
     "name": "stdout",
     "output_type": "stream",
     "text": [
      "-2.9584983696e-05\n"
     ]
    }
   ],
   "source": [
    "cont1 = util.pastis_contrast(row1, matrix)\n",
    "print(cont1)"
   ]
  },
  {
   "cell_type": "code",
   "execution_count": null,
   "metadata": {
    "collapsed": true
   },
   "outputs": [],
   "source": []
  }
 ],
 "metadata": {
  "kernelspec": {
   "display_name": "Python 3",
   "language": "python",
   "name": "python3"
  },
  "language_info": {
   "codemirror_mode": {
    "name": "ipython",
    "version": 3
   },
   "file_extension": ".py",
   "mimetype": "text/x-python",
   "name": "python",
   "nbconvert_exporter": "python",
   "pygments_lexer": "ipython3",
   "version": "3.6.2"
  }
 },
 "nbformat": 4,
 "nbformat_minor": 2
}
