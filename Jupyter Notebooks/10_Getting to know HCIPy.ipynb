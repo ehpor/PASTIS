{
 "cells": [
  {
   "cell_type": "markdown",
   "metadata": {},
   "source": [
    "# Getting to know HCIPy\n",
    "\n",
    "Docs: \n",
    "https://hcipy.readthedocs.io/en/latest/\n",
    "\n",
    "What do I need?\n",
    "- aperture\n",
    "- coronagraph\n",
    "- optical propagation\n"
   ]
  },
  {
   "cell_type": "code",
   "execution_count": null,
   "metadata": {
    "collapsed": true
   },
   "outputs": [],
   "source": [
    "from hcipy import *\n",
    "import numpy as np\n",
    "import matplotlib.pyplot as plt\n",
    "\n",
    "%matplotlib inline"
   ]
  },
  {
   "cell_type": "code",
   "execution_count": null,
   "metadata": {
    "collapsed": true
   },
   "outputs": [],
   "source": [
    "# Setting up pupil and focal grid and propagator\n",
    "pupil_grid = make_pupil_grid(1024)\n",
    "focal_grid = make_focal_grid(pupil_grid, 8, 32)    # 8 pixels perlambda/D, 32 lambda/D radius of total image\n",
    "prop = FraunhoferPropagator(pupil_grid, focal_grid)   # this is without a coronagraph"
   ]
  },
  {
   "cell_type": "markdown",
   "metadata": {},
   "source": [
    "## Apertures\n",
    "\n",
    "### Circular aperture"
   ]
  },
  {
   "cell_type": "code",
   "execution_count": null,
   "metadata": {},
   "outputs": [],
   "source": [
    "circ = circular_aperture(1)\n",
    "circ = evaluate_supersampled(circ, pupil_grid, 8)\n",
    "\n",
    "imshow_field(circ)\n",
    "plt.show()"
   ]
  },
  {
   "cell_type": "markdown",
   "metadata": {},
   "source": [
    "### Hexagonal aperture"
   ]
  },
  {
   "cell_type": "code",
   "execution_count": null,
   "metadata": {},
   "outputs": [],
   "source": [
    "hexag = hexagonal_aperture(1)\n",
    "hexag = evaluate_supersampled(hexag, pupil_grid, 8)\n",
    "\n",
    "imshow_field(hexag)\n",
    "plt.show()"
   ]
  },
  {
   "cell_type": "markdown",
   "metadata": {},
   "source": [
    "### Magellan aperture"
   ]
  },
  {
   "cell_type": "code",
   "execution_count": null,
   "metadata": {},
   "outputs": [],
   "source": [
    "magellan = make_magellan_aperture(1)\n",
    "magellan = evaluate_supersampled(magellan, pupil_grid, 8)\n",
    "\n",
    "imshow_field(magellan)\n",
    "plt.show()"
   ]
  },
  {
   "cell_type": "markdown",
   "metadata": {},
   "source": [
    "### Luvoir A aperture (old)"
   ]
  },
  {
   "cell_type": "code",
   "execution_count": null,
   "metadata": {},
   "outputs": [],
   "source": [
    "luvoir = make_luvoir_a_aperture(1)\n",
    "luvoir = evaluate_supersampled(luvoir, pupil_grid, 4)    # this takes quite a while\n",
    "\n",
    "imshow_field(luvoir)\n",
    "plt.show()"
   ]
  },
  {
   "cell_type": "markdown",
   "metadata": {},
   "source": [
    "## Coronagraph\n",
    "\n",
    "### Perfect coronagraph\n",
    "\n",
    "#### Circular aperture"
   ]
  },
  {
   "cell_type": "code",
   "execution_count": null,
   "metadata": {},
   "outputs": [],
   "source": [
    "# Create coronagraph propagator on aperture\n",
    "coro_perf = PerfectCoronagraph(circ)\n",
    "\n",
    "# Create a wavefront from aperture\n",
    "wf = Wavefront(circ)\n",
    "\n",
    "# Apply coronagraph propagator of wavefront to Lyot plane\n",
    "lyot_plane = coro_perf(wf)\n",
    "\n",
    "# Display\n",
    "imshow_field(np.log10(lyot_plane.intensity), vmin=-8, vmax=0)\n",
    "plt.colorbar()\n",
    "plt.show()"
   ]
  },
  {
   "cell_type": "code",
   "execution_count": null,
   "metadata": {},
   "outputs": [],
   "source": [
    "# Add Lyot stop and display image\n",
    "lyot_stop = Apodizer(circular_aperture(0.99)(pupil_grid))\n",
    "\n",
    "img = prop(lyot_stop(lyot_plane))\n",
    "img_ref = prop(wf)\n",
    "\n",
    "imshow_field(np.log10(img.intensity / img_ref.intensity.max()), vmin=-12)\n",
    "plt.title(\"Circular aperture perfect coronagraph\")\n",
    "plt.colorbar()\n",
    "plt.show()"
   ]
  },
  {
   "cell_type": "code",
   "execution_count": null,
   "metadata": {},
   "outputs": [],
   "source": [
    "# Compare to propagation without coronagraph\n",
    "imshow_field(np.log10(img_ref.intensity), vmin=-8, vmax=0)\n",
    "plt.title(\"Circular aperture reference image\")\n",
    "plt.colorbar()\n",
    "plt.show()"
   ]
  },
  {
   "cell_type": "markdown",
   "metadata": {},
   "source": [
    "#### Luvoir aperture"
   ]
  },
  {
   "cell_type": "code",
   "execution_count": null,
   "metadata": {},
   "outputs": [],
   "source": [
    "# Create a wavefront from aperture\n",
    "wf = Wavefront(luvoir)\n",
    "\n",
    "# Apply coronagraph propagator of wavefront to Lyot plane\n",
    "lyot_plane = coro_perf(wf)\n",
    "\n",
    "# Display\n",
    "imshow_field(np.log10(lyot_plane.intensity), vmin=-8, vmax=0)\n",
    "plt.colorbar()\n",
    "plt.show()"
   ]
  },
  {
   "cell_type": "code",
   "execution_count": null,
   "metadata": {},
   "outputs": [],
   "source": [
    "# Add Lyot stop and display image\n",
    "lyot_stop = Apodizer(circular_aperture(0.99)(pupil_grid))   # circular Lyot stop on Luvoir aperture... not great but works\n",
    "\n",
    "img = prop(lyot_stop(lyot_plane))\n",
    "img_ref = prop(wf)\n",
    "\n",
    "imshow_field(np.log10(img.intensity / img_ref.intensity.max()), vmin=-12)\n",
    "plt.title(\"Luvoir aperture perfect coronagraph\")\n",
    "plt.colorbar()\n",
    "plt.show()"
   ]
  },
  {
   "cell_type": "code",
   "execution_count": null,
   "metadata": {},
   "outputs": [],
   "source": [
    "# Compare to propagation without coronagraph\n",
    "imshow_field(np.log10(img_ref.intensity), vmin=-8, vmax=0)\n",
    "plt.title(\"Luvoir iaperture reference image\")\n",
    "plt.colorbar()\n",
    "plt.show()"
   ]
  },
  {
   "cell_type": "markdown",
   "metadata": {},
   "source": [
    "### Lyot coronagraph\n",
    "\n",
    "#### Circular aperture"
   ]
  },
  {
   "cell_type": "code",
   "execution_count": null,
   "metadata": {},
   "outputs": [],
   "source": [
    "# Create a focal plane mask\n",
    "fpm = Apodizer(circular_aperture(0.05)(pupil_grid))\n",
    "\n",
    "# Create Lyot coronagraph on pupil grid with FPM\n",
    "coro_lyot = LyotCoronagraph(pupil_grid, fpm)\n",
    "\n",
    "# Create a wavefront from aperture\n",
    "wf = Wavefront(circ)\n",
    "\n",
    "# Apply coronagraph propagator of wavefront to Lyot plane\n",
    "lyot_plane = coro_lyot(wf)\n",
    "\n",
    "# Display\n",
    "imshow_field(np.log10(lyot_plane.intensity), vmin=-8, vmax=0)\n",
    "plt.colorbar()\n",
    "plt.show()"
   ]
  },
  {
   "cell_type": "markdown",
   "metadata": {},
   "source": [
    "## Generate ATLAST pupil\n",
    "\n",
    "Check Luvoir API for this, should be easy since I don't need spiders or omitting certain segments."
   ]
  },
  {
   "cell_type": "markdown",
   "metadata": {},
   "source": [
    "## Get segment coordinates\n",
    "\n",
    "Need segment coordinates to get non-redundant pairs. They are generated while generating the aperture, so should be easy to extract."
   ]
  },
  {
   "cell_type": "markdown",
   "metadata": {},
   "source": [
    "## Mini-segment\n",
    "\n",
    "Figure out how to generate and propagate mini-segment, since that is needed for PASTIS. It's already there, but I will have to adjust how to deal with it."
   ]
  },
  {
   "cell_type": "code",
   "execution_count": null,
   "metadata": {
    "collapsed": true
   },
   "outputs": [],
   "source": []
  }
 ],
 "metadata": {
  "kernelspec": {
   "display_name": "Python 3",
   "language": "python",
   "name": "python3"
  },
  "language_info": {
   "codemirror_mode": {
    "name": "ipython",
    "version": 3
   },
   "file_extension": ".py",
   "mimetype": "text/x-python",
   "name": "python",
   "nbconvert_exporter": "python",
   "pygments_lexer": "ipython3",
   "version": "3.6.8"
  }
 },
 "nbformat": 4,
 "nbformat_minor": 2
}
