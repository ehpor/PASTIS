{
 "cells": [
  {
   "cell_type": "markdown",
   "metadata": {},
   "source": [
    "<h1>Testing the aperture generation for PASTIS</h1>"
   ]
  },
  {
   "cell_type": "markdown",
   "metadata": {},
   "source": [
    "Generating the correct aperture for the telescope you want to apply PASTIS on and finding the non-redundant pairs of the aperture is the first step for the application of the PASTIS contrast estimation. This notebook provides a succession of steps to check whether that worked correctly and ckecks the script \"**aperture_definition.py**\" in the PASTIS repo."
   ]
  },
  {
   "cell_type": "code",
   "execution_count": 2,
   "metadata": {
    "collapsed": true
   },
   "outputs": [],
   "source": [
    "import os\n",
    "import numpy as np\n",
    "from astropy.io import fits\n",
    "import matplotlib.pyplot as plt\n",
    "\n",
    "# Path to all the outputs from \"aperture_definition.py\".\n",
    "dir = '/Users/ilaginja/Documents/data_from_repos/pastis_data/segmentation'\n",
    "# Change into that directory\n",
    "os.chdir(dir)"
   ]
  },
  {
   "cell_type": "markdown",
   "metadata": {},
   "source": [
    "Open up the file \"JWST_aperture.pdf\" when it gets created, so that we can do cross-checks. For \n",
    "\n",
    "The first testing output is \"seg_position.txt\", which gives you all the x- and y-coordinates of all segments with respect to the center of the aperture. Run the cell below and see whether this matches the aperture (please open the PDF file manually, I didn't have the time to figure out how to include PDF images in a Jupyter notebook.) What you're looking at are the center coordinates of all segments."
   ]
  },
  {
   "cell_type": "code",
   "execution_count": 3,
   "metadata": {},
   "outputs": [
    {
     "name": "stdout",
     "output_type": "stream",
     "text": [
      "Segment x and y positions in meters:\n",
      "[[ 0.    1.33]\n",
      " [ 1.15  0.67]\n",
      " [ 1.15 -0.66]\n",
      " [ 0.   -1.33]\n",
      " [-1.15 -0.67]\n",
      " [-1.15  0.66]\n",
      " [ 0.    2.66]\n",
      " [ 1.15  2.  ]\n",
      " [ 2.3   1.33]\n",
      " [ 2.3   0.  ]\n",
      " [ 2.3  -1.33]\n",
      " [ 1.15 -2.  ]\n",
      " [ 0.   -2.66]\n",
      " [-1.15 -2.  ]\n",
      " [-2.3  -1.33]\n",
      " [-2.3  -0.  ]\n",
      " [-2.3   1.33]\n",
      " [-1.15  1.99]]\n"
     ]
    }
   ],
   "source": [
    "seg = np.loadtxt('seg_position.txt')\n",
    "print('Segment x and y positions in meters:')\n",
    "print(seg)"
   ]
  },
  {
   "cell_type": "markdown",
   "metadata": {},
   "source": [
    "Next are the distances between all segments instead of the individual positions. Load both the x- and the y-coordinate distances and display them.\n",
    "\n",
    "I just realized that if I do that, I can't get the image values by hovering over them. We need that though, so go for it in an ipython session or something. Then do the same as above, figure out by comparison with the aperture whether the values make sense. One of the things you can check is whether the diagonals are zero, because the distance from a segment to itself will always be zero.\n",
    "\n",
    "The \"extent\" keyword fixes the segment numbering in the images, which is now the same like in the numbered pupil."
   ]
  },
  {
   "cell_type": "code",
   "execution_count": 8,
   "metadata": {},
   "outputs": [
    {
     "data": {
      "image/png": "[encoded data removed]",
      "text/plain": [
       "<matplotlib.figure.Figure at 0x117738a90>"
      ]
     },
     "metadata": {},
     "output_type": "display_data"
    }
   ],
   "source": [
    "vx = np.loadtxt('vec_list_x.txt')\n",
    "vy = np.loadtxt('vec_list_y.txt')\n",
    "\n",
    "plt.figure(figsize=(15,5))\n",
    "plt.subplot(1, 2, 1)\n",
    "plt.imshow(vx, origin='lower', extent=[1, 18, 1, 18], interpolation=None)\n",
    "plt.title('x distances')\n",
    "\n",
    "plt.subplot(1, 2, 2)\n",
    "plt.imshow(vy, origin='lower', extent=[1, 18, 1, 18], interpolation=None)\n",
    "plt.title('y distances')\n",
    "\n",
    "plt.show()"
   ]
  },
  {
   "cell_type": "markdown",
   "metadata": {},
   "source": [
    "Next thing is \"vec_flat.txt\". Load and print, I don't think there's much to check here actually."
   ]
  },
  {
   "cell_type": "code",
   "execution_count": 16,
   "metadata": {},
   "outputs": [
    {
     "name": "stdout",
     "output_type": "stream",
     "text": [
      "[[  0.00000000e+00   0.00000000e+00]\n",
      " [ -1.15181379e+00   6.65000000e-01]\n",
      " [ -1.15181379e+00   1.99500000e+00]\n",
      " [ -1.62878024e-16   2.66000000e+00]\n",
      " [  1.15181379e+00   1.99500000e+00]\n",
      " [  1.15181379e+00   6.65000000e-01]\n",
      " [  0.00000000e+00  -1.33000000e+00]\n",
      " [ -1.15181379e+00  -6.65000000e-01]\n",
      " [ -2.30362757e+00  -2.22044605e-16]\n",
      " [ -2.30362757e+00   1.33000000e+00]\n",
      " [ -2.30362757e+00   2.66000000e+00]\n",
      " [ -1.15181379e+00   3.32500000e+00]\n",
      " [ -3.25756049e-16   3.99000000e+00]\n",
      " [  1.15181379e+00   3.32500000e+00]\n",
      " [  2.30362757e+00   2.66000000e+00]\n",
      " [  2.30362757e+00   1.33000000e+00]\n",
      " [  2.30362757e+00   1.99840144e-15]\n",
      " [  1.15181379e+00  -6.65000000e-01]\n",
      " [  1.15181379e+00  -6.65000000e-01]\n",
      " [  0.00000000e+00   0.00000000e+00]\n",
      " [ -2.22044605e-16   1.33000000e+00]\n",
      " [  1.15181379e+00   1.99500000e+00]\n",
      " [  2.30362757e+00   1.33000000e+00]\n",
      " [  2.30362757e+00   1.11022302e-15]\n",
      " [  1.15181379e+00  -1.99500000e+00]\n",
      " [  0.00000000e+00  -1.33000000e+00]\n",
      " [ -1.15181379e+00  -6.65000000e-01]\n",
      " [ -1.15181379e+00   6.65000000e-01]\n",
      " [ -1.15181379e+00   1.99500000e+00]\n",
      " [ -8.88178420e-16   2.66000000e+00]\n",
      " [  1.15181379e+00   3.32500000e+00]\n",
      " [  2.30362757e+00   2.66000000e+00]\n",
      " [  3.45544136e+00   1.99500000e+00]\n",
      " [  3.45544136e+00   6.65000000e-01]\n",
      " [  3.45544136e+00  -6.65000000e-01]\n",
      " [  2.30362757e+00  -1.33000000e+00]\n",
      " [  1.15181379e+00  -1.99500000e+00]\n",
      " [  2.22044605e-16  -1.33000000e+00]\n",
      " [  0.00000000e+00   0.00000000e+00]\n",
      " [  1.15181379e+00   6.65000000e-01]\n",
      " [  2.30362757e+00   8.88178420e-16]\n",
      " [  2.30362757e+00  -1.33000000e+00]\n",
      " [  1.15181379e+00  -3.32500000e+00]\n",
      " [  2.22044605e-16  -2.66000000e+00]\n",
      " [ -1.15181379e+00  -1.99500000e+00]\n",
      " [ -1.15181379e+00  -6.65000000e-01]\n",
      " [ -1.15181379e+00   6.65000000e-01]\n",
      " [ -6.66133815e-16   1.33000000e+00]\n",
      " [  1.15181379e+00   1.99500000e+00]\n",
      " [  2.30362757e+00   1.33000000e+00]\n",
      " [  3.45544136e+00   6.65000000e-01]\n",
      " [  3.45544136e+00  -6.65000000e-01]\n",
      " [  3.45544136e+00  -1.99500000e+00]\n",
      " [  2.30362757e+00  -2.66000000e+00]\n",
      " [  1.62878024e-16  -2.66000000e+00]\n",
      " [ -1.15181379e+00  -1.99500000e+00]\n",
      " [ -1.15181379e+00  -6.65000000e-01]\n",
      " [  0.00000000e+00   0.00000000e+00]\n",
      " [  1.15181379e+00  -6.65000000e-01]\n",
      " [  1.15181379e+00  -1.99500000e+00]\n",
      " [  1.62878024e-16  -3.99000000e+00]\n",
      " [ -1.15181379e+00  -3.32500000e+00]\n",
      " [ -2.30362757e+00  -2.66000000e+00]\n",
      " [ -2.30362757e+00  -1.33000000e+00]\n",
      " [ -2.30362757e+00  -6.66133815e-16]\n",
      " [ -1.15181379e+00   6.65000000e-01]\n",
      " [ -1.62878024e-16   1.33000000e+00]\n",
      " [  1.15181379e+00   6.65000000e-01]\n",
      " [  2.30362757e+00   1.11022302e-15]\n",
      " [  2.30362757e+00  -1.33000000e+00]\n",
      " [  2.30362757e+00  -2.66000000e+00]\n",
      " [  1.15181379e+00  -3.32500000e+00]\n",
      " [ -1.15181379e+00  -1.99500000e+00]\n",
      " [ -2.30362757e+00  -1.33000000e+00]\n",
      " [ -2.30362757e+00  -8.88178420e-16]\n",
      " [ -1.15181379e+00   6.65000000e-01]\n",
      " [  0.00000000e+00   0.00000000e+00]\n",
      " [  8.88178420e-16  -1.33000000e+00]\n",
      " [ -1.15181379e+00  -3.32500000e+00]\n",
      " [ -2.30362757e+00  -2.66000000e+00]\n",
      " [ -3.45544136e+00  -1.99500000e+00]\n",
      " [ -3.45544136e+00  -6.65000000e-01]\n",
      " [ -3.45544136e+00   6.65000000e-01]\n",
      " [ -2.30362757e+00   1.33000000e+00]\n",
      " [ -1.15181379e+00   1.99500000e+00]\n",
      " [  0.00000000e+00   1.33000000e+00]\n",
      " [  1.15181379e+00   6.65000000e-01]\n",
      " [  1.15181379e+00  -6.65000000e-01]\n",
      " [  1.15181379e+00  -1.99500000e+00]\n",
      " [  1.55431223e-15  -2.66000000e+00]\n",
      " [ -1.15181379e+00  -6.65000000e-01]\n",
      " [ -2.30362757e+00  -1.11022302e-15]\n",
      " [ -2.30362757e+00   1.33000000e+00]\n",
      " [ -1.15181379e+00   1.99500000e+00]\n",
      " [ -8.88178420e-16   1.33000000e+00]\n",
      " [  0.00000000e+00   0.00000000e+00]\n",
      " [ -1.15181379e+00  -1.99500000e+00]\n",
      " [ -2.30362757e+00  -1.33000000e+00]\n",
      " [ -3.45544136e+00  -6.65000000e-01]\n",
      " [ -3.45544136e+00   6.65000000e-01]\n",
      " [ -3.45544136e+00   1.99500000e+00]\n",
      " [ -2.30362757e+00   2.66000000e+00]\n",
      " [ -1.15181379e+00   3.32500000e+00]\n",
      " [ -8.88178420e-16   2.66000000e+00]\n",
      " [  1.15181379e+00   1.99500000e+00]\n",
      " [  1.15181379e+00   6.65000000e-01]\n",
      " [  1.15181379e+00  -6.65000000e-01]\n",
      " [  6.66133815e-16  -1.33000000e+00]\n",
      " [  0.00000000e+00   1.33000000e+00]\n",
      " [ -1.15181379e+00   1.99500000e+00]\n",
      " [ -1.15181379e+00   3.32500000e+00]\n",
      " [ -1.62878024e-16   3.99000000e+00]\n",
      " [  1.15181379e+00   3.32500000e+00]\n",
      " [  1.15181379e+00   1.99500000e+00]\n",
      " [  0.00000000e+00   0.00000000e+00]\n",
      " [ -1.15181379e+00   6.65000000e-01]\n",
      " [ -2.30362757e+00   1.33000000e+00]\n",
      " [ -2.30362757e+00   2.66000000e+00]\n",
      " [ -2.30362757e+00   3.99000000e+00]\n",
      " [ -1.15181379e+00   4.65500000e+00]\n",
      " [ -3.25756049e-16   5.32000000e+00]\n",
      " [  1.15181379e+00   4.65500000e+00]\n",
      " [  2.30362757e+00   3.99000000e+00]\n",
      " [  2.30362757e+00   2.66000000e+00]\n",
      " [  2.30362757e+00   1.33000000e+00]\n",
      " [  1.15181379e+00   6.65000000e-01]\n",
      " [  1.15181379e+00   6.65000000e-01]\n",
      " [  0.00000000e+00   1.33000000e+00]\n",
      " [ -2.22044605e-16   2.66000000e+00]\n",
      " [  1.15181379e+00   3.32500000e+00]\n",
      " [  2.30362757e+00   2.66000000e+00]\n",
      " [  2.30362757e+00   1.33000000e+00]\n",
      " [  1.15181379e+00  -6.65000000e-01]\n",
      " [  0.00000000e+00   0.00000000e+00]\n",
      " [ -1.15181379e+00   6.65000000e-01]\n",
      " [ -1.15181379e+00   1.99500000e+00]\n",
      " [ -1.15181379e+00   3.32500000e+00]\n",
      " [ -8.88178420e-16   3.99000000e+00]\n",
      " [  1.15181379e+00   4.65500000e+00]\n",
      " [  2.30362757e+00   3.99000000e+00]\n",
      " [  3.45544136e+00   3.32500000e+00]\n",
      " [  3.45544136e+00   1.99500000e+00]\n",
      " [  3.45544136e+00   6.65000000e-01]\n",
      " [  2.30362757e+00   8.88178420e-16]\n",
      " [  2.30362757e+00   2.22044605e-16]\n",
      " [  1.15181379e+00   6.65000000e-01]\n",
      " [  1.15181379e+00   1.99500000e+00]\n",
      " [  2.30362757e+00   2.66000000e+00]\n",
      " [  3.45544136e+00   1.99500000e+00]\n",
      " [  3.45544136e+00   6.65000000e-01]\n",
      " [  2.30362757e+00  -1.33000000e+00]\n",
      " [  1.15181379e+00  -6.65000000e-01]\n",
      " [  0.00000000e+00   0.00000000e+00]\n",
      " [ -4.44089210e-16   1.33000000e+00]\n",
      " [ -4.44089210e-16   2.66000000e+00]\n",
      " [  1.15181379e+00   3.32500000e+00]\n",
      " [  2.30362757e+00   3.99000000e+00]\n",
      " [  3.45544136e+00   3.32500000e+00]\n",
      " [  4.60725515e+00   2.66000000e+00]\n",
      " [  4.60725515e+00   1.33000000e+00]\n",
      " [  4.60725515e+00   2.22044605e-15]\n",
      " [  3.45544136e+00  -6.65000000e-01]\n",
      " [  2.30362757e+00  -1.33000000e+00]\n",
      " [  1.15181379e+00  -6.65000000e-01]\n",
      " [  1.15181379e+00   6.65000000e-01]\n",
      " [  2.30362757e+00   1.33000000e+00]\n",
      " [  3.45544136e+00   6.65000000e-01]\n",
      " [  3.45544136e+00  -6.65000000e-01]\n",
      " [  2.30362757e+00  -2.66000000e+00]\n",
      " [  1.15181379e+00  -1.99500000e+00]\n",
      " [  4.44089210e-16  -1.33000000e+00]\n",
      " [  0.00000000e+00   0.00000000e+00]\n",
      " [  0.00000000e+00   1.33000000e+00]\n",
      " [  1.15181379e+00   1.99500000e+00]\n",
      " [  2.30362757e+00   2.66000000e+00]\n",
      " [  3.45544136e+00   1.99500000e+00]\n",
      " [  4.60725515e+00   1.33000000e+00]\n",
      " [  4.60725515e+00   5.64226027e-16]\n",
      " [  4.60725515e+00  -1.33000000e+00]\n",
      " [  3.45544136e+00  -1.99500000e+00]\n",
      " [  2.30362757e+00  -2.66000000e+00]\n",
      " [  1.15181379e+00  -1.99500000e+00]\n",
      " [  1.15181379e+00  -6.65000000e-01]\n",
      " [  2.30362757e+00   6.66133815e-16]\n",
      " [  3.45544136e+00  -6.65000000e-01]\n",
      " [  3.45544136e+00  -1.99500000e+00]\n",
      " [  2.30362757e+00  -3.99000000e+00]\n",
      " [  1.15181379e+00  -3.32500000e+00]\n",
      " [  4.44089210e-16  -2.66000000e+00]\n",
      " [  0.00000000e+00  -1.33000000e+00]\n",
      " [  0.00000000e+00   0.00000000e+00]\n",
      " [  1.15181379e+00   6.65000000e-01]\n",
      " [  2.30362757e+00   1.33000000e+00]\n",
      " [  3.45544136e+00   6.65000000e-01]\n",
      " [  4.60725515e+00   1.77635684e-15]\n",
      " [  4.60725515e+00  -1.33000000e+00]\n",
      " [  4.60725515e+00  -2.66000000e+00]\n",
      " [  3.45544136e+00  -3.32500000e+00]\n",
      " [  1.15181379e+00  -3.32500000e+00]\n",
      " [  8.88178420e-16  -2.66000000e+00]\n",
      " [  6.66133815e-16  -1.33000000e+00]\n",
      " [  1.15181379e+00  -6.65000000e-01]\n",
      " [  2.30362757e+00  -1.33000000e+00]\n",
      " [  2.30362757e+00  -2.66000000e+00]\n",
      " [  1.15181379e+00  -4.65500000e+00]\n",
      " [  8.88178420e-16  -3.99000000e+00]\n",
      " [ -1.15181379e+00  -3.32500000e+00]\n",
      " [ -1.15181379e+00  -1.99500000e+00]\n",
      " [ -1.15181379e+00  -6.65000000e-01]\n",
      " [  0.00000000e+00   0.00000000e+00]\n",
      " [  1.15181379e+00   6.65000000e-01]\n",
      " [  2.30362757e+00   6.66133815e-16]\n",
      " [  3.45544136e+00  -6.65000000e-01]\n",
      " [  3.45544136e+00  -1.99500000e+00]\n",
      " [  3.45544136e+00  -3.32500000e+00]\n",
      " [  2.30362757e+00  -3.99000000e+00]\n",
      " [  3.25756049e-16  -3.99000000e+00]\n",
      " [ -1.15181379e+00  -3.32500000e+00]\n",
      " [ -1.15181379e+00  -1.99500000e+00]\n",
      " [  1.62878024e-16  -1.33000000e+00]\n",
      " [  1.15181379e+00  -1.99500000e+00]\n",
      " [  1.15181379e+00  -3.32500000e+00]\n",
      " [  3.25756049e-16  -5.32000000e+00]\n",
      " [ -1.15181379e+00  -4.65500000e+00]\n",
      " [ -2.30362757e+00  -3.99000000e+00]\n",
      " [ -2.30362757e+00  -2.66000000e+00]\n",
      " [ -2.30362757e+00  -1.33000000e+00]\n",
      " [ -1.15181379e+00  -6.65000000e-01]\n",
      " [  0.00000000e+00   0.00000000e+00]\n",
      " [  1.15181379e+00  -6.65000000e-01]\n",
      " [  2.30362757e+00  -1.33000000e+00]\n",
      " [  2.30362757e+00  -2.66000000e+00]\n",
      " [  2.30362757e+00  -3.99000000e+00]\n",
      " [  1.15181379e+00  -4.65500000e+00]\n",
      " [ -1.15181379e+00  -3.32500000e+00]\n",
      " [ -2.30362757e+00  -2.66000000e+00]\n",
      " [ -2.30362757e+00  -1.33000000e+00]\n",
      " [ -1.15181379e+00  -6.65000000e-01]\n",
      " [  0.00000000e+00  -1.33000000e+00]\n",
      " [  8.88178420e-16  -2.66000000e+00]\n",
      " [ -1.15181379e+00  -4.65500000e+00]\n",
      " [ -2.30362757e+00  -3.99000000e+00]\n",
      " [ -3.45544136e+00  -3.32500000e+00]\n",
      " [ -3.45544136e+00  -1.99500000e+00]\n",
      " [ -3.45544136e+00  -6.65000000e-01]\n",
      " [ -2.30362757e+00  -6.66133815e-16]\n",
      " [ -1.15181379e+00   6.65000000e-01]\n",
      " [  0.00000000e+00   0.00000000e+00]\n",
      " [  1.15181379e+00  -6.65000000e-01]\n",
      " [  1.15181379e+00  -1.99500000e+00]\n",
      " [  1.15181379e+00  -3.32500000e+00]\n",
      " [  1.55431223e-15  -3.99000000e+00]\n",
      " [ -2.30362757e+00  -2.66000000e+00]\n",
      " [ -3.45544136e+00  -1.99500000e+00]\n",
      " [ -3.45544136e+00  -6.65000000e-01]\n",
      " [ -2.30362757e+00  -1.11022302e-15]\n",
      " [ -1.15181379e+00  -6.65000000e-01]\n",
      " [ -1.15181379e+00  -1.99500000e+00]\n",
      " [ -2.30362757e+00  -3.99000000e+00]\n",
      " [ -3.45544136e+00  -3.32500000e+00]\n",
      " [ -4.60725515e+00  -2.66000000e+00]\n",
      " [ -4.60725515e+00  -1.33000000e+00]\n",
      " [ -4.60725515e+00  -1.77635684e-15]\n",
      " [ -3.45544136e+00   6.65000000e-01]\n",
      " [ -2.30362757e+00   1.33000000e+00]\n",
      " [ -1.15181379e+00   6.65000000e-01]\n",
      " [  0.00000000e+00   0.00000000e+00]\n",
      " [  8.88178420e-16  -1.33000000e+00]\n",
      " [  1.77635684e-15  -2.66000000e+00]\n",
      " [ -1.15181379e+00  -3.32500000e+00]\n",
      " [ -2.30362757e+00  -1.33000000e+00]\n",
      " [ -3.45544136e+00  -6.65000000e-01]\n",
      " [ -3.45544136e+00   6.65000000e-01]\n",
      " [ -2.30362757e+00   1.33000000e+00]\n",
      " [ -1.15181379e+00   6.65000000e-01]\n",
      " [ -1.15181379e+00  -6.65000000e-01]\n",
      " [ -2.30362757e+00  -2.66000000e+00]\n",
      " [ -3.45544136e+00  -1.99500000e+00]\n",
      " [ -4.60725515e+00  -1.33000000e+00]\n",
      " [ -4.60725515e+00  -5.64226027e-16]\n",
      " [ -4.60725515e+00   1.33000000e+00]\n",
      " [ -3.45544136e+00   1.99500000e+00]\n",
      " [ -2.30362757e+00   2.66000000e+00]\n",
      " [ -1.15181379e+00   1.99500000e+00]\n",
      " [ -8.88178420e-16   1.33000000e+00]\n",
      " [  0.00000000e+00   0.00000000e+00]\n",
      " [  8.88178420e-16  -1.33000000e+00]\n",
      " [ -1.15181379e+00  -1.99500000e+00]\n",
      " [ -2.30362757e+00  -1.99840144e-15]\n",
      " [ -3.45544136e+00   6.65000000e-01]\n",
      " [ -3.45544136e+00   1.99500000e+00]\n",
      " [ -2.30362757e+00   2.66000000e+00]\n",
      " [ -1.15181379e+00   1.99500000e+00]\n",
      " [ -1.15181379e+00   6.65000000e-01]\n",
      " [ -2.30362757e+00  -1.33000000e+00]\n",
      " [ -3.45544136e+00  -6.65000000e-01]\n",
      " [ -4.60725515e+00  -2.22044605e-15]\n",
      " [ -4.60725515e+00   1.33000000e+00]\n",
      " [ -4.60725515e+00   2.66000000e+00]\n",
      " [ -3.45544136e+00   3.32500000e+00]\n",
      " [ -2.30362757e+00   3.99000000e+00]\n",
      " [ -1.15181379e+00   3.32500000e+00]\n",
      " [ -1.77635684e-15   2.66000000e+00]\n",
      " [ -8.88178420e-16   1.33000000e+00]\n",
      " [  0.00000000e+00   0.00000000e+00]\n",
      " [ -1.15181379e+00  -6.65000000e-01]\n",
      " [ -1.15181379e+00   6.65000000e-01]\n",
      " [ -2.30362757e+00   1.33000000e+00]\n",
      " [ -2.30362757e+00   2.66000000e+00]\n",
      " [ -1.15181379e+00   3.32500000e+00]\n",
      " [ -1.55431223e-15   2.66000000e+00]\n",
      " [ -6.66133815e-16   1.33000000e+00]\n",
      " [ -1.15181379e+00  -6.65000000e-01]\n",
      " [ -2.30362757e+00  -8.88178420e-16]\n",
      " [ -3.45544136e+00   6.65000000e-01]\n",
      " [ -3.45544136e+00   1.99500000e+00]\n",
      " [ -3.45544136e+00   3.32500000e+00]\n",
      " [ -2.30362757e+00   3.99000000e+00]\n",
      " [ -1.15181379e+00   4.65500000e+00]\n",
      " [ -1.55431223e-15   3.99000000e+00]\n",
      " [  1.15181379e+00   3.32500000e+00]\n",
      " [  1.15181379e+00   1.99500000e+00]\n",
      " [  1.15181379e+00   6.65000000e-01]\n",
      " [  0.00000000e+00   0.00000000e+00]]\n"
     ]
    }
   ],
   "source": [
    "flat = np.loadtxt('vec_flat.txt')\n",
    "print(flat)"
   ]
  },
  {
   "cell_type": "markdown",
   "metadata": {},
   "source": [
    "The nulled vector list \"vec_nulled\" is next, and that's kind of an important one."
   ]
  },
  {
   "cell_type": "code",
   "execution_count": 17,
   "metadata": {
    "collapsed": true
   },
   "outputs": [],
   "source": [
    "nullx = np.loadtxt('vec_list_nulled_x.txt')\n",
    "nully = np.loadtxt('vec_list_nulled_y.txt')"
   ]
  },
  {
   "cell_type": "markdown",
   "metadata": {},
   "source": [
    "Since we're working separately in x and in y, if we add these two arrays, we will only be left with zeros where we really nulled everything. If you then display that, you can basically count the non-redundant pairs (NRP) by hand (except that our eyes fool us 90% of the time and we should *actually count* them in the code).\n",
    "\n",
    "**Again: Remember that our segment numbering actually starts at 1!**"
   ]
  },
  {
   "cell_type": "code",
   "execution_count": 18,
   "metadata": {},
   "outputs": [
    {
     "data": {
      "image/png": "[encoded data removed]",
      "text/plain": [
       "<matplotlib.figure.Figure at 0x10dc24c50>"
      ]
     },
     "metadata": {},
     "output_type": "display_data"
    }
   ],
   "source": [
    "tot = nullx + nully\n",
    "plt.figure(figsize=(20, 10))\n",
    "plt.imshow(tot, origin='lower')\n",
    "plt.show()"
   ]
  },
  {
   "cell_type": "markdown",
   "metadata": {},
   "source": [
    "Next is \"NR_distance_list\", which holds the unique distances of each NRP. Note that distances itself can repeat, since the NRP also have to differ in vector orientation in order to be non-redundant."
   ]
  },
  {
   "cell_type": "code",
   "execution_count": 19,
   "metadata": {},
   "outputs": [
    {
     "name": "stdout",
     "output_type": "stream",
     "text": [
      "[  1.77   5.31   7.08   5.31   1.77   1.77   5.31   7.08  12.38  12.38\n",
      "  15.92  12.38  12.38   7.08  15.92  12.38  12.38  15.92  21.23  23.    28.3\n",
      "  23.    21.23  23.    28.3   23.    21.23  23.    28.3   23.  ]\n",
      "Number of NRP: 30\n"
     ]
    }
   ],
   "source": [
    "nrp_dist = np.loadtxt('NR_distance_list.txt')\n",
    "print(nrp_dist)\n",
    "print('Number of NRP:', nrp_dist.shape[0])"
   ]
  },
  {
   "cell_type": "markdown",
   "metadata": {},
   "source": [
    "Next is our list of NRPs themselves, which has the form [NRP number, seg1, seg2]. Note that the **numbering of the NRP in principle starts at 1!** But we don't have any actual labels for the NRPs, so when we index this array, the numbering starts at 0 because that's how Python works. **The segment numbering starts at 1 too!!!** Except for the cases where we index them... you get my point."
   ]
  },
  {
   "cell_type": "code",
   "execution_count": 20,
   "metadata": {},
   "outputs": [
    {
     "name": "stdout",
     "output_type": "stream",
     "text": [
      "[[ 1  2]\n",
      " [ 1  3]\n",
      " [ 1  4]\n",
      " [ 1  5]\n",
      " [ 1  6]\n",
      " [ 1  7]\n",
      " [ 1  9]\n",
      " [ 1 10]\n",
      " [ 1 11]\n",
      " [ 1 12]\n",
      " [ 1 13]\n",
      " [ 1 14]\n",
      " [ 1 15]\n",
      " [ 1 16]\n",
      " [ 2 15]\n",
      " [ 2 16]\n",
      " [ 2 17]\n",
      " [ 3 17]\n",
      " [ 7 11]\n",
      " [ 7 12]\n",
      " [ 7 13]\n",
      " [ 7 14]\n",
      " [ 7 15]\n",
      " [ 8 15]\n",
      " [ 9 15]\n",
      " [ 9 16]\n",
      " [ 9 17]\n",
      " [10 17]\n",
      " [11 17]\n",
      " [11 18]]\n"
     ]
    }
   ],
   "source": [
    "nrp_list = np.loadtxt('NR_pairs_list.txt', dtype='int')\n",
    "print(nrp_list)"
   ]
  },
  {
   "cell_type": "markdown",
   "metadata": {},
   "source": [
    "Next we have \"vec_list2_x\" and \"vec_list2_y\" which are actually useless, as explained in the script we're following here. So I'll skip these.\n",
    "\n",
    "The final and most important one is the projection matrix. It holds the infromation about which NRP each segment pair corresponds to and has the shape: [nb_seg, nb_seg, 3].\n",
    "First plane: Projection_Matrix[i,j,0] = n means that the segment pair formed by the segments #i and #j is equivalent to the pair #n of the non-redundant-pair basis (n = 1, 2, ...). Second and third planes: Projection_Matrix[i,j,1] = m and Projection_Matrix[i,j,2] = n means that the segment pair formed by the segments #i and #j is equivalent to the non-redundant pair formed by the segments #m and #n. Only the FIRST plane is useful for later (Projection_Matrix[:, :, 0])."
   ]
  },
  {
   "cell_type": "code",
   "execution_count": 21,
   "metadata": {},
   "outputs": [
    {
     "data": {
      "image/png": "[encoded data removed]",
      "text/plain": [
       "<matplotlib.figure.Figure at 0x10094fac8>"
      ]
     },
     "metadata": {},
     "output_type": "display_data"
    }
   ],
   "source": [
    "# Load the projection matrix\n",
    "m = fits.getdata('Projection_Matrix.fits')\n",
    "\n",
    "plt.figure(figsize=(20,5))\n",
    "plt.subplot(1, 3, 1)\n",
    "plt.imshow(m[:,:,0], origin='lower')\n",
    "plt.title('NRP number')\n",
    "plt.subplot(1, 3, 2)\n",
    "plt.imshow(m[:,:,1], origin='lower')\n",
    "plt.title('segment 1')\n",
    "plt.subplot(1, 3, 3)\n",
    "plt.imshow(m[:,:,2], origin='lower')\n",
    "plt.title('segment 2')\n",
    "plt.show()"
   ]
  },
  {
   "cell_type": "markdown",
   "metadata": {},
   "source": [
    "The display of these also only makes sense if you can get the image values by hovering over them. And then you can do a couple of things:\n",
    "- Compare the print of \"nrp_list\" with the plot labelled \"NRP number\"; the first line of nrp_list is NRP number 0, and it is composed by segments 1 and 2. So, in the image, at location 0 and 1 (remember that I was to lazy to change the matplotlib displays to the actual numbering of our segments), the image value should be 0, and so on\n",
    "- Check some other values in the image, and by comparison with the aperture image, check if the numbers in there make sense.\n",
    "\n",
    "One thing that you want to keep in mind is that when we talk about NRPs and segments, **their numbering starts at 1!!!** Did I get my point across yet? It is only because of the Python indexing that we *address* them by starting at zero.\n",
    "\n",
    "I am so insistent on this because this has caused us quite some trouble in the generation of the projection matrix.\n",
    "\n",
    "<h3>Why don't we just start numbering at 0?</h3>\n",
    "\n",
    "<h5>In the case of the segments</h5>\n",
    "we attribute segment number 0 to the very central segment which is traditinally blocked out by a central obscuration (secondary mirror). This does not have to be the case on every telescope though, so be careful with this.\n",
    "\n",
    "<h5> In the case of the non-redundant pairs</h5>\n",
    "Check out what the projection matrix actually means. It's second and third layer just duplicate information we already know, so let's ignore them and focus on the first layer, which can be displayed as a simple matrix, instead.\n",
    "\n",
    "We have a matrix $m_{i, j}$ where $i, j = 1, 2, ..., nb_{seg}$. This means that this matrix displays all the possible segment pairs in our aperture, e.g. $seg 1 + seg 2$, $seg 1 + seg 3$, $seg 4 + 15$ and so on. There are two different things we have to keep in mind:\n",
    "\n",
    "- Segment pairs with themselves are valid pairs:\n",
    "This means that the combinations of $seg1 + seg1$, $seg2 + seg2$ and so on are totally valid and displayed in the matrix as well - we can find those on the main matrix diagonal.\n",
    "- The \"direction\" of the segment pair counts too: Meaning, making the pairs $seg3 + seg7$ and $seg7 + seg3$ is *not* equivalent (think of the sign difference when calculating their distance!), but they will only be different by sign, which means that the matrix will be symmetric.\n",
    "- A Pair of a segment with itself does **not count as a NRP!**: This is an important one that screwed me over when I wrote the part that generates the matrix. We basically want to ignore the matrix diagonal, in which we have all the pairs of the segments with themselves, so we have to fill those with zeros. **This is the reason why we can't number the NRPs starting at zero!**"
   ]
  }
 ],
 "metadata": {
  "kernelspec": {
   "display_name": "Python 3",
   "language": "python",
   "name": "python3"
  },
  "language_info": {
   "codemirror_mode": {
    "name": "ipython",
    "version": 3
   },
   "file_extension": ".py",
   "mimetype": "text/x-python",
   "name": "python",
   "nbconvert_exporter": "python",
   "pygments_lexer": "ipython3",
   "version": "3.6.2"
  }
 },
 "nbformat": 4,
 "nbformat_minor": 2
}
