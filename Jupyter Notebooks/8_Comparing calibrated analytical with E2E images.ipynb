{
 "cells": [
  {
   "cell_type": "markdown",
   "metadata": {},
   "source": [
    "# Comparing calibrated analytical with E2E images\n",
    "\n",
    "In the process of generating the analytical matrix with `matrix_building_analytical.py` the code produces *calibrated* pair-wise aberrated analytical images. The script `matrix_building_analytical.py` does the same thing but produces pair-wise aberrated E2E images. In this notebook, I am comparing the resulting images from both."
   ]
  },
  {
   "cell_type": "code",
   "execution_count": null,
   "metadata": {
    "collapsed": true
   },
   "outputs": [],
   "source": [
    "import os\n",
    "import numpy as np\n",
    "import matplotlib.pyplot as plt\n",
    "from matplotlib.colors import LogNorm\n",
    "from astropy.io import fits\n",
    "%matplotlib inline\n",
    "\n",
    "os.chdir('../pastis/')\n",
    "from config import CONFIG_INI\n",
    "import util_pastis as util"
   ]
  },
  {
   "cell_type": "code",
   "execution_count": null,
   "metadata": {},
   "outputs": [],
   "source": [
    "# Reading parameters from configfile\n",
    "nb_seg = CONFIG_INI.getint('telescope', 'nb_subapertures')\n",
    "\n",
    "numdir = os.path.join(CONFIG_INI.get('local', 'local_data_path'), 'active', 'matrix_numerical')\n",
    "anadir = os.path.join(CONFIG_INI.get('local', 'local_data_path'), 'active', 'matrix_analytical')\n",
    "print(\"Reading E2E images from\", numdir)\n",
    "print(\"Reading calibrated analytical images from\", anadir)"
   ]
  },
  {
   "cell_type": "code",
   "execution_count": null,
   "metadata": {},
   "outputs": [],
   "source": [
    "# Read the PSF cubes for both\n",
    "num_cube = fits.getdata(os.path.join(numdir, \"darkholes\", \"dh_cube.fits\"))\n",
    "ana_cube = fits.getdata(os.path.join(anadir, \"darkholes\", \"dh_cube.fits\"))\n",
    "\n",
    "print(\"num_cube.shape:\", num_cube.shape)\n",
    "print(\"ana_cube.shape:\", ana_cube.shape)"
   ]
  },
  {
   "cell_type": "code",
   "execution_count": null,
   "metadata": {},
   "outputs": [],
   "source": [
    "# Pick what segment aberration combo you want to look at\n",
    "seg1 = 2\n",
    "seg2 = 10\n",
    "\n",
    "if (seg1 not in range(1, nb_seg+1)) or (seg2 not in range(1, nb_seg+1)):   # this could be simplified...\n",
    "    print(\"Your setup only has {} segments\".format(nb_seg))\n",
    "else:\n",
    "    segind = (seg1-1) * nb_seg + (seg2-1)\n",
    "    print('Segment pair: {} - {}'.format(seg1, seg2))\n",
    "    print(\"segind:\", segind)"
   ]
  },
  {
   "cell_type": "code",
   "execution_count": null,
   "metadata": {},
   "outputs": [],
   "source": [
    "plt.figure(figsize=(18, 9))\n",
    "plt.suptitle('Segment pair: {} - {}'.format(seg1, seg2))\n",
    "plt.subplot(1, 2, 1)\n",
    "plt.imshow(util.zoom_cen(num_cube[segind], ana_cube.shape[2]/2), norm=LogNorm())\n",
    "plt.colorbar()\n",
    "plt.title('E2E DH')\n",
    "plt.subplot(1, 2, 2)\n",
    "plt.imshow(ana_cube[segind], norm=LogNorm())\n",
    "plt.colorbar()\n",
    "plt.title('Analytical DH')"
   ]
  },
  {
   "cell_type": "code",
   "execution_count": null,
   "metadata": {
    "collapsed": true
   },
   "outputs": [],
   "source": []
  }
 ],
 "metadata": {
  "kernelspec": {
   "display_name": "Python 3",
   "language": "python",
   "name": "python3"
  },
  "language_info": {
   "codemirror_mode": {
    "name": "ipython",
    "version": 3
   },
   "file_extension": ".py",
   "mimetype": "text/x-python",
   "name": "python",
   "nbconvert_exporter": "python",
   "pygments_lexer": "ipython3",
   "version": "3.6.8"
  }
 },
 "nbformat": 4,
 "nbformat_minor": 2
}
