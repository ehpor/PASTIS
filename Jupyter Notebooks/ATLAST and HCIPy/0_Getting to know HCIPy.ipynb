{
 "cells": [
  {
   "cell_type": "markdown",
   "metadata": {},
   "source": [
    "# Getting to know HCIPy\n",
    "\n",
    "Docs: \n",
    "https://hcipy.readthedocs.io/en/latest/\n",
    "\n",
    "What do I need?\n",
    "- aperture\n",
    "- coronagraph\n",
    "- optical propagation\n"
   ]
  },
  {
   "cell_type": "code",
   "execution_count": null,
   "metadata": {
    "collapsed": true
   },
   "outputs": [],
   "source": [
    "from hcipy import *\n",
    "import numpy as np\n",
    "import matplotlib.pyplot as plt\n",
    "\n",
    "%matplotlib inline"
   ]
  },
  {
   "cell_type": "code",
   "execution_count": null,
   "metadata": {
    "collapsed": true
   },
   "outputs": [],
   "source": [
    "# Setting up pupil and focal grid and propagator\n",
    "pupil_grid = make_pupil_grid(dims=1024, diameter=1)\n",
    "focal_grid = make_focal_grid(pupil_grid, 8, 32)    # 8 pixels per lambda/D, 32 lambda/D radius of total image\n",
    "prop = FraunhoferPropagator(pupil_grid, focal_grid)   # this is without a coronagraph"
   ]
  },
  {
   "cell_type": "markdown",
   "metadata": {},
   "source": [
    "## Apertures\n",
    "\n",
    "### Circular aperture\n",
    "\n",
    "Grid and aperture normalization is something I struggle with in the beginning. Grids have a size, and their default is `size=1`. Apertures have a normalization and their default is usually `normalization=False`. This means that as long as I have an aperture with diameter 1 (meter) on a grid of size one, I will have the entire aperture displayed. If my aperture is larger than 1 and *not* normalized, the grid will be sampled only on a bit of the aperture of size of the aperture - we display only one part of the aperture. However, if the aperture is normalized, this means that while it may have an arbitrary physical size, it is actually normlaized to 1 and the grid of size 1 will be sampled over the entire aperture, and we're not chopping random bits off."
   ]
  },
  {
   "cell_type": "code",
   "execution_count": null,
   "metadata": {},
   "outputs": [],
   "source": [
    "circ = circular_aperture(diameter=1)\n",
    "circ = evaluate_supersampled(circ, pupil_grid, 8)\n",
    "\n",
    "imshow_field(circ)\n",
    "plt.show()"
   ]
  },
  {
   "cell_type": "markdown",
   "metadata": {},
   "source": [
    "### Hexagonal aperture"
   ]
  },
  {
   "cell_type": "code",
   "execution_count": null,
   "metadata": {
    "collapsed": true
   },
   "outputs": [],
   "source": [
    "hexag = hexagonal_aperture(circum_diameter=1)\n",
    "hexag = evaluate_supersampled(hexag, pupil_grid, 8)\n",
    "\n",
    "imshow_field(hexag)\n",
    "plt.show()"
   ]
  },
  {
   "cell_type": "markdown",
   "metadata": {},
   "source": [
    "### Magellan aperture"
   ]
  },
  {
   "cell_type": "code",
   "execution_count": null,
   "metadata": {
    "collapsed": true
   },
   "outputs": [],
   "source": [
    "magellan = make_magellan_aperture(normalized=True)\n",
    "magellan = evaluate_supersampled(magellan, pupil_grid, 8)\n",
    "\n",
    "imshow_field(magellan)\n",
    "plt.show()"
   ]
  },
  {
   "cell_type": "markdown",
   "metadata": {},
   "source": [
    "### Luvoir A aperture (old)"
   ]
  },
  {
   "cell_type": "code",
   "execution_count": null,
   "metadata": {
    "collapsed": true
   },
   "outputs": [],
   "source": [
    "luvoir = make_luvoir_a_aperture(normalized=True)\n",
    "luvoir = evaluate_supersampled(luvoir, pupil_grid, 4)    # this takes quite a while\n",
    "\n",
    "imshow_field(luvoir)\n",
    "plt.show()"
   ]
  },
  {
   "cell_type": "markdown",
   "metadata": {},
   "source": [
    "### HiCAT apeture\n",
    "\n",
    "This is the ATLAST aperture Lucie used in her PASTIS paper so I will be focusing on this, but without spiders."
   ]
  },
  {
   "cell_type": "code",
   "execution_count": null,
   "metadata": {
    "collapsed": true
   },
   "outputs": [],
   "source": [
    "hicat = make_hicat_aperture(normalized=True, with_spiders=False)\n",
    "hicat = evaluate_supersampled(hicat, pupil_grid, 2)\n",
    "\n",
    "imshow_field(hicat)"
   ]
  },
  {
   "cell_type": "markdown",
   "metadata": {},
   "source": [
    "## Coronagraph\n",
    "\n",
    "### Perfect coronagraph\n",
    "\n",
    "#### Circular aperture"
   ]
  },
  {
   "cell_type": "code",
   "execution_count": null,
   "metadata": {},
   "outputs": [],
   "source": [
    "# Create coronagraph propagator on aperture\n",
    "coro_perf = PerfectCoronagraph(circ)\n",
    "\n",
    "# Create a wavefront from aperture\n",
    "wf = Wavefront(circ)\n",
    "\n",
    "# Apply coronagraph propagator of wavefront to Lyot plane\n",
    "lyot_plane = coro_perf(wf)\n",
    "\n",
    "# Display\n",
    "imshow_field(np.log10(lyot_plane.intensity), vmin=-8, vmax=0)\n",
    "plt.colorbar()\n",
    "plt.show()"
   ]
  },
  {
   "cell_type": "code",
   "execution_count": null,
   "metadata": {},
   "outputs": [],
   "source": [
    "# Add Lyot stop and display image\n",
    "lyot_stop = Apodizer(circular_aperture(0.99)(pupil_grid))\n",
    "# circular aperture size is determined by grid it's made on. here the pupil --> 0.99*pupil_grid\n",
    "\n",
    "img = prop(lyot_stop(lyot_plane))\n",
    "img_ref = prop(wf)\n",
    "\n",
    "imshow_field(np.log10(img.intensity / img_ref.intensity.max()), vmin=-12)\n",
    "plt.title(\"Circular aperture perfect coronagraph\")\n",
    "plt.colorbar()\n",
    "plt.show()"
   ]
  },
  {
   "cell_type": "code",
   "execution_count": null,
   "metadata": {},
   "outputs": [],
   "source": [
    "# Compare to propagation without coronagraph\n",
    "imshow_field(np.log10(img_ref.intensity), vmin=-8, vmax=0)\n",
    "plt.title(\"Circular aperture reference image\")\n",
    "plt.colorbar()\n",
    "plt.show()"
   ]
  },
  {
   "cell_type": "markdown",
   "metadata": {},
   "source": [
    "#### Luvoir aperture"
   ]
  },
  {
   "cell_type": "code",
   "execution_count": null,
   "metadata": {
    "collapsed": true
   },
   "outputs": [],
   "source": [
    "# Create coronagraph propagator on aperture\n",
    "coro_perf = PerfectCoronagraph(luvoir)\n",
    "\n",
    "# Create a wavefront from aperture\n",
    "wf = Wavefront(luvoir)\n",
    "\n",
    "# Apply coronagraph propagator of wavefront to Lyot plane\n",
    "lyot_plane = coro_perf(wf)\n",
    "\n",
    "# Display\n",
    "imshow_field(np.log10(lyot_plane.intensity), vmin=-8, vmax=0)\n",
    "plt.colorbar()\n",
    "plt.show()"
   ]
  },
  {
   "cell_type": "code",
   "execution_count": null,
   "metadata": {
    "collapsed": true
   },
   "outputs": [],
   "source": [
    "# Add Lyot stop and display image\n",
    "lyot_stop = Apodizer(circular_aperture(0.99)(pupil_grid))   # circular Lyot stop on Luvoir aperture... not great but works\n",
    "\n",
    "img = prop(lyot_stop(lyot_plane))\n",
    "img_ref = prop(wf)\n",
    "\n",
    "imshow_field(np.log10(img.intensity / img_ref.intensity.max()), vmin=-12)\n",
    "plt.title(\"Luvoir aperture perfect coronagraph\")\n",
    "plt.colorbar()\n",
    "plt.show()"
   ]
  },
  {
   "cell_type": "code",
   "execution_count": null,
   "metadata": {
    "collapsed": true
   },
   "outputs": [],
   "source": [
    "# Compare to propagation without coronagraph\n",
    "imshow_field(np.log10(img_ref.intensity), vmin=-8, vmax=0)\n",
    "plt.title(\"Luvoir iaperture reference image\")\n",
    "plt.colorbar()\n",
    "plt.show()"
   ]
  },
  {
   "cell_type": "markdown",
   "metadata": {},
   "source": [
    "### HiCAT aperture"
   ]
  },
  {
   "cell_type": "code",
   "execution_count": null,
   "metadata": {
    "collapsed": true
   },
   "outputs": [],
   "source": [
    "# Create coronagraph propagator on aperture\n",
    "coro_perf = PerfectCoronagraph(hicat)\n",
    "\n",
    "# Create a wavefront from aperture\n",
    "wf = Wavefront(hicat)\n",
    "\n",
    "# Apply coronagraph propagator of wavefront to Lyot plane\n",
    "lyot_plane = coro_perf(wf)\n",
    "\n",
    "# Display\n",
    "imshow_field(np.log10(lyot_plane.intensity), vmin=-8, vmax=0)\n",
    "plt.colorbar()\n",
    "plt.show()"
   ]
  },
  {
   "cell_type": "code",
   "execution_count": null,
   "metadata": {
    "collapsed": true
   },
   "outputs": [],
   "source": [
    "# Add Lyot stop and display image\n",
    "lyot_stop = Apodizer(circular_aperture(0.99)(pupil_grid))\n",
    "\n",
    "img = prop(lyot_stop(lyot_plane))\n",
    "img_ref = prop(wf)\n",
    "\n",
    "imshow_field(np.log10(img.intensity / img_ref.intensity.max()), vmin=-12)\n",
    "plt.title(\"HiCAT aperture perfect coronagraph\")\n",
    "plt.colorbar()\n",
    "plt.show()"
   ]
  },
  {
   "cell_type": "code",
   "execution_count": null,
   "metadata": {
    "collapsed": true
   },
   "outputs": [],
   "source": [
    "# Compare to propagation without coronagraph\n",
    "imshow_field(np.log10(img_ref.intensity), vmin=-8, vmax=0)\n",
    "plt.title(\"HiCAT iaperture reference image\")\n",
    "plt.colorbar()\n",
    "plt.show()"
   ]
  },
  {
   "cell_type": "markdown",
   "metadata": {},
   "source": [
    "### Lyot coronagraph\n",
    "\n",
    "#### Circular aperture"
   ]
  },
  {
   "cell_type": "code",
   "execution_count": null,
   "metadata": {
    "collapsed": true
   },
   "outputs": [],
   "source": [
    "# Create a focal plane mask\n",
    "fpm = 1 - circular_aperture(4)(focal_grid)\n",
    "# here circular aperture size is on focal_grid, meanin in terms of lamnda/D\n",
    "\n",
    "# Create Lyot coronagraph on pupil grid with FPM\n",
    "coro_lyot = LyotCoronagraph(pupil_grid, fpm)\n",
    "\n",
    "# Create a wavefront from aperture\n",
    "wf = Wavefront(circ)\n",
    "\n",
    "# Apply coronagraph propagator of wavefront to Lyot plane\n",
    "lyot_plane = coro_lyot(wf)\n",
    "\n",
    "# Display\n",
    "imshow_field(np.log10(lyot_plane.intensity), vmin=-8, vmax=0)\n",
    "plt.title(\"Circ Lyot plane\")\n",
    "plt.colorbar()"
   ]
  },
  {
   "cell_type": "code",
   "execution_count": null,
   "metadata": {
    "collapsed": true
   },
   "outputs": [],
   "source": [
    "# Add Lyot stop and display image\n",
    "lyot_stop = Apodizer(circular_aperture(0.99)(pupil_grid))\n",
    "\n",
    "img = prop(lyot_stop(lyot_plane))\n",
    "img_ref = prop(wf)\n",
    "\n",
    "imshow_field(np.log10(img.intensity / img_ref.intensity.max()), vmin=-12)\n",
    "plt.title(\"Circular aperture Lyot coronagraph\")\n",
    "plt.colorbar()\n",
    "plt.show()"
   ]
  },
  {
   "cell_type": "markdown",
   "metadata": {},
   "source": [
    "## Generate ATLAST pupil\n",
    "\n",
    "Check Luvoir API for this, should be easy since I don't need spiders or omitting certain segments.\n",
    "\n",
    "Honestly, I just need the HiCAT pupil without the spiders, but it needs to return the segment coordinates."
   ]
  },
  {
   "cell_type": "code",
   "execution_count": null,
   "metadata": {
    "collapsed": true
   },
   "outputs": [],
   "source": [
    "def get_atlast_aperture(normalized=False, with_segment_gaps=True, segment_transmissions=1):\n",
    "    '''Make the ATLAST pupil mask.\n",
    "\n",
    "    This function is a copy of make_hicat_aperture(), except that it also returns the segment positions.\n",
    "\n",
    "    Parameters\n",
    "    ----------\n",
    "    normalized : boolean\n",
    "        If this is True, the outer diameter will be scaled to 1. Otherwise, the\n",
    "        diameter of the pupil will be 15.0 meters.\n",
    "    with_segment_gaps : boolean\n",
    "        Include the gaps between individual segments in the aperture.\n",
    "    segment_transmissions : scalar or array_like\n",
    "        The transmission for each of the segments. If this is a scalar, this transmission will\n",
    "        be used for all segments.\n",
    "\n",
    "    Returns\n",
    "    -------\n",
    "    Field generator\n",
    "        The ATLAST aperture.\n",
    "    CartesianGrid\n",
    "        The segment positions.\n",
    "    '''\n",
    "    pupil_diameter = 15. # m\n",
    "    segment_circum_diameter = 2 / np.sqrt(3) * pupil_diameter / 7\n",
    "    num_rings = 3\n",
    "    segment_gap = 1e-2\n",
    "\n",
    "    if not with_segment_gaps:\n",
    "        segment_gap = 0\n",
    "\n",
    "    if normalized:\n",
    "        segment_circum_diameter /= pupil_diameter\n",
    "        segment_gap /= pupil_diameter\n",
    "        pupil_diameter = 1.0\n",
    "\n",
    "    segment_positions = make_hexagonal_grid(segment_circum_diameter / 2 * np.sqrt(3), num_rings)\n",
    "    segment_positions = segment_positions.subset(lambda grid: ~(circular_aperture(segment_circum_diameter)(grid) > 0))\n",
    "\n",
    "    hexagon = hexagonal_aperture(segment_circum_diameter - segment_gap)\n",
    "    \n",
    "    def segment(grid):\n",
    "        return hexagon(grid.rotated(np.pi/2))\n",
    "\n",
    "    segmented_aperture = make_segmented_aperture(segment, segment_positions, segment_transmissions)\n",
    "\n",
    "    def func(grid):\n",
    "        res = segmented_aperture(grid)\n",
    "\n",
    "        return Field(res, grid)\n",
    "    return func, segment_positions"
   ]
  },
  {
   "cell_type": "code",
   "execution_count": null,
   "metadata": {
    "collapsed": true
   },
   "outputs": [],
   "source": [
    "atlast, seg_positions = get_atlast_aperture(normalized=True)\n",
    "atlast = evaluate_supersampled(atlast, pupil_grid, 2)\n",
    "\n",
    "imshow_field(atlast)"
   ]
  },
  {
   "cell_type": "code",
   "execution_count": null,
   "metadata": {
    "collapsed": true
   },
   "outputs": [],
   "source": [
    "print(\"x positions: \\n{}\".format(seg_positions.x))\n",
    "print(\"y positions: \\n{}\".format(seg_positions.y))"
   ]
  },
  {
   "cell_type": "markdown",
   "metadata": {},
   "source": [
    "Now from the slightly modified function in the new m odule for ATLAST and HCIPy coronagraphs."
   ]
  },
  {
   "cell_type": "code",
   "execution_count": null,
   "metadata": {
    "collapsed": true
   },
   "outputs": [],
   "source": [
    "import os\n",
    "os.chdir('../../pastis/')\n",
    "from config import CONFIG_INI\n",
    "import util_pastis as util"
   ]
  },
  {
   "cell_type": "code",
   "execution_count": null,
   "metadata": {
    "collapsed": true
   },
   "outputs": [],
   "source": [
    "import atlast_imaging as atim"
   ]
  },
  {
   "cell_type": "code",
   "execution_count": null,
   "metadata": {
    "collapsed": true
   },
   "outputs": [],
   "source": [
    "seg_coords = atim.get_atlast_aperture(outDir='/Users/ilaginja/', normalized=True)"
   ]
  },
  {
   "cell_type": "code",
   "execution_count": null,
   "metadata": {
    "collapsed": true
   },
   "outputs": [],
   "source": [
    "seg_position = np.zeros((36, 2))\n",
    "\n",
    "print(seg_coords.x.shape)\n",
    "print(seg_coords.y.shape)\n",
    "print(type(seg_coords.x))"
   ]
  },
  {
   "cell_type": "code",
   "execution_count": null,
   "metadata": {
    "collapsed": true
   },
   "outputs": [],
   "source": [
    "seg_position[3].shape"
   ]
  },
  {
   "cell_type": "markdown",
   "metadata": {},
   "source": [
    "## Mini-segment\n",
    "\n",
    "Figure out how to generate and propagate mini-segment, since that is needed for PASTIS. It's already there, but I will have to adjust how to deal with it."
   ]
  },
  {
   "cell_type": "code",
   "execution_count": null,
   "metadata": {
    "collapsed": true
   },
   "outputs": [],
   "source": [
    "mini = hexagonal_aperture(circum_diameter=1, angle=np.pi/2)\n",
    "mini = evaluate_supersampled(mini, pupil_grid, 4)\n",
    "\n",
    "imshow_field(mini)\n",
    "plt.show()"
   ]
  },
  {
   "cell_type": "code",
   "execution_count": null,
   "metadata": {
    "collapsed": true
   },
   "outputs": [],
   "source": [
    "wf = Wavefront(mini)\n",
    "test = prop(wf)"
   ]
  },
  {
   "cell_type": "code",
   "execution_count": null,
   "metadata": {
    "collapsed": true
   },
   "outputs": [],
   "source": [
    "imshow_field(np.log10(test.intensity))"
   ]
  },
  {
   "cell_type": "markdown",
   "metadata": {
    "collapsed": true
   },
   "source": [
    "`test` is a Wavefron object which means it is not really a 2D array:"
   ]
  },
  {
   "cell_type": "code",
   "execution_count": null,
   "metadata": {
    "collapsed": true
   },
   "outputs": [],
   "source": [
    "print(test.intensity.shape)"
   ]
  },
  {
   "cell_type": "markdown",
   "metadata": {},
   "source": [
    "You can access the 2D array easily though, which can be useful when needingn a cropped array:"
   ]
  },
  {
   "cell_type": "code",
   "execution_count": null,
   "metadata": {
    "collapsed": true
   },
   "outputs": [],
   "source": [
    "test2d = test.intensity.shaped\n",
    "print(test2d.shape)"
   ]
  },
  {
   "cell_type": "code",
   "execution_count": null,
   "metadata": {
    "collapsed": true
   },
   "outputs": [],
   "source": []
  }
 ],
 "metadata": {
  "kernelspec": {
   "display_name": "Python 3",
   "language": "python",
   "name": "python3"
  },
  "language_info": {
   "codemirror_mode": {
    "name": "ipython",
    "version": 3
   },
   "file_extension": ".py",
   "mimetype": "text/x-python",
   "name": "python",
   "nbconvert_exporter": "python",
   "pygments_lexer": "ipython3",
   "version": "3.6.8"
  }
 },
 "nbformat": 4,
 "nbformat_minor": 2
}
