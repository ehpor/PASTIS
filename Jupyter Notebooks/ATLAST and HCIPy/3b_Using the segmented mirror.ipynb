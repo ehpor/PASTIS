{
 "cells": [
  {
   "cell_type": "markdown",
   "metadata": {},
   "source": [
    "# Using the segmented mirror in HCIPy\n",
    "\n",
    "Just using the segmented mirror this time directly from the PASTIS module.\n",
    "\n",
    "The `SegmentedMirror()` works with any segmented aperture from `HCIPy`, provided you put it in a form where the aperture function also returns the segment positions. Currently I only have that for the HiCAT/ATLAST aperture, but it's not hard to make once you have an aperture functions, since the only thing is literally to add the segment positions as a return."
   ]
  },
  {
   "cell_type": "code",
   "execution_count": null,
   "metadata": {
    "collapsed": true
   },
   "outputs": [],
   "source": [
    "import os\n",
    "import numpy as np\n",
    "import matplotlib.pyplot as plt\n",
    "%matplotlib inline\n",
    "import astropy.units as u\n",
    "from hcipy import *\n",
    "\n",
    "os.chdir('../../pastis/')\n",
    "from config import CONFIG_INI\n",
    "import util_pastis as util\n",
    "import atlast_imaging as atim"
   ]
  },
  {
   "cell_type": "markdown",
   "metadata": {
    "collapsed": true
   },
   "source": [
    "### Instantiate an SM"
   ]
  },
  {
   "cell_type": "code",
   "execution_count": null,
   "metadata": {
    "collapsed": true
   },
   "outputs": [],
   "source": [
    "# Parameters\n",
    "npix = 1024\n",
    "wvln = 1\n",
    "lamD = 15\n",
    "samp = 4\n",
    "which_tel = CONFIG_INI.get('telescope', 'name')\n",
    "PUP_DIAMETER = CONFIG_INI.getfloat(which_tel, 'diameter')"
   ]
  },
  {
   "cell_type": "code",
   "execution_count": null,
   "metadata": {
    "collapsed": true
   },
   "outputs": [],
   "source": [
    "# HCIPy grids and propagator\n",
    "pupil_grid = make_pupil_grid(dims=1024, diameter=1)\n",
    "focal_grid = make_focal_grid(pupil_grid, samp, lamD)\n",
    "prop = FraunhoferPropagator(pupil_grid, focal_grid)"
   ]
  },
  {
   "cell_type": "code",
   "execution_count": null,
   "metadata": {},
   "outputs": [],
   "source": [
    "aper, seg_pos = atim.get_atlast_aperture(normalized=True)\n",
    "aper = evaluate_supersampled(aper, pupil_grid, 2)\n",
    "\n",
    "imshow_field(aper)\n",
    "plt.title('Aperture')"
   ]
  },
  {
   "cell_type": "code",
   "execution_count": null,
   "metadata": {
    "collapsed": true
   },
   "outputs": [],
   "source": [
    "# Instantiate the segmented mirror\n",
    "sm = atim.SegmentedMirror(aper, seg_pos)"
   ]
  },
  {
   "cell_type": "code",
   "execution_count": null,
   "metadata": {},
   "outputs": [],
   "source": [
    "# Make a pupil plane wavefront from aperture\n",
    "wf = Wavefront(aper, wavelength=wvln)\n",
    "imshow_field(wf.intensity)\n",
    "plt.title('Wavefront intensity')"
   ]
  },
  {
   "cell_type": "markdown",
   "metadata": {},
   "source": [
    "### Field at SM pupil plane"
   ]
  },
  {
   "cell_type": "code",
   "execution_count": null,
   "metadata": {},
   "outputs": [],
   "source": [
    "# Propagate the wf through the SM and display its intensity\n",
    "# and phase in that pupil plane, before propagation to image plane.\n",
    "wf_at_sm = sm(wf)\n",
    "\n",
    "plt.figure(figsize=(18, 9))\n",
    "plt.suptitle('WF prop through SM, still in pupil plane')\n",
    "\n",
    "plt.subplot(1, 2, 1)\n",
    "imshow_field(wf_at_sm.intensity, mask=aper)\n",
    "plt.title('Intensity')\n",
    "plt.colorbar()\n",
    "\n",
    "plt.subplot(1, 2, 2)\n",
    "imshow_field(wf_at_sm.phase, mask=aper, cmap='RdBu')\n",
    "plt.title('Phase')\n",
    "plt.colorbar()"
   ]
  },
  {
   "cell_type": "markdown",
   "metadata": {},
   "source": [
    "### Field in image plane after SM"
   ]
  },
  {
   "cell_type": "code",
   "execution_count": null,
   "metadata": {},
   "outputs": [],
   "source": [
    "# Propagate from SM to image plane and display intensity and phase\n",
    "im_ref = prop(sm(wf))\n",
    "\n",
    "plt.figure(figsize=(18, 9))\n",
    "plt.suptitle('Image plane after SM')\n",
    "\n",
    "plt.subplot(1, 2, 1)\n",
    "imshow_field(np.log10(im_ref.intensity))\n",
    "plt.title('Intensity')\n",
    "plt.colorbar()\n",
    "\n",
    "plt.subplot(1, 2, 2)\n",
    "imshow_field(im_ref.phase, cmap='RdBu')\n",
    "plt.title('Phase')\n",
    "plt.colorbar()"
   ]
  },
  {
   "cell_type": "markdown",
   "metadata": {},
   "source": [
    "### Aberrate some segments in tip and tilt"
   ]
  },
  {
   "cell_type": "code",
   "execution_count": null,
   "metadata": {},
   "outputs": [],
   "source": [
    "for i in [2, 34, 3, 19, 23,]:\n",
    "    sm.set_segment(i, 0, 2, 2)\n",
    "print(sm.coef)"
   ]
  },
  {
   "cell_type": "code",
   "execution_count": null,
   "metadata": {},
   "outputs": [],
   "source": [
    "# SM in pupil plane\n",
    "wf_at_sm = sm(wf)\n",
    "\n",
    "plt.figure(figsize=(18, 9))\n",
    "plt.suptitle('SM in pupil plane with tilts')\n",
    "\n",
    "plt.subplot(1, 2, 1)\n",
    "imshow_field(wf_at_sm.intensity, mask=aper)\n",
    "plt.title('Intensity')\n",
    "plt.colorbar()\n",
    "\n",
    "plt.subplot(1, 2, 2)\n",
    "imshow_field(wf_at_sm.phase, mask=aper, cmap='RdBu')\n",
    "plt.title('Phase')\n",
    "plt.colorbar()"
   ]
  },
  {
   "cell_type": "code",
   "execution_count": null,
   "metadata": {},
   "outputs": [],
   "source": [
    "# Image after SM with tilts\n",
    "im = prop(sm(wf))\n",
    "\n",
    "plt.figure(figsize=(18, 9))\n",
    "plt.suptitle('Image plane after SM with tilts')\n",
    "\n",
    "plt.subplot(1, 2, 1)\n",
    "imshow_field(np.log10(im.intensity))\n",
    "plt.title('Intensity')\n",
    "plt.colorbar()\n",
    "\n",
    "plt.subplot(1, 2, 2)\n",
    "imshow_field(im.phase, cmap='RdBu')\n",
    "plt.title('Phase')\n",
    "plt.colorbar()"
   ]
  },
  {
   "cell_type": "markdown",
   "metadata": {},
   "source": [
    "### Flatten the SM and put pistons on instead"
   ]
  },
  {
   "cell_type": "code",
   "execution_count": null,
   "metadata": {
    "collapsed": true
   },
   "outputs": [],
   "source": [
    "sm.flatten()"
   ]
  },
  {
   "cell_type": "code",
   "execution_count": null,
   "metadata": {},
   "outputs": [],
   "source": [
    "wf_at_sm = sm(wf)\n",
    "\n",
    "plt.figure(figsize=(18, 9))\n",
    "plt.suptitle('SM in pupil plane - flattened')\n",
    "\n",
    "plt.subplot(1, 2, 1)\n",
    "imshow_field(wf_at_sm.intensity, mask=aper)\n",
    "plt.title('Intensity')\n",
    "plt.colorbar()\n",
    "\n",
    "plt.subplot(1, 2, 2)\n",
    "imshow_field(wf_at_sm.phase, mask=aper, cmap='RdBu')\n",
    "plt.title('Phase')\n",
    "plt.colorbar()"
   ]
  },
  {
   "cell_type": "markdown",
   "metadata": {},
   "source": [
    "The wavefront phase is displayed in units of radians."
   ]
  },
  {
   "cell_type": "code",
   "execution_count": null,
   "metadata": {
    "collapsed": true
   },
   "outputs": [],
   "source": [
    "#for i in [2, 34, 3, 19, 23, 28, 14]:\n",
    "for i in [19, 28]:\n",
    "    sm.set_segment(i, 0.1, 0, 0)   # This input is in meters, the phasemap below is in radians though."
   ]
  },
  {
   "cell_type": "code",
   "execution_count": null,
   "metadata": {},
   "outputs": [],
   "source": [
    "# Pupil plane SM image\n",
    "wf_at_sm = sm(wf)\n",
    "\n",
    "plt.figure(figsize=(18, 9))\n",
    "plt.suptitle('SM in pupil plane - with pistons')\n",
    "\n",
    "plt.subplot(1, 2, 1)\n",
    "imshow_field(wf_at_sm.intensity, mask=aper)\n",
    "plt.title('Intensity')\n",
    "plt.colorbar()\n",
    "\n",
    "plt.subplot(1, 2, 2)\n",
    "imshow_field(wf_at_sm.phase, mask=aper, cmap='RdBu')\n",
    "plt.title('Phase')\n",
    "plt.colorbar()"
   ]
  },
  {
   "cell_type": "code",
   "execution_count": null,
   "metadata": {},
   "outputs": [],
   "source": [
    "# Image after SM with pistons\n",
    "im = prop(sm(wf))\n",
    "\n",
    "plt.figure(figsize=(18, 9))\n",
    "plt.suptitle('Image plane after SM with pistons')\n",
    "\n",
    "plt.subplot(1, 2, 1)\n",
    "imshow_field(np.log10(im.intensity))\n",
    "plt.title('Intensity')\n",
    "plt.colorbar()\n",
    "\n",
    "plt.subplot(1, 2, 2)\n",
    "imshow_field(im.phase, cmap='RdBu')\n",
    "plt.title('Phase')\n",
    "plt.colorbar()"
   ]
  },
  {
   "cell_type": "code",
   "execution_count": null,
   "metadata": {},
   "outputs": [],
   "source": [
    "# Display piston aberrated and reference image next to each other\n",
    "plt.figure(figsize=(18, 9))\n",
    "plt.suptitle('Reference image and piston image')\n",
    "\n",
    "plt.subplot(1, 2, 1)\n",
    "imshow_field(np.log10(im_ref.intensity))\n",
    "plt.title('Reference image')\n",
    "plt.colorbar()\n",
    "\n",
    "plt.subplot(1, 2, 2)\n",
    "imshow_field(np.log10(im.intensity))\n",
    "plt.title('Image with piston aberrations')\n",
    "plt.colorbar()"
   ]
  },
  {
   "cell_type": "code",
   "execution_count": null,
   "metadata": {
    "collapsed": true
   },
   "outputs": [],
   "source": []
  }
 ],
 "metadata": {
  "kernelspec": {
   "display_name": "Python 3",
   "language": "python",
   "name": "python3"
  },
  "language_info": {
   "codemirror_mode": {
    "name": "ipython",
    "version": 3
   },
   "file_extension": ".py",
   "mimetype": "text/x-python",
   "name": "python",
   "nbconvert_exporter": "python",
   "pygments_lexer": "ipython3",
   "version": "3.6.8"
  }
 },
 "nbformat": 4,
 "nbformat_minor": 2
}
