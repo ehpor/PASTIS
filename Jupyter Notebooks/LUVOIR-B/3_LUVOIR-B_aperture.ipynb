{
 "cells": [
  {
   "cell_type": "markdown",
   "id": "0eefc5ef",
   "metadata": {},
   "source": [
    "# Create LUVOIR B aperture\n",
    "\n",
    "Create a LUVOIR B aperture file, also with indexed aperture and segment positions in the file header."
   ]
  },
  {
   "cell_type": "code",
   "execution_count": null,
   "id": "9dd69226",
   "metadata": {},
   "outputs": [],
   "source": [
    "from astropy.io import fits\n",
    "import hcipy\n",
    "import matplotlib.pyplot as plt\n",
    "import numpy as np"
   ]
  },
  {
   "cell_type": "code",
   "execution_count": null,
   "id": "c1c3e44a",
   "metadata": {},
   "outputs": [],
   "source": [
    "# Create a pupil grid on which we will sample the aperture\n",
    "pup_grid = hcipy.make_pupil_grid((1024, 1024), 8.188)"
   ]
  },
  {
   "cell_type": "markdown",
   "id": "1661a7fe",
   "metadata": {},
   "source": [
    "## Create segmented aperture and header"
   ]
  },
  {
   "cell_type": "code",
   "execution_count": null,
   "id": "9e7d4206",
   "metadata": {},
   "outputs": [],
   "source": [
    "# Create the aperture generater, and evaluate it in a supersampled pupil grid to get the actual array\n",
    "# Also create the header that contains some basic info about the aperture\n",
    "luvoir_b_generator, header = hcipy.aperture.realistic.make_luvoir_b_aperture(return_header=True)\n",
    "luvoir_b = hcipy.evaluate_supersampled(luvoir_b_generator, pup_grid, 10)"
   ]
  },
  {
   "cell_type": "code",
   "execution_count": null,
   "id": "208b3699",
   "metadata": {},
   "outputs": [],
   "source": [
    "# Plot the aperture\n",
    "plt.figure(figsize=(8,8))\n",
    "hcipy.imshow_field(luvoir_b, cmap='Greys_r')"
   ]
  },
  {
   "cell_type": "code",
   "execution_count": null,
   "id": "d4c8bdc1",
   "metadata": {},
   "outputs": [],
   "source": [
    "# Write aperture to file\n",
    "hcipy.write_fits(luvoir_b, 'aperture_LUVOIR-B.fits')"
   ]
  },
  {
   "cell_type": "markdown",
   "id": "20661fc2",
   "metadata": {},
   "source": [
    "## Create indeced aperture and get segment positions"
   ]
  },
  {
   "cell_type": "code",
   "execution_count": null,
   "id": "eafef599",
   "metadata": {},
   "outputs": [],
   "source": [
    "# Create indices for 55 segments, starting with 0 on center segment\n",
    "indices = np.arange(55)"
   ]
  },
  {
   "cell_type": "markdown",
   "id": "200c59c8",
   "metadata": {},
   "source": [
    "#### ATTENTION !\n",
    "\n",
    "It's at this point that you have to hack the `hcipy` function `make_luvoir_b_aperture()` to return the list `segment_positions` which contains the segment center coordinates, rather than the segment generators `segments`."
   ]
  },
  {
   "cell_type": "code",
   "execution_count": null,
   "id": "b2c226df",
   "metadata": {},
   "outputs": [],
   "source": [
    "# Create the indexed aperture generater, and evaluate it on a supersampled pupil grid to get the actual array\n",
    "luvoir_b_generator_indexed, segs = hcipy.aperture.realistic.make_luvoir_b_aperture(segment_transmissions=indices,\n",
    "                                                                                   return_segments=True)\n",
    "luvoir_b_indexed = hcipy.evaluate_supersampled(luvoir_b_generator_indexed, pup_grid, 10)"
   ]
  },
  {
   "cell_type": "code",
   "execution_count": null,
   "id": "b7b04048",
   "metadata": {},
   "outputs": [],
   "source": [
    "# Plot the indexed segmented aperture and test x/y seg coordiantes with first three segments\n",
    "plt.figure(figsize=(8,8))\n",
    "hcipy.imshow_field(luvoir_b_indexed)\n",
    "for i, pair in zip(range(3), segs):\n",
    "    plt.plot(pair[0], pair[1], marker='o')"
   ]
  },
  {
   "cell_type": "code",
   "execution_count": null,
   "id": "babbf8d1",
   "metadata": {},
   "outputs": [],
   "source": [
    "# Check what format the header is - it's a dictionary\n",
    "header"
   ]
  },
  {
   "cell_type": "code",
   "execution_count": null,
   "id": "8c633c4c",
   "metadata": {},
   "outputs": [],
   "source": [
    "# Make an actual fits header out of it\n",
    "header_full = fits.Header(header.items())"
   ]
  },
  {
   "cell_type": "code",
   "execution_count": null,
   "id": "446ed231",
   "metadata": {},
   "outputs": [],
   "source": [
    "# Add all segment positions to header\n",
    "for i, pair in zip(range(55), segs):\n",
    "    #print(f'Index: {i}')\n",
    "    #print(f'X: {pair[0]}')\n",
    "    #print(f'Y: {pair[1]}')\n",
    "    header_full.set(f'SEG{i}_X', pair[0], f'x-position segment {i}')\n",
    "    header_full.set(f'SEG{i}_Y', pair[1], f'y-position segment {i}') "
   ]
  },
  {
   "cell_type": "code",
   "execution_count": null,
   "id": "0e965d67",
   "metadata": {},
   "outputs": [],
   "source": [
    "# Write indexed aperture to file, with header containing segment coordinates\n",
    "fits.writeto('aperture_LUVOIR-B_indexed.fits', luvoir_b_indexed.shaped, header_full, overwrite=True)"
   ]
  },
  {
   "cell_type": "code",
   "execution_count": null,
   "id": "820cccf3",
   "metadata": {},
   "outputs": [],
   "source": []
  }
 ],
 "metadata": {
  "kernelspec": {
   "display_name": "Python 3",
   "language": "python",
   "name": "python3"
  },
  "language_info": {
   "codemirror_mode": {
    "name": "ipython",
    "version": 3
   },
   "file_extension": ".py",
   "mimetype": "text/x-python",
   "name": "python",
   "nbconvert_exporter": "python",
   "pygments_lexer": "ipython3",
   "version": "3.7.10"
  }
 },
 "nbformat": 4,
 "nbformat_minor": 5
}
