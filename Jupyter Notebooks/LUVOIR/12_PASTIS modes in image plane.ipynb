{
 "cells": [
  {
   "cell_type": "markdown",
   "metadata": {},
   "source": [
    "# Working with individual PASTIS modes and their influence on the DZ"
   ]
  },
  {
   "cell_type": "code",
   "execution_count": null,
   "metadata": {},
   "outputs": [],
   "source": [
    "# Imports\n",
    "import os\n",
    "import numpy as np\n",
    "import matplotlib.pyplot as plt\n",
    "from matplotlib.colors import LogNorm\n",
    "%matplotlib inline\n",
    "from astropy.io import fits\n",
    "import astropy.units as u\n",
    "import hcipy as hc\n",
    "from hcipy.optics.segmented_mirror import SegmentedMirror\n",
    "\n",
    "os.chdir('../../pastis/')\n",
    "import util_pastis as util\n",
    "from e2e_simulators.luvoir_imaging import LuvoirAPLC"
   ]
  },
  {
   "cell_type": "code",
   "execution_count": null,
   "metadata": {},
   "outputs": [],
   "source": [
    "eunit = 1e-9"
   ]
  },
  {
   "cell_type": "markdown",
   "metadata": {},
   "source": [
    "## Instantiate Segmented mirror for plotting of primary"
   ]
  },
  {
   "cell_type": "code",
   "execution_count": null,
   "metadata": {},
   "outputs": [],
   "source": [
    "# Load aperture files needed for SM\n",
    "nseg = 120\n",
    "wvln = 638e-9\n",
    "\n",
    "datadir = '/Users/ilaginja/Documents/LabWork/ultra/LUVOIR_delivery_May2019/'\n",
    "aper_path = 'inputs/TelAp_LUVOIR_gap_pad01_bw_ovsamp04_N1000.fits'\n",
    "aper_ind_path = 'inputs/TelAp_LUVOIR_gap_pad01_bw_ovsamp04_N1000_indexed.fits'\n",
    "aper_read = hc.read_fits(os.path.join(datadir, aper_path))\n",
    "aper_ind_read = hc.read_fits(os.path.join(datadir, aper_ind_path))\n",
    "\n",
    "pupil_grid = hc.make_pupil_grid(dims=aper_ind_read.shape[0], diameter=15)\n",
    "aper = hc.Field(aper_read.ravel(), pupil_grid)\n",
    "aper_ind = hc.Field(aper_ind_read.ravel(), pupil_grid)\n",
    "\n",
    "wf_aper = hc.Wavefront(aper, wvln)\n",
    "\n",
    "# Load segment positions from fits header\n",
    "hdr = fits.getheader(os.path.join(datadir, aper_ind_path))\n",
    "\n",
    "poslist = []\n",
    "for i in range(nseg):\n",
    "    segname = 'SEG' + str(i+1)\n",
    "    xin = hdr[segname + '_X']\n",
    "    yin = hdr[segname + '_Y']\n",
    "    poslist.append((xin, yin))\n",
    "    \n",
    "poslist = np.transpose(np.array(poslist))\n",
    "seg_pos = hc.CartesianGrid(poslist)"
   ]
  },
  {
   "cell_type": "code",
   "execution_count": null,
   "metadata": {},
   "outputs": [],
   "source": [
    "# Instantiate SM\n",
    "sm = SegmentedMirror(aper_ind, seg_pos)"
   ]
  },
  {
   "cell_type": "markdown",
   "metadata": {},
   "source": [
    "## Instantiate LUVOIR telescope for full functionality"
   ]
  },
  {
   "cell_type": "code",
   "execution_count": null,
   "metadata": {},
   "outputs": [],
   "source": [
    "# Instantiate LUVOIR\n",
    "sampling = 4\n",
    "apodizer_design = 'medium'\n",
    "# This path is specific to the paths used in the LuvoirAPLC class\n",
    "optics_input = '/Users/ilaginja/Documents/LabWork/ultra/LUVOIR_delivery_May2019/'\n",
    "\n",
    "luvoir = LuvoirAPLC(optics_input, apodizer_design, sampling)"
   ]
  },
  {
   "cell_type": "code",
   "execution_count": null,
   "metadata": {},
   "outputs": [],
   "source": [
    "# Make reference image\n",
    "luvoir.flatten()\n",
    "psf_unaber, ref = luvoir.calc_psf(ref=True)\n",
    "norm = ref.max()"
   ]
  },
  {
   "cell_type": "code",
   "execution_count": null,
   "metadata": {},
   "outputs": [],
   "source": [
    "# Make dark hole\n",
    "dh_outer = hc.circular_aperture(2*luvoir.apod_dict[apodizer_design]['owa'] * luvoir.lam_over_d)(luvoir.focal_det)\n",
    "dh_inner = hc.circular_aperture(2*luvoir.apod_dict[apodizer_design]['iwa'] * luvoir.lam_over_d)(luvoir.focal_det)\n",
    "dh_mask = (dh_outer - dh_inner).astype('bool')\n",
    "\n",
    "plt.figure(figsize=(18, 6))\n",
    "plt.subplot(131)\n",
    "hc.imshow_field(psf_unaber/norm, norm=LogNorm())\n",
    "plt.subplot(132)\n",
    "hc.imshow_field(dh_mask)\n",
    "plt.subplot(133)\n",
    "hc.imshow_field(psf_unaber/norm, norm=LogNorm(), mask=dh_mask)"
   ]
  },
  {
   "cell_type": "code",
   "execution_count": null,
   "metadata": {},
   "outputs": [],
   "source": [
    "dh_intensity = psf_unaber/norm * dh_mask\n",
    "baseline_contrast = np.mean(dh_intensity[np.where(dh_intensity != 0)])\n",
    "print('contrast:', baseline_contrast)"
   ]
  },
  {
   "cell_type": "code",
   "execution_count": null,
   "metadata": {},
   "outputs": [],
   "source": [
    "# Which directory are we working in?\n",
    "savedpath = '/Users/ilaginja/Documents/data_from_repos/pastis_data/2019-8-07_002_1nm'    # small apodizer LUVOIR\n",
    "\n",
    "# Load eigenvalues - lowest first, highest at the end\n",
    "evals = np.loadtxt(os.path.join(savedpath, 'results', 'singular_values.txt'))\n",
    "print('evals.shape: {}'.format(evals.shape))\n",
    "\n",
    "# Load eigenmodes - piston value per segment per mode\n",
    "emodes = np.loadtxt(os.path.join(savedpath, 'results', 'singular_modes.txt'))\n",
    "print('emodes.shape: {}'.format(emodes.shape))"
   ]
  },
  {
   "cell_type": "code",
   "execution_count": null,
   "metadata": {},
   "outputs": [],
   "source": [
    "mode = 115   # We start numbering at 0 here, 0-35 (Python nunmbering!)\n",
    "\n",
    "sm.flatten()\n",
    "for seg, val in enumerate(emodes[:, mode]):\n",
    "    #print(val)\n",
    "    sm.set_segment(seg+1, eunit*val/2, 0, 0)\n",
    "\n",
    "# Propagate WF and display SM phase\n",
    "wf_sm = sm(wf_aper)\n",
    "\n",
    "hc.imshow_field(wf_sm.phase, cmap='RdBu')\n",
    "plt.colorbar()"
   ]
  },
  {
   "cell_type": "code",
   "execution_count": null,
   "metadata": {},
   "outputs": [],
   "source": [
    "# its singular values:\n",
    "print(evals[mode])"
   ]
  },
  {
   "cell_type": "code",
   "execution_count": null,
   "metadata": {},
   "outputs": [],
   "source": [
    "lam_p = evals[mode]\n",
    "c = 1e-10\n",
    "sigma_p = np.sqrt(c/lam_p)\n",
    "print(sigma_p)"
   ]
  },
  {
   "cell_type": "code",
   "execution_count": null,
   "metadata": {},
   "outputs": [],
   "source": [
    "opd = emodes[:, mode] * sigma_p\n",
    "rms = np.sqrt(np.mean(np.square(opd)) - np.square(np.mean(opd)))\n",
    "print(np.std(opd))"
   ]
  },
  {
   "cell_type": "code",
   "execution_count": null,
   "metadata": {},
   "outputs": [],
   "source": [
    "luvoir.flatten()\n",
    "for seg, val in enumerate(opd):\n",
    "    luvoir.set_segment(seg+1, eunit*val/2, 0, 0)\n",
    "\n",
    "# Get PSF from putting this OPD on the SM\n",
    "psf = luvoir.calc_psf()\n",
    "\n",
    "# Calculate the contrast from that PSF\n",
    "dh_intensity = psf/norm * dh_mask\n",
    "contrast = np.mean(dh_intensity[np.where(dh_mask != 0)])\n",
    "print(contrast)\n",
    "\n",
    "hc.imshow_field(np.log10(psf))"
   ]
  },
  {
   "cell_type": "code",
   "execution_count": null,
   "metadata": {},
   "outputs": [],
   "source": [
    "print(opd)\n",
    "print(emodes[:, mode])"
   ]
  },
  {
   "cell_type": "code",
   "execution_count": null,
   "metadata": {},
   "outputs": [],
   "source": []
  }
 ],
 "metadata": {
  "kernelspec": {
   "display_name": "Python 3",
   "language": "python",
   "name": "python3"
  },
  "language_info": {
   "codemirror_mode": {
    "name": "ipython",
    "version": 3
   },
   "file_extension": ".py",
   "mimetype": "text/x-python",
   "name": "python",
   "nbconvert_exporter": "python",
   "pygments_lexer": "ipython3",
   "version": "3.7.3"
  }
 },
 "nbformat": 4,
 "nbformat_minor": 2
}
