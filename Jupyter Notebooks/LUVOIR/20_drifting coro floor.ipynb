{
 "cells": [
  {
   "cell_type": "markdown",
   "metadata": {},
   "source": [
    "# Drifting coro floor\n",
    "\n",
    "Incorporating a drifting coro floor into the calculation of the PASTIS matrix"
   ]
  },
  {
   "cell_type": "markdown",
   "metadata": {},
   "source": [
    "## Motivation\n",
    "\n",
    "Throughout all our previous work, the coronagraph floor (contrast floor) $c_0$ has been assumed to be constant across the time we need to measure the full PASTIS matrix. As we have seen on HiCAT though, this is not the case, so we need to allow for a drifting contrast floor in the semi-analytic calculation of the PASTIS matrix.\n",
    "\n",
    "## Reminder: static coro floor\n",
    "\n",
    "In the JATIS 2021 paper, we have Eq. 15:\n",
    "\n",
    "$$c_{ij} = c_0 + a_c^2 m_{ii} + a_c^2 m_{jj} + 2 a_c^2 m_{ij}$$\n",
    "\n",
    "Solving for the diagonal elements $m_{ii}$ yields ($m_{ij} = 0$):\n",
    "\n",
    "$$m_{ii} = \\frac{c_{ii} - c_0}{a_c^2}$$\n",
    "\n",
    "Using the above and solving for $m_{ij}$ yields:\n",
    "\n",
    "$$m_{ij} = \\frac{c_{ij} + c_0 - c_{ii} - c_{jj}}{2 a_c^2}$$\n",
    "\n",
    "## Development for drifting coro floor\n",
    "\n",
    "The above assumes that $c_0$ stays constant across all measurements of $c_{ij}$. This is not true on HiCAT, so we have to work in a $c_0$ that depends on $c_{ij}$. We can do this starting from the Eq. 15 in the JATIS paper (see above). The equation for the diagonal elements $m_{ii}$ stays the same, but we now want to derive the non-diagonal elements from the already calculated diagonal elements, not the $c_{ij}$. In that way, each measurement $c_{ij}$, and each matrix element $m_{ij}$ only depends on its specific, time-dependent measurement of $c_0$.\n",
    "\n",
    "In this case:\n",
    "\n",
    "$$m_{ii} = \\frac{c_{ii} - c_{0ij}}{a_c^2}$$\n",
    "\n",
    "and:\n",
    "\n",
    "$$m_{ij} = \\frac{c_{ij} - c_{0ij}}{2 a_c^2} - \\frac{m_{ii}}{2} - \\frac{m_{jj}}{2}$$"
   ]
  },
  {
   "cell_type": "markdown",
   "metadata": {},
   "source": [
    "## 1: Making sure constant $c_0$ still works after refactor\n",
    "\n",
    "### Comparing some matrix results"
   ]
  },
  {
   "cell_type": "code",
   "execution_count": null,
   "metadata": {},
   "outputs": [],
   "source": [
    "import os\n",
    "from astropy.io import fits\n",
    "import matplotlib.pyplot as plt\n",
    "import numpy as np\n",
    "\n",
    "from pastis.matrix_building_numerical import pastis_from_contrast_matrix\n",
    "import pastis.util"
   ]
  },
  {
   "cell_type": "code",
   "execution_count": null,
   "metadata": {},
   "outputs": [],
   "source": [
    "fname_old = '/Users/ilaginja/data_from_repos/pastis_data/2021-01-08T23-22-15_luvoir-small_develop/matrix_numerical/PASTISmatrix_num_piston_Noll1.fits'\n",
    "fname_new = '/Users/ilaginja/data_from_repos/pastis_data/2021-01-09T01-01-53_luvoir-small_drift_0842c7/matrix_numerical/PASTISmatrix_num_piston_Noll1.fits'"
   ]
  },
  {
   "cell_type": "code",
   "execution_count": null,
   "metadata": {},
   "outputs": [],
   "source": [
    "pmatrix_old = fits.getdata(fname_old)\n",
    "pmatrix_new = fits.getdata(fname_new)"
   ]
  },
  {
   "cell_type": "code",
   "execution_count": null,
   "metadata": {},
   "outputs": [],
   "source": [
    "plt.figure(figsize=(15, 5))\n",
    "\n",
    "plt.subplot(1, 3, 1)\n",
    "plt.imshow(pmatrix_old, origin='lower')\n",
    "plt.title('pmatrix_old')\n",
    "plt.colorbar()\n",
    "\n",
    "plt.subplot(1, 3, 2)\n",
    "plt.imshow(pmatrix_new, origin='lower')\n",
    "plt.title('pmatrix_new')\n",
    "plt.colorbar()\n",
    "\n",
    "plt.subplot(1, 3, 3)\n",
    "plt.imshow(pmatrix_old - pmatrix_new, origin='lower')\n",
    "plt.title('diff')\n",
    "\n",
    "plt.colorbar()"
   ]
  },
  {
   "cell_type": "code",
   "execution_count": null,
   "metadata": {},
   "outputs": [],
   "source": [
    "print(pmatrix_old[50,50])\n",
    "print(pmatrix_new[50,50])\n",
    "print(pmatrix_old[50,50] - pmatrix_new[50,50])"
   ]
  },
  {
   "cell_type": "code",
   "execution_count": null,
   "metadata": {},
   "outputs": [],
   "source": [
    "print(pmatrix_old[45,111])\n",
    "print(pmatrix_new[45,111])\n",
    "print(pmatrix_old[45,111] - pmatrix_new[45,111])"
   ]
  },
  {
   "cell_type": "code",
   "execution_count": null,
   "metadata": {},
   "outputs": [],
   "source": [
    "a = np.array([[1,2,3,],[4,5,6],[7,8,9]])\n",
    "b = np.array([[1,24,3,],[4,15,6],[7,28,9]])"
   ]
  },
  {
   "cell_type": "code",
   "execution_count": null,
   "metadata": {},
   "outputs": [],
   "source": [
    "print(a)\n",
    "print(b)"
   ]
  },
  {
   "cell_type": "code",
   "execution_count": null,
   "metadata": {},
   "outputs": [],
   "source": [
    "print(np.diag(b))"
   ]
  },
  {
   "cell_type": "code",
   "execution_count": null,
   "metadata": {},
   "outputs": [],
   "source": [
    "np.fill_diagonal(a, np.diag(b))\n",
    "print(a)"
   ]
  },
  {
   "cell_type": "markdown",
   "metadata": {},
   "source": [
    "### Compare contrast matrices"
   ]
  },
  {
   "cell_type": "code",
   "execution_count": null,
   "metadata": {},
   "outputs": [],
   "source": [
    "cname_new = '/Users/ilaginja/data_from_repos/pastis_data/2021-01-08T13-02-27_luvoir-small/matrix_numerical/contrast_matrix.fits'\n",
    "cname_old = '/Users/ilaginja/data_from_repos/pastis_data/2021-01-08T14-47-37_luvoir-small/matrix_numerical/pair-wise_contrasts.fits'\n",
    "cname_new_norm_at_end = '/Users/ilaginja/data_from_repos/pastis_data/2021-01-08T19-28-09_luvoir-small/matrix_numerical/contrast_matrix.fits'"
   ]
  },
  {
   "cell_type": "code",
   "execution_count": null,
   "metadata": {},
   "outputs": [],
   "source": [
    "cm_new = fits.getdata(cname_new)\n",
    "cm_old_subtracted = fits.getdata(cname_old)\n",
    "cm_new_end = fits.getdata(cname_new_norm_at_end)"
   ]
  },
  {
   "cell_type": "code",
   "execution_count": null,
   "metadata": {},
   "outputs": [],
   "source": [
    "# cm_old had the coro floor subtracted, so I have to readd it - but only to the filled half of the matrix\n",
    "coro_floor_old = 4.315823935036038e-11\n",
    "coro_floor_matrix = np.zeros((120, 120))\n",
    "seg_combos = list(pastis.util.segment_pairs_non_repeating(120))\n",
    "len(seg_combos)"
   ]
  },
  {
   "cell_type": "code",
   "execution_count": null,
   "metadata": {},
   "outputs": [],
   "source": [
    "for pair in pastis.util.segment_pairs_non_repeating(120):    # this util function returns a generator\n",
    "    if pair[0] != pair[1]:    # exclude diagonal elements\n",
    "        coro_floor_matrix[pair[0], pair[1]] = coro_floor_old\n",
    "# Fill diagonal\n",
    "np.fill_diagonal(coro_floor_matrix, coro_floor_old)"
   ]
  },
  {
   "cell_type": "code",
   "execution_count": null,
   "metadata": {},
   "outputs": [],
   "source": [
    "cm_old = cm_old_subtracted + coro_floor_matrix"
   ]
  },
  {
   "cell_type": "code",
   "execution_count": null,
   "metadata": {},
   "outputs": [],
   "source": [
    "plt.figure(figsize=(10, 10))\n",
    "\n",
    "plt.subplot(2, 2, 1)\n",
    "plt.imshow(cm_new, origin='lower')\n",
    "plt.title('cm_new')\n",
    "plt.colorbar()\n",
    "\n",
    "plt.subplot(2, 2, 2)\n",
    "plt.imshow(cm_old, origin='lower')\n",
    "plt.title('cm_old')\n",
    "plt.colorbar()\n",
    "\n",
    "plt.subplot(2, 2, 3)\n",
    "plt.imshow(cm_new_end, origin='lower')\n",
    "plt.title('cm_old_end')\n",
    "plt.colorbar()\n",
    "\n",
    "plt.subplot(2, 2, 4)\n",
    "plt.imshow(cm_old-cm_new_end, origin='lower')\n",
    "plt.title('diff')\n",
    "plt.colorbar()"
   ]
  },
  {
   "cell_type": "code",
   "execution_count": null,
   "metadata": {},
   "outputs": [],
   "source": [
    "print(cm_old[50,50])\n",
    "print(cm_new_end[50,50])\n",
    "print(cm_old[50,50] - cm_new_end[50,50])\n",
    "print(np.min(cm_old-cm_new_end))"
   ]
  },
  {
   "cell_type": "code",
   "execution_count": null,
   "metadata": {},
   "outputs": [],
   "source": [
    "# Top left triangle\n",
    "print(cm_old[111,45])\n",
    "print(cm_new_end[111,45])\n",
    "print(cm_old[111,45] - cm_new_end[111,45])"
   ]
  },
  {
   "cell_type": "code",
   "execution_count": null,
   "metadata": {},
   "outputs": [],
   "source": [
    "# Bottom right triangle\n",
    "print(cm_old[45,111])\n",
    "print(cm_new_end[45,111])\n",
    "print(cm_old[45,111] - cm_new_end[45,111])"
   ]
  },
  {
   "cell_type": "markdown",
   "metadata": {},
   "source": [
    "The contrat matrices are exactly the same, which is good. Now I can start debugging the analytical calculation procedure for the PASTIS matrix.\n",
    "I'll have a brief look at the difference anyway."
   ]
  },
  {
   "cell_type": "code",
   "execution_count": null,
   "metadata": {},
   "outputs": [],
   "source": [
    "diff = cm_old - cm_new"
   ]
  },
  {
   "cell_type": "code",
   "execution_count": null,
   "metadata": {},
   "outputs": [],
   "source": [
    "plt.figure(figsize=(10,10))\n",
    "plt.imshow(diff)\n",
    "plt.xlim(95,119)\n",
    "plt.ylim(85, 119)\n",
    "plt.colorbar()"
   ]
  },
  {
   "cell_type": "code",
   "execution_count": null,
   "metadata": {},
   "outputs": [],
   "source": [
    "print(diff[100,100])\n",
    "print(diff[114,114])"
   ]
  },
  {
   "cell_type": "markdown",
   "metadata": {},
   "source": [
    "### Calculate $M$ from $C$"
   ]
  },
  {
   "cell_type": "code",
   "execution_count": null,
   "metadata": {},
   "outputs": [],
   "source": [
    "seglist = pastis.util.get_segment_list('LUVOIR')\n",
    "\n",
    "# need uubtracted contrast matrices\n",
    "#contrast_matrix = cm_old_subtracted\n",
    "contrast_matrix = cm_new - coro_floor_matrix\n",
    "#contrast_matrix = cm_new_end - coro_floor_matrix"
   ]
  },
  {
   "cell_type": "code",
   "execution_count": null,
   "metadata": {},
   "outputs": [],
   "source": [
    "## OLD WAY SHORT\n",
    "# make sure you're at the old commit\n",
    "matrix_pastis_dev_short = pastis_from_contrast_matrix(contrast_matrix, seglist, 1e-9)"
   ]
  },
  {
   "cell_type": "code",
   "execution_count": null,
   "metadata": {},
   "outputs": [],
   "source": [
    "plt.figure(figsize=(15, 5))\n",
    "\n",
    "plt.subplot(1, 3, 1)\n",
    "plt.imshow(matrix_pastis_dev_short, origin='lower')\n",
    "plt.title('matrix_pastis_short')\n",
    "plt.colorbar()\n",
    "\n",
    "plt.subplot(1, 3, 2)\n",
    "plt.imshow(pmatrix_old, origin='lower')\n",
    "plt.title('pmatrix_old')\n",
    "plt.colorbar()\n",
    "\n",
    "plt.subplot(1, 3, 3)\n",
    "plt.imshow(matrix_pastis_dev_short - pmatrix_old, origin='lower')\n",
    "plt.title('diff')\n",
    "plt.colorbar()"
   ]
  },
  {
   "cell_type": "markdown",
   "metadata": {},
   "source": [
    "Difference is zero, as it should be. Good, moving on."
   ]
  },
  {
   "cell_type": "code",
   "execution_count": null,
   "metadata": {},
   "outputs": [],
   "source": [
    "## OLD WAY\n",
    "# make sure you're at the old commit\n",
    "\n",
    "# Create future (half filled) PASTIS matrix\n",
    "matrix_pastis_half = np.copy(contrast_matrix)     # This will be the final PASTIS matrix.\n",
    "\n",
    "# Calculate the off-axis elements in the (half) PASTIS matrix\n",
    "for pair in pastis.util.segment_pairs_non_repeating(contrast_matrix.shape[0]):    # this util function returns a generator\n",
    "    if pair[0] != pair[1]:    # exclude diagonal elements\n",
    "        matrix_off_val = (contrast_matrix[pair[0], pair[1]] - contrast_matrix[pair[0], pair[0]] - contrast_matrix[pair[1], pair[1]]) / 2.\n",
    "        matrix_pastis_half[pair[0], pair[1]] = matrix_off_val\n",
    "        print(f'Off-axis for i{seglist[pair[0]]}-j{seglist[pair[1]]}: {matrix_off_val}')"
   ]
  },
  {
   "cell_type": "code",
   "execution_count": null,
   "metadata": {},
   "outputs": [],
   "source": [
    "# Symmetrize the half-PASTIS matrix\n",
    "print('Symmetrizing PASTIS matrix')\n",
    "matrix_pastis_dev = pastis.util.symmetrize(matrix_pastis_half)"
   ]
  },
  {
   "cell_type": "code",
   "execution_count": null,
   "metadata": {},
   "outputs": [],
   "source": [
    "print('Normalizing PASTIS matrix')\n",
    "matrix_pastis_dev /= np.square(1e-9 * 1e9)"
   ]
  },
  {
   "cell_type": "code",
   "execution_count": null,
   "metadata": {},
   "outputs": [],
   "source": [
    "plt.figure(figsize=(15, 5))\n",
    "\n",
    "plt.subplot(1, 3, 1)\n",
    "plt.imshow(matrix_pastis_dev, origin='lower')\n",
    "plt.colorbar()\n",
    "\n",
    "plt.subplot(1, 3, 2)\n",
    "plt.imshow(pmatrix_old, origin='lower')\n",
    "plt.colorbar()\n",
    "\n",
    "plt.subplot(1, 3, 3)\n",
    "plt.imshow(matrix_pastis_dev - pmatrix_old, origin='lower')\n",
    "plt.colorbar()"
   ]
  },
  {
   "cell_type": "markdown",
   "metadata": {},
   "source": [
    "Ok this means I can reporoduce the old way step by step, both with the old as well as with the new contrast matrix. Whether the normalization happens at the beginning or at the end does not change the result."
   ]
  },
  {
   "cell_type": "code",
   "execution_count": null,
   "metadata": {},
   "outputs": [],
   "source": [
    "seglist = pastis.util.get_segment_list('LUVOIR')\n",
    "wfe_aber = 1e-9\n",
    "\n",
    "# need unsubtracted contrast matrices\n",
    "contrast_matrix = cm_old\n",
    "#contrast_matrix = cm_new #- coro_floor_matrix\n",
    "#contrast_matrix = cm_new_end"
   ]
  },
  {
   "cell_type": "code",
   "execution_count": null,
   "metadata": {},
   "outputs": [],
   "source": [
    "# NEW WAY SHORT\n",
    "# make sure you're at the new commit\n",
    "matrix_pastis_commit = pastis_from_contrast_matrix(contrast_matrix, seglist, wfe_aber, coro_floor_old)"
   ]
  },
  {
   "cell_type": "code",
   "execution_count": null,
   "metadata": {},
   "outputs": [],
   "source": [
    "plt.figure(figsize=(15, 5))\n",
    "\n",
    "plt.subplot(1, 3, 1)\n",
    "plt.imshow(matrix_pastis_commit, origin='lower')\n",
    "plt.colorbar()\n",
    "\n",
    "plt.subplot(1, 3, 2)\n",
    "plt.imshow(pmatrix_old, origin='lower')\n",
    "plt.colorbar()\n",
    "\n",
    "plt.subplot(1, 3, 3)\n",
    "plt.imshow(matrix_pastis_commit - pmatrix_old, origin='lower')\n",
    "plt.colorbar()"
   ]
  },
  {
   "cell_type": "code",
   "execution_count": null,
   "metadata": {},
   "outputs": [],
   "source": [
    "# NEW WAY"
   ]
  },
  {
   "cell_type": "code",
   "execution_count": null,
   "metadata": {},
   "outputs": [],
   "source": [
    "# Normalization\n",
    "print('Normalization')\n",
    "contrast_matrix /= np.square(wfe_aber * 1e9)  # 1e9 converts the calibration aberration back to nanometers\n",
    "coro_floor = coro_floor_old / np.square(wfe_aber * 1e9)"
   ]
  },
  {
   "cell_type": "code",
   "execution_count": null,
   "metadata": {},
   "outputs": [],
   "source": [
    "# Create future (half filled) PASTIS matrix\n",
    "matrix_pastis_half = np.zeros_like(contrast_matrix)     # This will be the final PASTIS matrix.\n",
    "#matrix_pastis_half = np.copy(contrast_matrix)\n",
    "\n",
    "# First calculate the on-axis elements, which just need to have the coronagraph floor subtracted\n",
    "np.fill_diagonal(matrix_pastis_half, np.diag(contrast_matrix)-coro_floor)\n",
    "#log.info('On-axis elements of PASTIS matrix calculated')\n",
    "\n",
    "# Calculate the off-axis elements in the (half) PASTIS matrix\n",
    "for pair in pastis.util.segment_pairs_non_repeating(contrast_matrix.shape[0]):    # this util function returns a generator\n",
    "    if pair[0] != pair[1]:    # exclude diagonal elements\n",
    "        matrix_off_val = (contrast_matrix[pair[0], pair[1]] + coro_floor - contrast_matrix[pair[0], pair[0]] - contrast_matrix[pair[1], pair[1]]) / 2.\n",
    "        matrix_pastis_half[pair[0], pair[1]] = matrix_off_val\n",
    "        #print(f'Off-axis for i{seglist[pair[0]]}-j{seglist[pair[1]]}: {matrix_off_val}')"
   ]
  },
  {
   "cell_type": "code",
   "execution_count": null,
   "metadata": {},
   "outputs": [],
   "source": [
    "# Symmetrize the half-PASTIS matrix\n",
    "print('Symmetrizing PASTIS matrix')\n",
    "matrix_pastis_commit = pastis.util.symmetrize(matrix_pastis_half)"
   ]
  },
  {
   "cell_type": "code",
   "execution_count": null,
   "metadata": {},
   "outputs": [],
   "source": [
    "# Old off-axis calculation\n",
    "\n",
    "# Create future (half filled) PASTIS matrix\n",
    "matrix_pastis_half = np.copy(contrast_matrix)    # This will be the final PASTIS matrix.\n",
    "\n",
    "# Calculate the off-axis elements in the (half) PASTIS matrix\n",
    "for pair in pastis.util.segment_pairs_non_repeating(contrast_matrix.shape[0]):    # this util function returns a generator\n",
    "    if pair[0] != pair[1]:    # exclude diagonal elements\n",
    "        matrix_off_val = (contrast_matrix[pair[0], pair[1]] - contrast_matrix[pair[0], pair[0]] - contrast_matrix[pair[1], pair[1]]) / 2.\n",
    "        matrix_pastis_half[pair[0], pair[1]] = matrix_off_val\n",
    "        print(f'Off-axis for i{seglist[pair[0]]}-j{seglist[pair[1]]}: {matrix_off_val}')"
   ]
  },
  {
   "cell_type": "code",
   "execution_count": null,
   "metadata": {},
   "outputs": [],
   "source": [
    "plt.figure(figsize=(15, 5))\n",
    "\n",
    "plt.subplot(1, 3, 1)\n",
    "plt.imshow(matrix_pastis_commit, origin='lower')\n",
    "plt.colorbar()\n",
    "\n",
    "plt.subplot(1, 3, 2)\n",
    "plt.imshow(pmatrix_old, origin='lower')\n",
    "plt.colorbar()\n",
    "\n",
    "plt.subplot(1, 3, 3)\n",
    "plt.imshow(matrix_pastis_commit - pmatrix_old, origin='lower')\n",
    "plt.colorbar()"
   ]
  },
  {
   "cell_type": "code",
   "execution_count": null,
   "metadata": {},
   "outputs": [],
   "source": [
    "matrix_pastis_half = np.zeros_like(contrast_matrix)\n",
    "np.fill_diagonal(matrix_pastis_half, np.diag(contrast_matrix))\n",
    "plt.imshow(matrix_pastis_half)\n",
    "plt.colorbar()"
   ]
  },
  {
   "cell_type": "code",
   "execution_count": null,
   "metadata": {},
   "outputs": [],
   "source": [
    "zer = np.zeros_like(contrast_matrix)\n",
    "plt.imshow(zer)\n",
    "plt.colorbar()"
   ]
  },
  {
   "cell_type": "code",
   "execution_count": null,
   "metadata": {},
   "outputs": [],
   "source": [
    "zer -= coro_floor_old\n",
    "plt.imshow(zer)\n",
    "plt.colorbar()"
   ]
  },
  {
   "cell_type": "code",
   "execution_count": null,
   "metadata": {},
   "outputs": [],
   "source": [
    "zer = np.triu(zer)\n",
    "plt.imshow(zer)\n",
    "plt.colorbar()"
   ]
  },
  {
   "cell_type": "markdown",
   "metadata": {},
   "source": [
    "## 2: Making sure it works for a drifting $c_0$\n",
    "\n",
    "To make sure this works well, I will use one of the contrast matrices above (they're all the same). I will generate a contrast floor matrix containing random values, remembering it needs to only be the \"upper\" triangle (`np.triu()`) and the rest zero. Then I will see whether the code produces a correct PASTIS matrix."
   ]
  },
  {
   "cell_type": "code",
   "execution_count": null,
   "metadata": {},
   "outputs": [],
   "source": [
    "coro_floor_matrix_full = np.random.normal(loc=0, scale=0.1, size=(120,120)) * coro_floor_old"
   ]
  },
  {
   "cell_type": "code",
   "execution_count": null,
   "metadata": {},
   "outputs": [],
   "source": [
    "plt.imshow(coro_floor_matrix_full)\n",
    "plt.colorbar()"
   ]
  },
  {
   "cell_type": "code",
   "execution_count": null,
   "metadata": {},
   "outputs": [],
   "source": [
    "coro_floor_matrix = np.triu(coro_floor_matrix_full)\n",
    "plt.imshow(coro_floor_matrix)\n",
    "plt.title('Random coro floor values per measurement')\n",
    "plt.colorbar()"
   ]
  },
  {
   "cell_type": "markdown",
   "metadata": {},
   "source": [
    "To create a contrast matrix that uses the above random coronagraph floor, I will do:\n",
    "- take a contrast matrix from which its original $c_0$ was already subtracted\n",
    "- add the random $c_0$ matrix to this subtracted contrast matrix\n",
    "- run it through the analytical PASTIS matrix generation that uses a drifting $c_0$\n",
    "- make sure it yields the same PASTIS matrix like this contrast matrix yielded when it had a constant $c_0$"
   ]
  },
  {
   "cell_type": "code",
   "execution_count": null,
   "metadata": {},
   "outputs": [],
   "source": [
    "# contrast matrix of choice:\n",
    "contrast_matrix = cm_old_subtracted\n",
    "plt.imshow(contrast_matrix)\n",
    "plt.title('Original contrast matrix, no $c_0$')\n",
    "plt.colorbar()"
   ]
  },
  {
   "cell_type": "code",
   "execution_count": null,
   "metadata": {},
   "outputs": [],
   "source": [
    "# add random c0 array\n",
    "contrast_matrix += coro_floor_matrix"
   ]
  },
  {
   "cell_type": "code",
   "execution_count": null,
   "metadata": {},
   "outputs": [],
   "source": [
    "plt.imshow(contrast_matrix)\n",
    "plt.title('Contrast matrix, with added random $c_0$')\n",
    "plt.colorbar()"
   ]
  },
  {
   "cell_type": "markdown",
   "metadata": {},
   "source": [
    "Calculate the PASTIS matrix from this."
   ]
  },
  {
   "cell_type": "code",
   "execution_count": null,
   "metadata": {},
   "outputs": [],
   "source": [
    "seglist = pastis.util.get_segment_list('LUVOIR')\n",
    "wfe_aber = 1e-9"
   ]
  },
  {
   "cell_type": "code",
   "execution_count": null,
   "metadata": {},
   "outputs": [],
   "source": [
    "matrix_pastis_drift = pastis_from_contrast_matrix(contrast_matrix, seglist, wfe_aber, coro_floor_matrix)"
   ]
  },
  {
   "cell_type": "code",
   "execution_count": null,
   "metadata": {},
   "outputs": [],
   "source": [
    "diff = matrix_pastis_drift - pmatrix_old\n",
    "\n",
    "plt.figure(figsize=(15, 5))\n",
    "\n",
    "plt.subplot(1, 3, 1)\n",
    "plt.imshow(matrix_pastis_drift, origin='lower')\n",
    "plt.title('matrix_pastis_short')\n",
    "plt.colorbar()\n",
    "\n",
    "plt.subplot(1, 3, 2)\n",
    "plt.imshow(pmatrix_old, origin='lower')\n",
    "plt.title('pmatrix_old')\n",
    "plt.colorbar()\n",
    "\n",
    "plt.subplot(1, 3, 3)\n",
    "plt.imshow(matrix_pastis_drift - pmatrix_old, origin='lower')\n",
    "plt.title('diff')\n",
    "plt.colorbar()"
   ]
  },
  {
   "cell_type": "code",
   "execution_count": null,
   "metadata": {},
   "outputs": [],
   "source": [
    "diff[40,40]"
   ]
  },
  {
   "cell_type": "markdown",
   "metadata": {},
   "source": [
    "Works."
   ]
  },
  {
   "cell_type": "code",
   "execution_count": null,
   "metadata": {},
   "outputs": [],
   "source": [
    "# Make empty PASTIS matrix\n",
    "matrix_pastis_half = np.zeros_like(contrast_matrix)\n",
    "plt.imshow(matrix_pastis_half)\n",
    "plt.colorbar()"
   ]
  },
  {
   "cell_type": "code",
   "execution_count": null,
   "metadata": {},
   "outputs": [],
   "source": [
    "# Fill diagonal elements\n",
    "np.fill_diagonal(matrix_pastis_half, np.diag(contrast_matrix) - np.diag(coro_floor_matrix))\n",
    "plt.imshow(matrix_pastis_half)\n",
    "plt.colorbar()"
   ]
  },
  {
   "cell_type": "code",
   "execution_count": null,
   "metadata": {},
   "outputs": [],
   "source": [
    "assert (np.diag(matrix_pastis_half) == np.diag(pmatrix_old)).all, 'something wrong'"
   ]
  },
  {
   "cell_type": "code",
   "execution_count": null,
   "metadata": {},
   "outputs": [],
   "source": []
  }
 ],
 "metadata": {
  "kernelspec": {
   "display_name": "Python 3",
   "language": "python",
   "name": "python3"
  },
  "language_info": {
   "codemirror_mode": {
    "name": "ipython",
    "version": 3
   },
   "file_extension": ".py",
   "mimetype": "text/x-python",
   "name": "python",
   "nbconvert_exporter": "python",
   "pygments_lexer": "ipython3",
   "version": "3.7.8"
  }
 },
 "nbformat": 4,
 "nbformat_minor": 4
}
