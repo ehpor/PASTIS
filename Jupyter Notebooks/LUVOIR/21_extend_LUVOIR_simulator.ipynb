{
 "cells": [
  {
   "cell_type": "markdown",
   "metadata": {},
   "source": [
    "# Extending the LUVOIR simulator to other global and local modes"
   ]
  },
  {
   "cell_type": "code",
   "execution_count": null,
   "metadata": {},
   "outputs": [],
   "source": [
    "import os\n",
    "import matplotlib.pyplot as plt\n",
    "from matplotlib.colors import LogNorm\n",
    "import numpy as np\n",
    "import hcipy\n",
    "\n",
    "from pastis.e2e_simulators.luvoir_imaging import LuvoirAPLC\n",
    "from pastis.config import CONFIG_PASTIS\n",
    "import pastis.util"
   ]
  },
  {
   "cell_type": "markdown",
   "metadata": {},
   "source": [
    "First doing some general cleanup in `LuvoirAPLC()` so I need to make sure it still works ok."
   ]
  },
  {
   "cell_type": "code",
   "execution_count": null,
   "metadata": {},
   "outputs": [],
   "source": [
    "# Instantiate LUVOIR simulator\n",
    "sampling = 4\n",
    "apodizer_design = 'small'\n",
    "optics_input = os.path.join(pastis.util.find_repo_location(), CONFIG_PASTIS.get('LUVOIR', 'optics_path_in_repo'))\n",
    "luvoir = LuvoirAPLC(optics_input, apodizer_design, sampling)"
   ]
  },
  {
   "cell_type": "code",
   "execution_count": null,
   "metadata": {},
   "outputs": [],
   "source": [
    "coro_im, ref_norm = luvoir.calc_psf(display_intermediate=True, ref=True)"
   ]
  },
  {
   "cell_type": "code",
   "execution_count": null,
   "metadata": {},
   "outputs": [],
   "source": [
    "plt.figure(figsize=(10,10))\n",
    "plt.imshow(coro_im.shaped/ref_norm.max(), cmap='inferno', norm=LogNorm(vmin=1e-14, vmax=1e-3))\n",
    "plt.colorbar()"
   ]
  },
  {
   "cell_type": "markdown",
   "metadata": {},
   "source": [
    "Comment out one of the two cells below, depending on which SegmentedMirror implementation you are using."
   ]
  },
  {
   "cell_type": "code",
   "execution_count": null,
   "metadata": {},
   "outputs": [],
   "source": [
    "# For old SegmentedMirror (indexed aperture)\n",
    "#luvoir.set_segment(18, 20e-9, 0, 0)\n",
    "#luvoir.set_segment(75, 20e-9, 0, 0)"
   ]
  },
  {
   "cell_type": "code",
   "execution_count": null,
   "metadata": {},
   "outputs": [],
   "source": [
    "# Create multi mode segmented mirror\n",
    "# !! THIS CELL TAKES QUITE A WHILE TO RUN !!\n",
    "n_modes_segs = 5\n",
    "luvoir.create_segmented_mirror(n_modes_segs)"
   ]
  },
  {
   "cell_type": "code",
   "execution_count": null,
   "metadata": {},
   "outputs": [],
   "source": [
    "# For usage with multi mode segmented mirror\n",
    "new_command = np.zeros(120*n_modes_segs)\n",
    "new_command[4] = 2e-9\n",
    "new_command[53] = 2e-9\n",
    "new_command[346] = 2e-9\n",
    "luvoir.sm.actuators = new_command\n",
    "coro_im_aber1 = luvoir.calc_psf(display_intermediate=True, ref=False)"
   ]
  },
  {
   "cell_type": "code",
   "execution_count": null,
   "metadata": {},
   "outputs": [],
   "source": [
    "# Create low-order (Zernike) mode mirror\n",
    "n_modes_zernikes = 8\n",
    "luvoir.create_global_zernike_mirror(n_modes_zernikes)"
   ]
  },
  {
   "cell_type": "code",
   "execution_count": null,
   "metadata": {},
   "outputs": [],
   "source": [
    "# For usage with Zernike mode mirror\n",
    "new_command = np.zeros(n_modes_zernikes)\n",
    "new_command[7] = 2e-9\n",
    "luvoir.zernike_mirror.actuators = new_command\n",
    "coro_im_aber1 = luvoir.calc_psf(display_intermediate=True, ref=False)"
   ]
  },
  {
   "cell_type": "code",
   "execution_count": null,
   "metadata": {},
   "outputs": [],
   "source": [
    "# Create a good ol' continuous DM\n",
    "n_acts_across = 15 \n",
    "luvoir.create_continuous_deformable_mirror(n_acts_across)"
   ]
  },
  {
   "cell_type": "code",
   "execution_count": null,
   "metadata": {},
   "outputs": [],
   "source": [
    "# For usage with continuous deformable mirror\n",
    "new_command = np.zeros(n_acts_across*n_acts_across)\n",
    "new_command[66] = 2e-9\n",
    "new_command[77] = 2e-9\n",
    "new_command[147] = 2e-9\n",
    "luvoir.dm.actuators = new_command\n",
    "coro_im_aber1 = luvoir.calc_psf(display_intermediate=True, ref=False)"
   ]
  },
  {
   "cell_type": "code",
   "execution_count": null,
   "metadata": {},
   "outputs": [],
   "source": [
    "# Create high-order (ripple) mode mirror\n",
    "n_ripples = 5    # need to use odd number\n",
    "luvoir.create_ripple_mirror(n_ripples)"
   ]
  },
  {
   "cell_type": "code",
   "execution_count": null,
   "metadata": {},
   "outputs": [],
   "source": [
    "# For usage with Zernike mode mirror\n",
    "new_command = np.zeros(n_ripples*n_ripples)\n",
    "new_command[12] = 2e-9\n",
    "luvoir.ripple_mirror.actuators = new_command\n",
    "coro_im_aber1 = luvoir.calc_psf(display_intermediate=True, ref=False)"
   ]
  },
  {
   "cell_type": "code",
   "execution_count": null,
   "metadata": {},
   "outputs": [],
   "source": [
    "# Create segmented Harris mode mirror\n",
    "fpath = '/Users/ilaginja/repos/PASTIS/Sensitivities2.xlsx'    # path to Harris spreadsheet\n",
    "pad_orientations = np.pi / 2 * np.ones(120)\n",
    "luvoir.create_segmented_harris_mirror(fpath, pad_orientations)"
   ]
  },
  {
   "cell_type": "code",
   "execution_count": null,
   "metadata": {},
   "outputs": [],
   "source": [
    "# For usage with segmented Harris mode mirror\n",
    "new_command = np.zeros(luvoir.harris_sm.num_actuators)\n",
    "print(new_command.shape)\n",
    "new_command[18] = 1e-9\n",
    "new_command[37] = 2e-9\n",
    "luvoir.harris_sm.actuators = new_command\n",
    "coro_im_aber1 = luvoir.calc_psf(display_intermediate=True, ref=False)"
   ]
  },
  {
   "cell_type": "code",
   "execution_count": null,
   "metadata": {},
   "outputs": [],
   "source": []
  }
 ],
 "metadata": {
  "kernelspec": {
   "display_name": "Python 3",
   "language": "python",
   "name": "python3"
  },
  "language_info": {
   "codemirror_mode": {
    "name": "ipython",
    "version": 3
   },
   "file_extension": ".py",
   "mimetype": "text/x-python",
   "name": "python",
   "nbconvert_exporter": "python",
   "pygments_lexer": "ipython3",
   "version": "3.7.10"
  }
 },
 "nbformat": 4,
 "nbformat_minor": 4
}
