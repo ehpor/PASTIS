{
 "cells": [
  {
   "cell_type": "markdown",
   "metadata": {},
   "source": [
    "# Extending the LUVOIR simulator to other global and local modes"
   ]
  },
  {
   "cell_type": "code",
   "execution_count": null,
   "metadata": {},
   "outputs": [],
   "source": [
    "import os\n",
    "import matplotlib.pyplot as plt\n",
    "from matplotlib.colors import LogNorm\n",
    "import numpy as np\n",
    "import hcipy\n",
    "\n",
    "from pastis.e2e_simulators.luvoir_imaging import LuvoirAPLC\n",
    "from pastis.config import CONFIG_PASTIS\n",
    "import pastis.util"
   ]
  },
  {
   "cell_type": "markdown",
   "metadata": {},
   "source": [
    "First doing some general cleanup in `LuvoirAPLC()` so I need to make sure it still works ok."
   ]
  },
  {
   "cell_type": "code",
   "execution_count": null,
   "metadata": {},
   "outputs": [],
   "source": [
    "# Instantiate LUVOIR simulator\n",
    "sampling = 4\n",
    "apodizer_design = 'small'\n",
    "optics_input = os.path.join(pastis.util.find_repo_location(), CONFIG_PASTIS.get('LUVOIR', 'optics_path_in_repo'))\n",
    "luvoir = LuvoirAPLC(optics_input, apodizer_design, sampling)"
   ]
  },
  {
   "cell_type": "code",
   "execution_count": null,
   "metadata": {},
   "outputs": [],
   "source": [
    "coro_im, ref_norm = luvoir.calc_psf(display_intermediate=True, ref=True)"
   ]
  },
  {
   "cell_type": "code",
   "execution_count": null,
   "metadata": {},
   "outputs": [],
   "source": [
    "plt.figure(figsize=(10,10))\n",
    "plt.imshow(coro_im.shaped/ref_norm.max(), cmap='inferno', norm=LogNorm(vmin=1e-14, vmax=1e-3))\n",
    "plt.colorbar()"
   ]
  },
  {
   "cell_type": "markdown",
   "metadata": {},
   "source": [
    "Comment out one of the two cells below, depending on which SegmentedMirror implementation you are using."
   ]
  },
  {
   "cell_type": "code",
   "execution_count": null,
   "metadata": {},
   "outputs": [],
   "source": [
    "# For old SegmentedMirror (indexed aperture)\n",
    "luvoir.set_segment(18, 20e-9, 0, 0)\n",
    "luvoir.set_segment(75, 20e-9, 0, 0)"
   ]
  },
  {
   "cell_type": "code",
   "execution_count": null,
   "metadata": {},
   "outputs": [],
   "source": [
    "# For new SegmentedMirror (hcipy deformable mirror)\n",
    "new_command = np.zeros(120*2)\n",
    "new_command[4] = 2e-9\n",
    "new_command[54] = 2e-9\n",
    "luvoir.sm.actuators = new_command"
   ]
  },
  {
   "cell_type": "code",
   "execution_count": null,
   "metadata": {},
   "outputs": [],
   "source": [
    "coro_im_aber1 = luvoir.calc_psf(display_intermediate=True, ref=False)"
   ]
  },
  {
   "cell_type": "code",
   "execution_count": null,
   "metadata": {},
   "outputs": [],
   "source": []
  }
 ],
 "metadata": {
  "kernelspec": {
   "display_name": "Python 3",
   "language": "python",
   "name": "python3"
  },
  "language_info": {
   "codemirror_mode": {
    "name": "ipython",
    "version": 3
   },
   "file_extension": ".py",
   "mimetype": "text/x-python",
   "name": "python",
   "nbconvert_exporter": "python",
   "pygments_lexer": "ipython3",
   "version": "3.7.10"
  }
 },
 "nbformat": 4,
 "nbformat_minor": 4
}
