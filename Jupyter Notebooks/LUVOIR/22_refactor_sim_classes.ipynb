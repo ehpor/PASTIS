{
 "cells": [
  {
   "cell_type": "markdown",
   "id": "lesser-production",
   "metadata": {},
   "source": [
    "# Refactoring our simulator classes to something more modular"
   ]
  },
  {
   "cell_type": "code",
   "execution_count": null,
   "id": "shared-sociology",
   "metadata": {},
   "outputs": [],
   "source": [
    "import os\n",
    "import matplotlib.pyplot as plt\n",
    "from matplotlib.colors import LogNorm\n",
    "import numpy as np\n",
    "import hcipy\n",
    "from astropy.io import fits\n",
    "\n",
    "from pastis.config import CONFIG_PASTIS\n",
    "import pastis.util\n",
    "from pastis.e2e_simulators.luvoir_imaging import SegmentedTelescope, LuvoirAPLC, LuvoirA_APLC, SegmentedAPLC"
   ]
  },
  {
   "cell_type": "code",
   "execution_count": null,
   "id": "beneficial-notice",
   "metadata": {},
   "outputs": [],
   "source": [
    "sampling = CONFIG_PASTIS.getfloat('LUVOIR', 'sampling')\n",
    "optics_input = os.path.join(pastis.util.find_repo_location(), CONFIG_PASTIS.get('LUVOIR', 'optics_path_in_repo'))\n",
    "design = 'small'\n",
    "#luvoir = LuvoirAPLC(optics_input, design, sampling)"
   ]
  },
  {
   "cell_type": "code",
   "execution_count": null,
   "id": "noted-start",
   "metadata": {},
   "outputs": [],
   "source": [
    "luvoir.seg_pos.size"
   ]
  },
  {
   "cell_type": "code",
   "execution_count": null,
   "id": "laughing-communications",
   "metadata": {},
   "outputs": [],
   "source": [
    "ob_luvoir = luvoir.calc_out_of_band_wfs()\n",
    "plt.imshow(ob_luvoir.intensity.shaped)"
   ]
  },
  {
   "cell_type": "markdown",
   "id": "unexpected-chuck",
   "metadata": {},
   "source": [
    "## Let's look at SegmentedTelescope first."
   ]
  },
  {
   "cell_type": "code",
   "execution_count": null,
   "id": "defined-negative",
   "metadata": {},
   "outputs": [],
   "source": [
    "input_dir = optics_input\n",
    "apod_design = design\n",
    "\n",
    "apod_dict = {'small': {'pxsize': 1000, 'fpm_rad': 3.5, 'fpm_px': 150, 'iwa': 3.4, 'owa': 12.,\n",
    "                            'fname': '0_LUVOIR_N1000_FPM350M0150_IWA0340_OWA01200_C10_BW10_Nlam5_LS_IDD0120_OD0982_no_ls_struts.fits'},\n",
    "                  'medium': {'pxsize': 1000, 'fpm_rad': 6.82, 'fpm_px': 250, 'iwa': 6.72, 'owa': 23.72,\n",
    "                             'fname': '0_LUVOIR_N1000_FPM682M0250_IWA0672_OWA02372_C10_BW10_Nlam5_LS_IDD0120_OD0982_no_ls_struts.fits'},\n",
    "                  'large': {'pxsize': 1000, 'fpm_rad': 13.38, 'fpm_px': 400, 'iwa': 13.28, 'owa': 46.88,\n",
    "                            'fname': '0_LUVOIR_N1000_FPM1338M0400_IWA1328_OWA04688_C10_BW10_Nlam5_LS_IDD0120_OD0982_no_ls_struts.fits'}}\n",
    "imlamD = 1.2 * apod_dict[apod_design]['owa']\n",
    "\n",
    "wvln = CONFIG_PASTIS.getfloat('LUVOIR', 'lambda') * 1e-9    # m\n",
    "diameter = CONFIG_PASTIS.getfloat('LUVOIR', 'diameter')     # m\n",
    "lam_over_d = wvln / diameter\n",
    "\n",
    "pupil_grid = hcipy.make_pupil_grid(dims=apod_dict[apod_design]['pxsize'], diameter=diameter)\n",
    "\n",
    "# Load segmented aperture\n",
    "aper_path = CONFIG_PASTIS.get('LUVOIR', 'aperture_path_in_optics')\n",
    "pup_read = hcipy.read_fits(os.path.join(input_dir, aper_path))\n",
    "aperture = hcipy.Field(pup_read.ravel(), pupil_grid)\n",
    "\n",
    "# Load apodizer\n",
    "apod_path = os.path.join('luvoir_stdt_baseline_bw10', apod_design + '_fpm', 'solutions',\n",
    "                         apod_dict[apod_design]['fname'])\n",
    "apod_read = hcipy.read_fits(os.path.join(input_dir, apod_path))\n",
    "apodizer = hcipy.Field(apod_read.ravel(), pupil_grid)\n",
    "\n",
    "# Load Lyot Stop\n",
    "ls_fname = CONFIG_PASTIS.get('LUVOIR', 'lyot_stop_path_in_optics')\n",
    "ls_read = hcipy.read_fits(os.path.join(input_dir, ls_fname))\n",
    "lyot_stop = hcipy.Field(ls_read.ravel(), pupil_grid)\n",
    "\n",
    "# Load indexed segmented aperture\n",
    "aper_ind_path = CONFIG_PASTIS.get('LUVOIR', 'indexed_aperture_path_in_optics')\n",
    "aper_ind_read = hcipy.read_fits(os.path.join(input_dir, aper_ind_path))\n",
    "aper_ind = hcipy.Field(aper_ind_read.ravel(), pupil_grid)\n",
    "\n",
    "# Load segment positions from fits header\n",
    "hdr = fits.getheader(os.path.join(input_dir, aper_ind_path))\n",
    "nseg = CONFIG_PASTIS.getint('LUVOIR', 'nb_subapertures')\n",
    "poslist = []\n",
    "for i in range(nseg):\n",
    "    segname = 'SEG' + str(i + 1)\n",
    "    xin = hdr[segname + '_X']\n",
    "    yin = hdr[segname + '_Y']\n",
    "    poslist.append((xin, yin))\n",
    "poslist = np.transpose(np.array(poslist))\n",
    "seg_pos = hcipy.CartesianGrid(hcipy.UnstructuredCoords(poslist))\n",
    "seg_pos = seg_pos.scaled(diameter)\n",
    "\n",
    "seg_diameter_circumscribed = 2 / np.sqrt(3) * 1.2225    # m\n",
    "\n",
    "# Create a focal plane mask\n",
    "samp_foc = apod_dict[apod_design]['fpm_px'] / (apod_dict[apod_design]['fpm_rad'] * 2)\n",
    "focal_grid_fpm = hcipy.make_focal_grid_from_pupil_grid(pupil_grid=pupil_grid, q=samp_foc, num_airy=apod_dict[apod_design]['fpm_rad'], wavelength=wvln)\n",
    "fpm = 1 - hcipy.circular_aperture(2*apod_dict[apod_design]['fpm_rad'] * lam_over_d)(focal_grid_fpm)\n",
    "\n",
    "# Create a focal plane grid for the detector\n",
    "focal_det = hcipy.make_focal_grid_from_pupil_grid(pupil_grid=pupil_grid, q=sampling, num_airy=imlamD, wavelength=wvln)"
   ]
  },
  {
   "cell_type": "code",
   "execution_count": null,
   "id": "proprietary-nirvana",
   "metadata": {},
   "outputs": [],
   "source": [
    "seg = SegmentedTelescope(wvln, diameter, aperture, aper_ind, seg_pos, seg_diameter_circumscribed, focal_det, sampling, imlamD)"
   ]
  },
  {
   "cell_type": "code",
   "execution_count": null,
   "id": "valued-pride",
   "metadata": {},
   "outputs": [],
   "source": [
    "# Create high-order (ripple) mode mirror\n",
    "n_ripples = 5    # need to use odd number\n",
    "seg.create_ripple_mirror(n_ripples)"
   ]
  },
  {
   "cell_type": "code",
   "execution_count": null,
   "id": "guilty-attraction",
   "metadata": {},
   "outputs": [],
   "source": [
    "# Create a good ol' continuous DM\n",
    "n_acts_across = 15 \n",
    "seg.create_continuous_deformable_mirror(n_acts_across)"
   ]
  },
  {
   "cell_type": "code",
   "execution_count": null,
   "id": "medieval-classics",
   "metadata": {},
   "outputs": [],
   "source": [
    "# Create low-order (Zernike) mode mirror\n",
    "n_modes_zernikes = 8\n",
    "seg.create_global_zernike_mirror(n_modes_zernikes)"
   ]
  },
  {
   "cell_type": "code",
   "execution_count": null,
   "id": "dutch-people",
   "metadata": {},
   "outputs": [],
   "source": [
    "# Create segmented Harris mode mirror\n",
    "# !! THIS CELL TAKES QUITE A WHILE TO RUN !!\n",
    "fpath = '/Users/ilaginja/repos/PASTIS/Sensitivities2.xlsx'    # path to Harris spreadsheet\n",
    "pad_orientations = np.pi / 2 * np.ones(120)\n",
    "seg.create_segmented_harris_mirror(fpath, pad_orientations)"
   ]
  },
  {
   "cell_type": "code",
   "execution_count": null,
   "id": "mexican-proportion",
   "metadata": {},
   "outputs": [],
   "source": [
    "# Create multi mode segmented mirror\n",
    "# !! THIS CELL TAKES QUITE A WHILE TO RUN !!\n",
    "n_modes_segs = 5\n",
    "seg.create_segmented_mirror(n_modes_segs)"
   ]
  },
  {
   "cell_type": "markdown",
   "id": "logical-oxygen",
   "metadata": {},
   "source": [
    "**CREATE MIRRORS ONLY ONCE**"
   ]
  },
  {
   "cell_type": "code",
   "execution_count": null,
   "id": "funded-transfer",
   "metadata": {},
   "outputs": [],
   "source": [
    "# For usage with ripple mirror\n",
    "new_command = np.zeros(n_ripples*n_ripples)\n",
    "#new_command[12] = 2e-8\n",
    "seg.ripple_mirror.actuators = new_command"
   ]
  },
  {
   "cell_type": "code",
   "execution_count": null,
   "id": "addressed-taxation",
   "metadata": {},
   "outputs": [],
   "source": [
    "# For usage with continuous deformable mirror\n",
    "new_command = np.zeros(n_acts_across*n_acts_across)\n",
    "new_command[66] = 2e-8\n",
    "new_command[77] = 2e-8\n",
    "#new_command[147] = 2e-7\n",
    "#new_command[84] = 2e-7\n",
    "#new_command[45] = -2e-7\n",
    "#new_command[34] = 2e-7\n",
    "#new_command[24] = 2e-7\n",
    "#new_command[217] = -2e-7\n",
    "#new_command[187] = -2e-7\n",
    "#new_command[123] = 2e-7\n",
    "#new_command[105] = -2e-7\n",
    "#new_command[173] = 2e-7\n",
    "seg.dm.actuators = new_command"
   ]
  },
  {
   "cell_type": "code",
   "execution_count": null,
   "id": "eastern-strand",
   "metadata": {},
   "outputs": [],
   "source": [
    "# For usage with Zernike mode mirror\n",
    "new_command = np.zeros(n_modes_zernikes)\n",
    "#new_command[7] = 2e-8\n",
    "seg.zernike_mirror.actuators = new_command"
   ]
  },
  {
   "cell_type": "code",
   "execution_count": null,
   "id": "conditional-pittsburgh",
   "metadata": {},
   "outputs": [],
   "source": [
    "# For usage with segmented Harris mode mirror\n",
    "new_command = np.zeros(luvoir.harris_sm.num_actuators)\n",
    "print(new_command.shape)\n",
    "#new_command[18] = 1e-8\n",
    "#new_command[37] = 2e-8\n",
    "seg.harris_sm.actuators = new_command"
   ]
  },
  {
   "cell_type": "code",
   "execution_count": null,
   "id": "restricted-associate",
   "metadata": {},
   "outputs": [],
   "source": [
    "# For usage with multi mode segmented mirror\n",
    "new_command = np.zeros(120*n_modes_segs)\n",
    "#new_command[4] = 2e-8\n",
    "#new_command[51] = 2e-4\n",
    "#new_command[346] = 2e-8\n",
    "seg.sm.actuators = new_command"
   ]
  },
  {
   "cell_type": "code",
   "execution_count": null,
   "id": "continuous-caution",
   "metadata": {},
   "outputs": [],
   "source": [
    "image, inter = seg.calc_psf(display_intermediate=True, return_intermediate='efield')"
   ]
  },
  {
   "cell_type": "code",
   "execution_count": null,
   "id": "political-biography",
   "metadata": {},
   "outputs": [],
   "source": [
    "plt.figure(figsize=(10,10))\n",
    "plt.imshow(image.intensity.shaped, norm=LogNorm(), origin='lower')"
   ]
  },
  {
   "cell_type": "code",
   "execution_count": null,
   "id": "spatial-purse",
   "metadata": {},
   "outputs": [],
   "source": [
    "inter"
   ]
  },
  {
   "cell_type": "code",
   "execution_count": null,
   "id": "found-bridges",
   "metadata": {},
   "outputs": [],
   "source": [
    "plt.imshow(inter['active_pupil'].phase.shaped, origin='lower')"
   ]
  },
  {
   "cell_type": "code",
   "execution_count": null,
   "id": "natural-visit",
   "metadata": {},
   "outputs": [],
   "source": [
    "obwfs = seg.calc_out_of_band_wfs()"
   ]
  },
  {
   "cell_type": "code",
   "execution_count": null,
   "id": "operational-logging",
   "metadata": {},
   "outputs": [],
   "source": [
    "plt.imshow(obwfs.intensity.shaped)\n",
    "plt.colorbar()"
   ]
  },
  {
   "cell_type": "markdown",
   "id": "diverse-commitment",
   "metadata": {},
   "source": [
    "## Now on to the SegmentedAPLC"
   ]
  },
  {
   "cell_type": "code",
   "execution_count": null,
   "id": "adolescent-measure",
   "metadata": {},
   "outputs": [],
   "source": [
    "aplc = SegmentedAPLC(apodizer, lyot_stop, fpm, apod_dict[apod_design]['fpm_rad'], apod_dict[apod_design]['iwa'],\n",
    "                     apod_dict[apod_design]['owa'], wvln=wvln, diameter=diameter, aper=aperture,\n",
    "                     indexed_aper=aper_ind, seg_pos=seg_pos, seg_diameter=seg_diameter_circumscribed,\n",
    "                     focal_grid=focal_det, sampling=sampling, imlamD=imlamD)"
   ]
  },
  {
   "cell_type": "code",
   "execution_count": null,
   "id": "better-isolation",
   "metadata": {},
   "outputs": [],
   "source": [
    "aplc_im = aplc.calc_psf(display_intermediate=True)"
   ]
  },
  {
   "cell_type": "code",
   "execution_count": null,
   "id": "collaborative-workplace",
   "metadata": {},
   "outputs": [],
   "source": [
    "lowfs_im = aplc.calc_low_order_wfs()\n",
    "plt.imshow(lowfs_im.intensity.shaped)"
   ]
  },
  {
   "cell_type": "markdown",
   "id": "matched-revision",
   "metadata": {},
   "source": [
    "## And finally, the new LUVOIR A with an APLC simulator class"
   ]
  },
  {
   "cell_type": "code",
   "execution_count": null,
   "id": "initial-principle",
   "metadata": {},
   "outputs": [],
   "source": [
    "luv = LuvoirA_APLC(optics_input, design, sampling)\n",
    "old = LuvoirAPLC(optics_input, design, sampling)"
   ]
  },
  {
   "cell_type": "code",
   "execution_count": null,
   "id": "turkish-thanksgiving",
   "metadata": {},
   "outputs": [],
   "source": [
    "# Create low-order (Zernike) mode mirror\n",
    "n_modes_zernikes = 15\n",
    "luv.create_global_zernike_mirror(n_modes_zernikes)"
   ]
  },
  {
   "cell_type": "code",
   "execution_count": null,
   "id": "attempted-montgomery",
   "metadata": {},
   "outputs": [],
   "source": [
    "# Create multi mode segmented mirror\n",
    "# !! THIS CELL TAKES QUITE A WHILE TO RUN !!\n",
    "n_modes_segs = 3\n",
    "luv.create_segmented_mirror(n_modes_segs)"
   ]
  },
  {
   "cell_type": "code",
   "execution_count": null,
   "id": "portable-curve",
   "metadata": {},
   "outputs": [],
   "source": [
    "# Create segmented Harris mode mirror\n",
    "# !! THIS CELL TAKES QUITE A WHILE TO RUN !!\n",
    "fpath = '/Users/ilaginja/repos/PASTIS/Sensitivities2.xlsx'    # path to Harris spreadsheet\n",
    "pad_orientations = np.pi / 2 * np.ones(120)\n",
    "luv.create_segmented_harris_mirror(fpath, pad_orientations)"
   ]
  },
  {
   "cell_type": "code",
   "execution_count": null,
   "id": "artistic-algorithm",
   "metadata": {},
   "outputs": [],
   "source": [
    "# For usage with Zernike mode mirror\n",
    "new_command = np.zeros(n_modes_zernikes)\n",
    "new_command[12] = 2e-8\n",
    "new_command[4] = 2e-8\n",
    "luv.zernike_mirror.actuators = new_command"
   ]
  },
  {
   "cell_type": "code",
   "execution_count": null,
   "id": "covered-stadium",
   "metadata": {},
   "outputs": [],
   "source": [
    "# For usage with multi mode segmented mirror\n",
    "new_command = np.zeros(luv.sm.num_actuators)\n",
    "#new_command[5*3] = 2e-8\n",
    "luv.sm.actuators = new_command"
   ]
  },
  {
   "cell_type": "code",
   "execution_count": null,
   "id": "employed-works",
   "metadata": {},
   "outputs": [],
   "source": [
    "luv.set_segment(120, 2, 2e-8)"
   ]
  },
  {
   "cell_type": "code",
   "execution_count": null,
   "id": "correct-basement",
   "metadata": {},
   "outputs": [],
   "source": [
    "luv.flatten()\n",
    "luv.set_harris_segment(121, 1, 2e-8)"
   ]
  },
  {
   "cell_type": "code",
   "execution_count": null,
   "id": "amazing-ceremony",
   "metadata": {},
   "outputs": [],
   "source": [
    "luv_img, luv_direct, inter = luv.calc_psf(display_intermediate=True, ref=True, return_intermediate='efield')"
   ]
  },
  {
   "cell_type": "code",
   "execution_count": null,
   "id": "coordinate-medicine",
   "metadata": {},
   "outputs": [],
   "source": [
    "plt.figure(figsize=(10,10))\n",
    "plt.imshow(inter['seg_mirror'].phase.shaped / inter['seg_mirror'].wavenumber, cmap='RdBu', origin='lower')\n",
    "plt.colorbar()"
   ]
  },
  {
   "cell_type": "code",
   "execution_count": null,
   "id": "interior-venice",
   "metadata": {},
   "outputs": [],
   "source": [
    "this_max = np.max(inter['seg_mirror'].phase.shaped / inter['seg_mirror'].wavenumber)\n",
    "this_min = np.min(inter['seg_mirror'].phase.shaped / inter['seg_mirror'].wavenumber)\n",
    "print(this_max)\n",
    "print(this_min)\n",
    "ptv = np.abs(this_max)+np.abs(this_min)\n",
    "print(ptv)\n",
    "print(ptv/4)"
   ]
  },
  {
   "cell_type": "code",
   "execution_count": null,
   "id": "hearing-salmon",
   "metadata": {},
   "outputs": [],
   "source": [
    "plt.figure(figsize=(10,10))\n",
    "plt.imshow(luv_img.shaped/luv_direct.max(), norm=LogNorm(), cmap='inferno')\n",
    "plt.colorbar()"
   ]
  },
  {
   "cell_type": "markdown",
   "id": "elder-engine",
   "metadata": {},
   "source": [
    "## Investigate methods and attributes"
   ]
  },
  {
   "cell_type": "code",
   "execution_count": null,
   "id": "medieval-translator",
   "metadata": {},
   "outputs": [],
   "source": [
    "print(type(luv.dh_mask))\n",
    "print(luv.dh_mask.shaped.shape)\n",
    "hcipy.imshow_field(luv.dh_mask)"
   ]
  },
  {
   "cell_type": "code",
   "execution_count": null,
   "id": "perceived-potter",
   "metadata": {},
   "outputs": [],
   "source": [
    "print(type(old.dh_mask))\n",
    "print(old.dh_mask.shaped.shape)\n",
    "hcipy.imshow_field(old.dh_mask)"
   ]
  },
  {
   "cell_type": "code",
   "execution_count": null,
   "id": "announced-greenhouse",
   "metadata": {},
   "outputs": [],
   "source": [
    "plt.imshow(luv.dh_mask.shaped)"
   ]
  },
  {
   "cell_type": "code",
   "execution_count": null,
   "id": "intensive-graph",
   "metadata": {},
   "outputs": [],
   "source": [
    "plt.imshow(old.dh_mask.shaped)"
   ]
  },
  {
   "cell_type": "code",
   "execution_count": null,
   "id": "quantitative-inclusion",
   "metadata": {},
   "outputs": [],
   "source": [
    "print(type(luv.lam_over_d))\n",
    "print(luv.lam_over_d)"
   ]
  },
  {
   "cell_type": "code",
   "execution_count": null,
   "id": "viral-right",
   "metadata": {},
   "outputs": [],
   "source": [
    "print(type(old.lam_over_d))\n",
    "print(old.lam_over_d)"
   ]
  },
  {
   "cell_type": "code",
   "execution_count": null,
   "id": "lonely-easter",
   "metadata": {},
   "outputs": [],
   "source": [
    "print(type(luv.focal_det))\n",
    "plt.plot(luv.focal_det.x, luv.focal_det.y)"
   ]
  },
  {
   "cell_type": "code",
   "execution_count": null,
   "id": "primary-implement",
   "metadata": {},
   "outputs": [],
   "source": [
    "print(type(old.focal_det))\n",
    "plt.plot(old.focal_det.x, old.focal_det.y)"
   ]
  },
  {
   "cell_type": "code",
   "execution_count": null,
   "id": "operational-apache",
   "metadata": {},
   "outputs": [],
   "source": [
    "print(type(luv.fpm))\n",
    "print(luv.fpm.shaped.shape)\n",
    "hcipy.imshow_field(luv.fpm)"
   ]
  },
  {
   "cell_type": "code",
   "execution_count": null,
   "id": "detailed-retention",
   "metadata": {},
   "outputs": [],
   "source": [
    "print(type(old.fpm))\n",
    "print(old.fpm.shaped.shape)\n",
    "hcipy.imshow_field(old.fpm)"
   ]
  },
  {
   "cell_type": "code",
   "execution_count": null,
   "id": "taken-diamond",
   "metadata": {},
   "outputs": [],
   "source": [
    "print(type(luv.aperture))\n",
    "print(luv.aperture.shaped.shape)\n",
    "hcipy.imshow_field(luv.aperture)"
   ]
  },
  {
   "cell_type": "code",
   "execution_count": null,
   "id": "portuguese-sharing",
   "metadata": {},
   "outputs": [],
   "source": [
    "print(type(old.aperture))\n",
    "print(old.aperture.shaped.shape)\n",
    "hcipy.imshow_field(old.aperture)"
   ]
  },
  {
   "cell_type": "code",
   "execution_count": null,
   "id": "independent-pollution",
   "metadata": {},
   "outputs": [],
   "source": [
    "luv.apod_dict"
   ]
  },
  {
   "cell_type": "code",
   "execution_count": null,
   "id": "characteristic-restoration",
   "metadata": {},
   "outputs": [],
   "source": [
    "old.apod_dict"
   ]
  },
  {
   "cell_type": "code",
   "execution_count": null,
   "id": "aware-flexibility",
   "metadata": {},
   "outputs": [],
   "source": [
    "print(type(luv.sm.seg_pos))\n",
    "print(luv.sm.seg_pos)\n",
    "print(luv.sm.seg_pos.points)"
   ]
  },
  {
   "cell_type": "code",
   "execution_count": null,
   "id": "known-creature",
   "metadata": {},
   "outputs": [],
   "source": [
    "print(type(old.sm.seg_pos))\n",
    "print(old.sm.seg_pos)\n",
    "print(old.sm.seg_pos.points)"
   ]
  },
  {
   "cell_type": "code",
   "execution_count": null,
   "id": "otherwise-implementation",
   "metadata": {},
   "outputs": [],
   "source": [
    "luv.set_segment(6, 0, 3e-8, 0)\n",
    "luv.calc_psf(display_intermediate=True)"
   ]
  },
  {
   "cell_type": "code",
   "execution_count": null,
   "id": "hollow-shannon",
   "metadata": {},
   "outputs": [],
   "source": [
    "old.set_segment(6, 0, 3e-8, 0)\n",
    "old.calc_psf(display_intermediate=True)"
   ]
  },
  {
   "cell_type": "code",
   "execution_count": null,
   "id": "statewide-niger",
   "metadata": {},
   "outputs": [],
   "source": [
    "luv.flatten()\n",
    "luv.calc_psf(display_intermediate=True)"
   ]
  },
  {
   "cell_type": "code",
   "execution_count": null,
   "id": "identified-gross",
   "metadata": {},
   "outputs": [],
   "source": [
    "old.flatten()\n",
    "old.calc_psf(display_intermediate=True)"
   ]
  },
  {
   "cell_type": "code",
   "execution_count": null,
   "id": "descending-prague",
   "metadata": {},
   "outputs": [],
   "source": []
  }
 ],
 "metadata": {
  "kernelspec": {
   "display_name": "Python 3",
   "language": "python",
   "name": "python3"
  },
  "language_info": {
   "codemirror_mode": {
    "name": "ipython",
    "version": 3
   },
   "file_extension": ".py",
   "mimetype": "text/x-python",
   "name": "python",
   "nbconvert_exporter": "python",
   "pygments_lexer": "ipython3",
   "version": "3.7.10"
  }
 },
 "nbformat": 4,
 "nbformat_minor": 5
}
