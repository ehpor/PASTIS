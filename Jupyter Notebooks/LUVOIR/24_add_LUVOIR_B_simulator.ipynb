{
 "cells": [
  {
   "cell_type": "markdown",
   "id": "7eac2117",
   "metadata": {},
   "source": [
    "# Add LUVOIR B simulator"
   ]
  },
  {
   "cell_type": "code",
   "execution_count": null,
   "id": "61eada4d",
   "metadata": {},
   "outputs": [],
   "source": [
    "import os\n",
    "\n",
    "from pastis.config import CONFIG_PASTIS\n",
    "from pastis.e2e_simulators.luvoir_imaging import LuvoirBVortex\n",
    "import pastis.util"
   ]
  },
  {
   "cell_type": "code",
   "execution_count": null,
   "id": "46b37f5c",
   "metadata": {},
   "outputs": [],
   "source": [
    "charge = 6\n",
    "optics_input = os.path.join(pastis.util.find_repo_location(), CONFIG_PASTIS.get('LUVOIR-B', 'optics_path_in_repo'))\n",
    "luvoir = LuvoirBVortex(optics_input, charge)"
   ]
  },
  {
   "cell_type": "code",
   "execution_count": null,
   "id": "12bf7017",
   "metadata": {},
   "outputs": [],
   "source": [
    "coron = luvoir.calc_psf(display_intermediate=True)"
   ]
  },
  {
   "cell_type": "code",
   "execution_count": null,
   "id": "6dd7bacb",
   "metadata": {},
   "outputs": [],
   "source": []
  }
 ],
 "metadata": {
  "kernelspec": {
   "display_name": "Python 3",
   "language": "python",
   "name": "python3"
  },
  "language_info": {
   "codemirror_mode": {
    "name": "ipython",
    "version": 3
   },
   "file_extension": ".py",
   "mimetype": "text/x-python",
   "name": "python",
   "nbconvert_exporter": "python",
   "pygments_lexer": "ipython3",
   "version": "3.7.10"
  }
 },
 "nbformat": 4,
 "nbformat_minor": 5
}
