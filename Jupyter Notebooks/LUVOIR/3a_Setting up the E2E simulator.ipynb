{
 "cells": [
  {
   "cell_type": "markdown",
   "metadata": {},
   "source": [
    "# Setting up the E2E simulator\n",
    "\n",
    "I am creating this notebook at a point where I have finally figured out how to connect the APLC propagation in `HCIPy` with the segmented mirror (SM) from HCIPy, which is currently still a pull request (PR) on GitHub but fully functinoal on it.\n",
    "\n",
    "**Required files**\n",
    "\n",
    "This LUVOIR simulator is set up in a way that is agnostic to the aperture and coronograph we use, as long as a couple of very specific input files are provided. We are currently limited to an Apodized Pupil Lyot Coronagraph, but I intend to extend this in the future. The files we need to make the current version work are:\n",
    "\n",
    "- **segmented aperture** fits file: This is the entrance pupil of the segmented telescope and needs to come together with the apodizer ad Lyot stop files. This file is not actually needed for the propagation (because we need to have `(aper x apod) - apod = 0`), but it will always be one of the main files in an APLC optimization run.\n",
    "- **indexed segmented aperture** fits file with **segment positions**: This is a copy of the segmented aperture file except that each segment is filled with its number value, i.e. segment 1 will be filled with ones instead of zeros, segmente two will be filled with twos and so on. Additionally, this file needs to have all segments' x and y (center) position saved in its fits header.\n",
    "- **apodizer** fits file: This needs to be a file that if overlapped directly with the segmented entrance aperture, it must work. It doesn't matter if it is a perfect fit or if the apodizer is slightly undersized to make sure there are not errors on the edges. `(aper x apod) - apod = 0` needs to be true.\n",
    "- **Lyot stop** fits file: As the apodizer, this needs to come as a part of the aperture-apodizer-lyot stop package to the pixel level.\n",
    "\n",
    "I will first set up the entire system and show how to aberrate the segmented mirror and then hopefully find a way of modularizing it all together so that I can use it in an easier way for PASTIS."
   ]
  },
  {
   "cell_type": "code",
   "execution_count": null,
   "metadata": {
    "collapsed": true
   },
   "outputs": [],
   "source": [
    "# Imports\n",
    "import os\n",
    "import numpy as np\n",
    "import matplotlib.pyplot as plt\n",
    "from matplotlib.colors import LogNorm\n",
    "import astropy.units as u\n",
    "from astropy.io import fits\n",
    "%matplotlib inline\n",
    "import hcipy as hc\n",
    "from hcipy.optics.segmented_mirror import SegmentedMirror"
   ]
  },
  {
   "cell_type": "code",
   "execution_count": null,
   "metadata": {},
   "outputs": [],
   "source": [
    "# General telescope parameters\n",
    "nseg = 120\n",
    "wvln = 638e-9 # m\n",
    "diam = 15. # m\n",
    "\n",
    "# Image system parameters\n",
    "im_lamD = 30     # image size in lambda/D\n",
    "sampling = 4\n",
    "\n",
    "# Coronagraph parameters\n",
    "# The LUVOIR STDT delivery in May 2018 included three different apodizers\n",
    "# we can work with, so I will implement an easy way of making a choice between them.\n",
    "design = 'small'\n",
    "datadir = '/Users/ilaginja/Documents/LabWork/ultra/LUVOIR_delivery_May2019/'\n",
    "apod_dict = {'small': {'pxsize': 1000, 'fpm_rad': 3.5, 'fpm_px': 150, 'iwa': 3.4, 'owa': 12.,\n",
    "                       'fname': '0_LUVOIR_N1000_FPM350M0150_IWA0340_OWA01200_C10_BW10_Nlam5_LS_IDD0120_OD0982_no_ls_struts.fits'},\n",
    "             'medium': {'pxsize': 1000, 'fpm_rad': 6.82, 'fpm_px': 250, 'iwa': 6.72, 'owa': 23.72,\n",
    "                        'fname': '0_LUVOIR_N1000_FPM682M0250_IWA0672_OWA02372_C10_BW10_Nlam5_LS_IDD0120_OD0982_no_ls_struts.fits'},\n",
    "             'large': {'pxsize': 1000, 'fpm_rad': 13.38, 'fpm_px': 400, 'iwa': 13.28, 'owa': 46.88,\n",
    "                       'fname': '0_LUVOIR_N1000_FPM1338M0400_IWA1328_OWA04688_C10_BW10_Nlam5_LS_IDD0120_OD0982_no_ls_struts.fits'}}\n",
    "\n",
    "pup_px = apod_dict[design]['pxsize']\n",
    "fpm_rad = apod_dict[design]['fpm_rad']  # lambda/D\n",
    "fpm_px = apod_dict[design]['fpm_px']\n",
    "samp_foc = fpm_px / (fpm_rad * 2)   # sampling of focal plane mask\n",
    "iwa = apod_dict[design]['iwa']   # lambda/D\n",
    "owa = apod_dict[design]['owa']  # lambda/D\n",
    "\n",
    "# Print some of the defined parameters\n",
    "print('LUVOIR apodizer design: {}'.format(design))\n",
    "print()\n",
    "print('Wavelength: {} m'.format(wvln))\n",
    "print('Telescope diameter: {} m'.format(diam))\n",
    "print('Number of segments: {}'.format(nseg))\n",
    "print()\n",
    "print('IWA: {} lambda/D'.format(iwa))\n",
    "print('OWA: {} lambda/D'.format(owa))\n",
    "print('Pupil size: {} pixels'.format(pup_px))\n",
    "print('Image size: {} lambda/D'.format(im_lamD))\n",
    "print('Sampling: {} px per lambda/D'.format(sampling))\n",
    "print('FPM radius: {} lambda/D'.format(fpm_rad))\n",
    "print('Pixels in FPM: {} pixels'.format(fpm_px))"
   ]
  },
  {
   "cell_type": "markdown",
   "metadata": {},
   "source": [
    "##  Preparing the optical system\n",
    "\n",
    "### Pupil plane optics from file\n",
    "\n",
    "Reading the segmented aperture, indexed aperture, apodizer and Lyot stop from fits into **numpy arrays**."
   ]
  },
  {
   "cell_type": "code",
   "execution_count": null,
   "metadata": {},
   "outputs": [],
   "source": [
    "aper_path = 'inputs/TelAp_LUVOIR_gap_pad01_bw_ovsamp04_N1000.fits'\n",
    "aper_ind_path = 'inputs/TelAp_LUVOIR_gap_pad01_bw_ovsamp04_N1000_indexed.fits'\n",
    "apod_path = os.path.join(datadir, 'luvoir_stdt_baseline_bw10', design+'_fpm', 'solutions',\n",
    "                          apod_dict[design]['fname'])\n",
    "ls_fname = 'inputs/LS_LUVOIR_ID0120_OD0982_no_struts_gy_ovsamp4_N1000.fits'\n",
    "\n",
    "pup_read = hc.read_fits(os.path.join(datadir, aper_path))\n",
    "aper_ind_read = hc.read_fits(os.path.join(datadir, aper_ind_path))\n",
    "apod_read = hc.read_fits(os.path.join(datadir, apod_path))\n",
    "ls_read = hc.read_fits(os.path.join(datadir, ls_fname))\n",
    "\n",
    "plt.figure(figsize=(15, 15))\n",
    "plt.suptitle('Display pupil numpy arrays')\n",
    "plt.subplot(221)\n",
    "plt.imshow(pup_read)\n",
    "plt.title('Segmented aperture')\n",
    "plt.subplot(222)\n",
    "plt.imshow(aper_ind_read)\n",
    "plt.title('Indexed aperture')\n",
    "plt.subplot(223)\n",
    "plt.imshow(apod_read)\n",
    "plt.title('Apodizer')\n",
    "plt.subplot(224)\n",
    "plt.imshow(ls_read)\n",
    "plt.title('Lyot stop')"
   ]
  },
  {
   "cell_type": "markdown",
   "metadata": {},
   "source": [
    "We need to cast them into HCIPy's `Field` class instances."
   ]
  },
  {
   "cell_type": "code",
   "execution_count": null,
   "metadata": {},
   "outputs": [],
   "source": [
    "pupil_grid = hc.make_pupil_grid(dims=pup_px, diameter=diam)\n",
    "\n",
    "aperture = hc.Field(pup_read.ravel(), pupil_grid)\n",
    "aper_ind = hc.Field(aper_ind_read.ravel(), pupil_grid)\n",
    "apod = hc.Field(apod_read.ravel(), pupil_grid)\n",
    "ls = hc.Field(ls_read.ravel(), pupil_grid)\n",
    "\n",
    "plt.figure(figsize=(15, 15))\n",
    "plt.suptitle('Display pupil HCIPy Fields')\n",
    "plt.subplot(221)\n",
    "hc.imshow_field(aperture)\n",
    "plt.title('Segmented aperture')\n",
    "plt.subplot(222)\n",
    "hc.imshow_field(aper_ind)\n",
    "plt.title('Indexed aperture')\n",
    "plt.subplot(223)\n",
    "hc.imshow_field(apod)\n",
    "plt.title('Apodizer')\n",
    "plt.subplot(224)\n",
    "hc.imshow_field(ls)\n",
    "plt.title('Lyot stop')"
   ]
  },
  {
   "cell_type": "markdown",
   "metadata": {},
   "source": [
    "Moreover, the **apodizer** and **Lyot stop** have to be made into an actual optical element to be able to act on wavefronts."
   ]
  },
  {
   "cell_type": "code",
   "execution_count": null,
   "metadata": {},
   "outputs": [],
   "source": [
    "apodizer = hc.Apodizer(apod)\n",
    "lyotstop = hc.Apodizer(ls)"
   ]
  },
  {
   "cell_type": "markdown",
   "metadata": {},
   "source": [
    "### Segment positions\n",
    "\n",
    "They're saved individually in the header of the indexed aperture fits file. The resulting list of segment positions needs to have the format `(2, nseg)`."
   ]
  },
  {
   "cell_type": "code",
   "execution_count": null,
   "metadata": {},
   "outputs": [],
   "source": [
    "# Load segment positions form fits header\n",
    "hdr = fits.getheader(os.path.join(datadir, aper_ind_path))\n",
    "\n",
    "poslist = []\n",
    "for i in range(nseg):\n",
    "    segname = 'SEG' + str(i+1)\n",
    "    xin = hdr[segname + '_X']\n",
    "    yin = hdr[segname + '_Y']\n",
    "    poslist.append((xin, yin))\n",
    "    \n",
    "poslist = np.transpose(np.array(poslist))\n",
    "print(poslist.shape)"
   ]
  },
  {
   "cell_type": "markdown",
   "metadata": {},
   "source": [
    "We need to cast this into a `CartesianGrid` - note how the dimensionality gets reversed."
   ]
  },
  {
   "cell_type": "code",
   "execution_count": null,
   "metadata": {},
   "outputs": [],
   "source": [
    "# Cast into HCIPy CartesianCoordinates (because that's what the SM needs)\n",
    "seg_pos = hc.CartesianGrid(poslist)\n",
    "print(type(seg_pos))\n",
    "print(seg_pos.points.shape)"
   ]
  },
  {
   "cell_type": "markdown",
   "metadata": {},
   "source": [
    "### Segmented mirror\n",
    "\n",
    "The segmented mirror needs the indexed aperture and the segment positions as an input, which allows it to work on any arbitrary segmented telescope."
   ]
  },
  {
   "cell_type": "code",
   "execution_count": null,
   "metadata": {
    "collapsed": true
   },
   "outputs": [],
   "source": [
    "# Instantiate the SM\n",
    "sm = SegmentedMirror(aper_ind, seg_pos)"
   ]
  },
  {
   "cell_type": "markdown",
   "metadata": {},
   "source": [
    "We can display the segment numbers, which is important to be able to identify which segment we are controlling. This is supposed to be a class method, but is not yet."
   ]
  },
  {
   "cell_type": "code",
   "execution_count": null,
   "metadata": {},
   "outputs": [],
   "source": [
    "# Show the SM with segment numbering\n",
    "hc.imshow_field(aper_ind)\n",
    "for i, par in enumerate(seg_pos):\n",
    "    pos = par * diam\n",
    "    plt.annotate(s=i+1, xy=pos, xytext=pos, color='white', fontweight='bold')"
   ]
  },
  {
   "cell_type": "markdown",
   "metadata": {},
   "source": [
    "### Focal plane mask"
   ]
  },
  {
   "cell_type": "code",
   "execution_count": null,
   "metadata": {
    "collapsed": true
   },
   "outputs": [],
   "source": [
    "# Make focal grid for FPM\n",
    "focal_grid_fpm = hc.make_focal_grid(pupil_grid=pupil_grid, q=samp_foc, num_airy=fpm_rad, wavelength=wvln)"
   ]
  },
  {
   "cell_type": "markdown",
   "metadata": {},
   "source": [
    "Since we're using actual physical units for our telescope diameter and wavelength, one $\\lambda/D$ in our focal planes will also have a non-unit size. We need to knowo what that is (in units of radians)."
   ]
  },
  {
   "cell_type": "code",
   "execution_count": null,
   "metadata": {},
   "outputs": [],
   "source": [
    "# Let's figure out how much 1 lambda/D is in radians (needed for focal plane)\n",
    "lam_over_d = wvln / diam  # rad\n",
    "print('Wavelength = {} m'.format(wvln))\n",
    "print('Telescope diameter = {} m'.format(diam))\n",
    "print('1 lambda/D = {} rad'.format(lam_over_d))"
   ]
  },
  {
   "cell_type": "code",
   "execution_count": null,
   "metadata": {},
   "outputs": [],
   "source": [
    "# Create FPM on a focal grid, with radius in lambda/D\n",
    "fpm = 1 - hc.circular_aperture(2*fpm_rad*lam_over_d)(focal_grid_fpm)\n",
    "\n",
    "# Display the FPM\n",
    "hc.imshow_field(fpm)\n",
    "plt.title('Focal plane mask')"
   ]
  },
  {
   "cell_type": "markdown",
   "metadata": {},
   "source": [
    "## Optical system propagation\n",
    "\n",
    "The goal of this section is to aberrate some segments and get a focal plane image. At the heart of this lie the wavefronts in the different planes that are directly accessible:\n",
    "\n",
    "*Full system:*\n",
    "- `wf_sm`: at the SM pupil plane, to see what aberrations are applied to the SM\n",
    "- `wf_apod`: pupil plane with **SM** (equivalent to entrance pupil) and apodizer\n",
    "- `wf_lyot`: Lyot plane **after** SA propagation and **after** Lyot stop\n",
    "- `wf_im_coro`: image plane after coronagraph propagation\n",
    "\n",
    "*Reference image:*\n",
    "- `wf_ref_pup`: pupil plane with entrance aperture (not the SM!), apodizer and Lyot stop (FPM left out) for reference image\n",
    "- `wf_im_ref`: image plane for reference image without the FPM\n",
    "\n",
    "*Extra planes within the full system:*\n",
    "- `wf_aper`: at the aperutre, solely used to be abble to propagate the SM\n",
    "- `wf_before_fpm`: focal plane directly before the FPM\n",
    "- `int_after_fpm`: focal plane directly after the FPM - directly the intensity, because that is easier to get for this plane\n",
    "- `wf_before_lyot`: pupil plane in Lyot plane right before Lyot stop\n",
    "\n",
    "(I should add a picture for this.)"
   ]
  },
  {
   "cell_type": "markdown",
   "metadata": {},
   "source": [
    "#### Create the extra focal grids\n",
    "\n",
    "We need one focal grid for the detector plane."
   ]
  },
  {
   "cell_type": "code",
   "execution_count": null,
   "metadata": {
    "collapsed": true
   },
   "outputs": [],
   "source": [
    "# Detector plane focal grid\n",
    "focal_grid_det = hc.make_focal_grid(pupil_grid=pupil_grid, q=sampling, num_airy=im_lamD, wavelength=wvln)"
   ]
  },
  {
   "cell_type": "markdown",
   "metadata": {},
   "source": [
    "If we want to be able to overplot the FPM with the PSF in that focal plane, we will need to create an additional FPM that we only use for plotting purposes. The FPM we created above is specific to the SA propagation and won't match the PSF grid, so we cannot overplot them."
   ]
  },
  {
   "cell_type": "code",
   "execution_count": null,
   "metadata": {
    "collapsed": true
   },
   "outputs": [],
   "source": [
    "fpm_plot = 1 - hc.circular_aperture(2 * fpm_rad * lam_over_d)(focal_grid_det)"
   ]
  },
  {
   "cell_type": "markdown",
   "metadata": {},
   "source": [
    "#### Create propagators"
   ]
  },
  {
   "cell_type": "code",
   "execution_count": null,
   "metadata": {},
   "outputs": [],
   "source": [
    "# Full Lyot coro system from pupil to Lyot plane\n",
    "coro = hc.LyotCoronagraph(pupil_grid, fpm, ls)   # this propagator needs the LS *Field*, not the Apodizer() object\n",
    "\n",
    "# Direct propagation from pupil plane to detector-like focal plane\n",
    "prop = hc.FraunhoferPropagator(pupil_grid, focal_grid_det)\n",
    "\n",
    "# Lyot coronagraph propagator without applying LS, for extra plane\n",
    "coro_no_ls = hc.LyotCoronagraph(pupil_grid, fpm)"
   ]
  },
  {
   "cell_type": "markdown",
   "metadata": {},
   "source": [
    "### Aberrate the SM\n",
    "\n",
    "The fastest way to aberrate the SM is to create a list of segments to be aberrated and then apply the same aberration wiht the same amplitude to all of them. I will need to write some methods and functions that facilitate this, but for now this will do.\n",
    "\n",
    "The SM takes the mirror surface aberration as input, so if we want to define our aberration amplitude in radians, we can convert it first to OPD with this function:"
   ]
  },
  {
   "cell_type": "code",
   "execution_count": null,
   "metadata": {
    "collapsed": true
   },
   "outputs": [],
   "source": [
    "def aber_to_opd(aber_rad, wvln):\n",
    "    aber_m = aber_rad * wvln / (2 * np.pi)\n",
    "    return aber_m"
   ]
  },
  {
   "cell_type": "markdown",
   "metadata": {},
   "source": [
    "And since it takes meters of surface, we need to divide the OPD by two before we sent the command off to the SM."
   ]
  },
  {
   "cell_type": "code",
   "execution_count": null,
   "metadata": {},
   "outputs": [],
   "source": [
    "aber_seg = [1, 14, 16, 23, 28, 46, 120, 104, 96, 84]\n",
    "opd_m = 1e-9   # I decided I want to define my aberration in meters of OPD. Remember divide by 2 for the SM!\n",
    "\n",
    "sm.flatten()\n",
    "for aseg in aber_seg:\n",
    "    sm.set_segment(aseg, opd_m/2, 0, 0)\n",
    "    \n",
    "wf_aper = hc.Wavefront(aperture, wavelength=wvln)   # this wf is always the same, no matter what else we change\n",
    "wf_sm = sm(wf_aper)\n",
    "\n",
    "# Display SM phase\n",
    "plt.figure(figsize=(10, 10))\n",
    "hc.imshow_field(wf_sm.phase, mask=aperture, cmap='RdBu')\n",
    "plt.title('Wavefront phase at SM')\n",
    "plt.colorbar()"
   ]
  },
  {
   "cell_type": "markdown",
   "metadata": {},
   "source": [
    "### Create the wavefronts\n",
    "\n",
    "We will now proceed in creating all the wavefronts listed above. This is essentially the last step in the full propagation, as for anything after that we just access the attributes of the wavefronts, mostly phase or intensity."
   ]
  },
  {
   "cell_type": "code",
   "execution_count": null,
   "metadata": {},
   "outputs": [],
   "source": [
    "# All wavefronts of the full propagation\n",
    "wf_sm = sm(wf_aper)\n",
    "wf_apod = apodizer(wf_sm)\n",
    "wf_lyot = coro(wf_apod)\n",
    "wf_im_coro = prop(wf_lyot)"
   ]
  },
  {
   "cell_type": "code",
   "execution_count": null,
   "metadata": {},
   "outputs": [],
   "source": [
    "# Wavefronts of the reference propagation\n",
    "wf_ref_pup = hc.Wavefront(apod * ls, wavelength=wvln)   # using the Fields here instead of the Apodizer() objects for apod and ls\n",
    "wf_im_ref = prop(wf_ref_pup)\n",
    "\n",
    "# This is our normalizaiton factor for image plane images.\n",
    "# All other images will be normalized by their own peak.\n",
    "norm = wf_im_ref.intensity.max()"
   ]
  },
  {
   "cell_type": "code",
   "execution_count": null,
   "metadata": {},
   "outputs": [],
   "source": [
    "wf_before_fpm = prop(wf_apod)\n",
    "int_after_fpm = np.log10(wf_before_fpm.intensity/norm) * fpm_plot   # this is the intensity straight\n",
    "wf_before_lyot = coro_no_ls(wf_apod)\n",
    "# wf_aper generated above"
   ]
  },
  {
   "cell_type": "markdown",
   "metadata": {},
   "source": [
    "### Display all planes"
   ]
  },
  {
   "cell_type": "code",
   "execution_count": null,
   "metadata": {},
   "outputs": [],
   "source": [
    "plt.figure(figsize=(15, 15))\n",
    "\n",
    "plt.subplot(331)\n",
    "hc.imshow_field(wf_sm.phase, mask=aperture, cmap='RdBu')\n",
    "plt.title('Seg aperture phase')\n",
    "\n",
    "plt.subplot(332)\n",
    "hc.imshow_field(wf_apod.intensity, cmap='inferno')\n",
    "plt.title('Apodizer')\n",
    "\n",
    "plt.subplot(333)\n",
    "hc.imshow_field(wf_before_fpm.intensity/wf_before_fpm.intensity.max(), norm=LogNorm(), cmap='inferno')\n",
    "plt.title('Before FPM')\n",
    "\n",
    "plt.subplot(334)\n",
    "hc.imshow_field(int_after_fpm/wf_before_fpm.intensity.max(), cmap='inferno')\n",
    "plt.title('After FPM')\n",
    "\n",
    "plt.subplot(335)\n",
    "hc.imshow_field(wf_before_lyot.intensity/wf_before_lyot.intensity.max(), norm=LogNorm(vmin=1e-3, vmax=1), cmap='inferno')\n",
    "plt.title('Before Lyot stop')\n",
    "\n",
    "plt.subplot(336)\n",
    "hc.imshow_field(wf_lyot.intensity/wf_lyot.intensity.max(), norm=LogNorm(vmin=1e-3, vmax=1), cmap='inferno', mask=ls)\n",
    "plt.title('After Lyot stop')\n",
    "\n",
    "plt.subplot(337)\n",
    "hc.imshow_field(wf_im_coro.intensity/norm, norm=LogNorm(vmin=1e-10, vmax=1e-3), cmap='inferno')\n",
    "plt.title('Final image')\n",
    "plt.colorbar()"
   ]
  },
  {
   "cell_type": "code",
   "execution_count": null,
   "metadata": {},
   "outputs": [],
   "source": [
    "hc.imshow_field(wf_im_coro.intensity/norm, norm=LogNorm(vmin=1e-10, vmax=1e-3), cmap='inferno')\n",
    "plt.colorbar()"
   ]
  },
  {
   "cell_type": "markdown",
   "metadata": {},
   "source": [
    "# LUVOIR simulator class\n",
    "\n",
    "What we want to do next is setting this up in a class that we can call as a whole instead of having to run through all the cells from above. For now, the only thing it has to be able to do is to take in segment aberrations and spit out the images."
   ]
  },
  {
   "cell_type": "code",
   "execution_count": null,
   "metadata": {
    "collapsed": true
   },
   "outputs": [],
   "source": [
    "class SegmentedTelescopeAPLC(SegmentedMirror):\n",
    "    \"\"\" A segmented telescope with an APLC and actuated segments.\n",
    "    \n",
    "    Parameters:\n",
    "    ----------\n",
    "    aper : Field\n",
    "        Telescope aperture.\n",
    "    indexed_aperture : Field\n",
    "        The *indexed* segmented aperture of the mirror, all pixels each segment being filled with its number for\n",
    "        segment identification. Segment gaps must be strictly zero.\n",
    "    seg_pos : CartesianGrid(UnstructuredCoords)\n",
    "        Segment positions of the aperture.\n",
    "    apod : Field\n",
    "        Apodizer\n",
    "    lyots : Field\n",
    "        Lyot stop\n",
    "    fpm : fpm\n",
    "        Focal plane mask\n",
    "    params : dict\n",
    "        wavelength, diameter, image size in lambda/D, FPM radius\n",
    "    \"\"\"\n",
    "    \n",
    "    def __init__(self, aper, indexed_aperture, seg_pos, apod, lyotst, fpm, focal_grid, params={}):\n",
    "        self.sm = SegmentedMirror(indexed_aperture=indexed_aperture, seg_pos=seg_pos)\n",
    "        self.apodizer = apod\n",
    "        self.lyotstop = lyotst\n",
    "        self.fpm = fpm\n",
    "        self.wvln = params['wavelength']\n",
    "        self.diam = params['diameter']\n",
    "        self.imlamD = params['imlamD']\n",
    "        self.fpm_rad = params['fpm_rad']\n",
    "        self.lamDrad = self.wvln / self.diam\n",
    "        self.coro = hc.LyotCoronagraph(indexed_aperture.grid, fpm, lyotst)\n",
    "        self.prop = hc.FraunhoferPropagator(indexed_aperture.grid, focal_grid)\n",
    "        self.coro_no_ls = hc.LyotCoronagraph(indexed_aperture.grid, fpm)\n",
    "        self.wf_aper = hc.Wavefront(aper, wavelength=wvln)\n",
    "        self.focal_det = focal_grid\n",
    "    \n",
    "    def calc_psf(self, ref=False, display_intermediate=False):\n",
    "        \"\"\"Calculate the PSF of the segmented telescope, normalized to contrast units.\n",
    "        \n",
    "        Parameters:\n",
    "        ----------\n",
    "        ref : bool\n",
    "            Keyword for additinally returning the refrence PSF without the FPM.\n",
    "        Returns:\n",
    "        --------\n",
    "        wf_im_coro.intensity : Field\n",
    "            Coronagraphic image, normalized to contrast units by max of reference image (even when ref\n",
    "            not returned).\n",
    "        wf_im_ref.intensity : Field, optional\n",
    "            Reference image without FPM.\n",
    "        intermediates : dict, optional\n",
    "            Intermediate plane intensity images; except of phase on segmented mirror.\n",
    "        \"\"\"\n",
    "        \n",
    "        # Create fake FPM for plotting\n",
    "        fpm_plot = 1 - hc.circular_aperture(2 * self.fpm_rad * self.lamDrad)(self.focal_det)\n",
    "        \n",
    "        # Calculate all wavefronts of the full propagation\n",
    "        wf_sm = self.sm(self.wf_aper)\n",
    "        wf_apod = apodizer(wf_sm)\n",
    "        wf_lyot = coro(wf_apod)\n",
    "        wf_im_coro = prop(wf_lyot)\n",
    "\n",
    "        # Wavefronts in extra planes\n",
    "        wf_before_fpm = prop(wf_apod)\n",
    "        int_after_fpm = np.log10(wf_before_fpm.intensity/norm) * fpm_plot   # this is the intensity straight\n",
    "        wf_before_lyot = coro_no_ls(wf_apod)\n",
    "        \n",
    "        # Wavefronts of the reference propagation\n",
    "        wf_ref_pup = hc.Wavefront(self.apodizer * self.lyotstop, wavelength=self.wvln)\n",
    "        wf_im_ref = prop(wf_ref_pup)\n",
    "        \n",
    "        # Display intermediate planes\n",
    "        if display_intermediate:\n",
    "            \n",
    "            intermediates = {'seg_mirror_phase': wf_sm.phase,\n",
    "                             'apod': wf_apod.intensity,\n",
    "                             'before_fpm': wf_before_fpm.intensity/wf_before_fpm.intensity.max(),\n",
    "                             'after_fpm': int_after_fpm/wf_before_fpm.intensity.max(),\n",
    "                             'before_lyot': wf_before_lyot.intensity/wf_before_lyot.intensity.max(),\n",
    "                             'after_lyot': wf_lyot.intensity/wf_lyot.intensity.max(),\n",
    "                             'coro_image': wf_im_coro.intensity/wf_im_ref.intensity.max()}\n",
    "            \n",
    "            plt.figure(figsize=(15, 15))\n",
    "\n",
    "            plt.subplot(331)\n",
    "            hc.imshow_field(wf_sm.phase, mask=aperture, cmap='RdBu')\n",
    "            plt.title('Seg aperture phase')\n",
    "\n",
    "            plt.subplot(332)\n",
    "            hc.imshow_field(wf_apod.intensity, cmap='inferno')\n",
    "            plt.title('Apodizer')\n",
    "\n",
    "            plt.subplot(333)\n",
    "            hc.imshow_field(wf_before_fpm.intensity/wf_before_fpm.intensity.max(), norm=LogNorm(), cmap='inferno')\n",
    "            plt.title('Before FPM')\n",
    "\n",
    "            plt.subplot(334)\n",
    "            hc.imshow_field(int_after_fpm/wf_before_fpm.intensity.max(), cmap='inferno')\n",
    "            plt.title('After FPM')\n",
    "\n",
    "            plt.subplot(335)\n",
    "            hc.imshow_field(wf_before_lyot.intensity/wf_before_lyot.intensity.max(), norm=LogNorm(vmin=1e-3, vmax=1), cmap='inferno')\n",
    "            plt.title('Before Lyot stop')\n",
    "\n",
    "            plt.subplot(336)\n",
    "            hc.imshow_field(wf_lyot.intensity/wf_lyot.intensity.max(), norm=LogNorm(vmin=1e-3, vmax=1), cmap='inferno', mask=self.lyotstop)\n",
    "            plt.title('After Lyot stop')\n",
    "\n",
    "            plt.subplot(337)\n",
    "            hc.imshow_field(wf_im_coro.intensity/wf_im_ref.intensity.max(), norm=LogNorm(vmin=1e-10, vmax=1e-3), cmap='inferno')\n",
    "            plt.title('Final image')\n",
    "            plt.colorbar()\n",
    "            \n",
    "            if ref:\n",
    "                return wf_im_coro.intensity, wf_im_ref.intensity, intermediates\n",
    "            else:\n",
    "                wf_im_coro.intensity, intermediates\n",
    "\n",
    "        if ref:\n",
    "            return wf_im_coro.intensity, wf_im_ref.intensity\n",
    "        \n",
    "        return wf_im_coro.intensity\n",
    "    \n",
    "    def flatten(self):\n",
    "        self.sm.flatten()\n",
    "        \n",
    "    def set_segment(self, segid, piston, tip, tilt):\n",
    "        self.sm.set_segment(segid, piston, tip, tilt)\n",
    "        \n",
    "    def apply_aberrations(self, aber_array):\n",
    "        for vals in aber_array:\n",
    "            self.sm.set_segment(vals[0], vals[1], vals[2], vals[3])\n",
    "        \n",
    "    def forward(self, wavefront):\n",
    "        raise NotImplementedError()\n",
    "        \n",
    "    def backward(self, wavefront):\n",
    "        raise NotImplementedError()"
   ]
  },
  {
   "cell_type": "code",
   "execution_count": null,
   "metadata": {
    "collapsed": true
   },
   "outputs": [],
   "source": [
    "# Create parameter dictionary\n",
    "luvoir_params = {'wavelength': wvln, 'diameter': diam, 'imlamD': im_lamD, 'fpm_rad': fpm_rad}"
   ]
  },
  {
   "cell_type": "code",
   "execution_count": null,
   "metadata": {},
   "outputs": [],
   "source": [
    "# Instantiate LUVOIR telescope with APLC\n",
    "luvoir = SegmentedTelescopeAPLC(aperture, aper_ind, seg_pos, apod, ls, fpm, focal_grid_det, luvoir_params)"
   ]
  },
  {
   "cell_type": "code",
   "execution_count": null,
   "metadata": {},
   "outputs": [],
   "source": [
    "# Get coro PSF, ref PSF and intermediate planes\n",
    "im, ref, inter = luvoir.calc_psf(ref=True, display_intermediate=True)"
   ]
  },
  {
   "cell_type": "markdown",
   "metadata": {},
   "source": [
    "Try aberrating the SM and regenerate the PSF."
   ]
  },
  {
   "cell_type": "code",
   "execution_count": null,
   "metadata": {
    "collapsed": true
   },
   "outputs": [],
   "source": [
    "aber_seg = [2, 13, 20, 32, 27, 53, 102, 107, 111, 119]\n",
    "opd_m = 1e-9   # I decided I want to define my aberration in meters of OPD. Remember to divide by 2 for the SM!\n",
    "\n",
    "luvoir.flatten()\n",
    "for aseg in aber_seg:\n",
    "    luvoir.set_segment(aseg, opd_m/2, 0, 0)"
   ]
  },
  {
   "cell_type": "code",
   "execution_count": null,
   "metadata": {},
   "outputs": [],
   "source": [
    "im, ref, inter = luvoir.calc_psf(ref=True, display_intermediate=True)"
   ]
  },
  {
   "cell_type": "code",
   "execution_count": null,
   "metadata": {},
   "outputs": [],
   "source": [
    "hc.imshow_field(inter['coro_image'], norm=LogNorm(vmin=1e-11, vmax=1e-3))"
   ]
  },
  {
   "cell_type": "code",
   "execution_count": null,
   "metadata": {
    "collapsed": true
   },
   "outputs": [],
   "source": []
  }
 ],
 "metadata": {
  "kernelspec": {
   "display_name": "Python 3",
   "language": "python",
   "name": "python3"
  },
  "language_info": {
   "codemirror_mode": {
    "name": "ipython",
    "version": 3
   },
   "file_extension": ".py",
   "mimetype": "text/x-python",
   "name": "python",
   "nbconvert_exporter": "python",
   "pygments_lexer": "ipython3",
   "version": "3.6.8"
  }
 },
 "nbformat": 4,
 "nbformat_minor": 2
}
