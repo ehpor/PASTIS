{
 "cells": [
  {
   "cell_type": "markdown",
   "metadata": {},
   "source": [
    "# Phapse wrapping\n",
    "\n",
    "PASTIS needs aberration values to be within $-\\lambda/2$ and $\\lambda/2$."
   ]
  },
  {
   "cell_type": "code",
   "execution_count": null,
   "metadata": {
    "collapsed": true
   },
   "outputs": [],
   "source": [
    "import os\n",
    "import numpy as np\n",
    "import astropy.units as u\n",
    "import matplotlib.pyplot as plt\n",
    "from matplotlib.colors import LogNorm\n",
    "%matplotlib inline\n",
    "\n",
    "os.chdir('../pastis/')\n",
    "from config import CONFIG_INI\n",
    "import util_pastis as util"
   ]
  },
  {
   "cell_type": "code",
   "execution_count": null,
   "metadata": {
    "collapsed": true
   },
   "outputs": [],
   "source": [
    "nb_seg = CONFIG_INI.getint('telescope', 'nb_subapertures')\n",
    "#wvln = CONFIG_INI.getfloat('filter', 'lambda') * u.nm\n",
    "#rms = 1000 * u.nm"
   ]
  },
  {
   "cell_type": "markdown",
   "metadata": {},
   "source": [
    "### Badum tsssss"
   ]
  },
  {
   "cell_type": "markdown",
   "metadata": {},
   "source": [
    "I'm generating a telescope with three segments at with random pistons on each segment. Wavelength is 2."
   ]
  },
  {
   "cell_type": "code",
   "execution_count": null,
   "metadata": {},
   "outputs": [],
   "source": [
    "nb_seg = 3\n",
    "nb_ar = np.array([1,2,3])\n",
    "seg1 = 0.7\n",
    "seg2 = 0.3\n",
    "seg3 = 1.2\n",
    "seg_ar = np.array([seg1, seg2, seg3])\n",
    "print(seg_ar)\n",
    "\n",
    "plt.stem(seg_ar)"
   ]
  },
  {
   "cell_type": "code",
   "execution_count": null,
   "metadata": {},
   "outputs": [],
   "source": [
    "print(\"RMS_mech: {}\".format(util.rms(seg_ar)))\n",
    "print(\"Mean_mech: {}\".format(np.mean(seg_ar)))"
   ]
  },
  {
   "cell_type": "code",
   "execution_count": null,
   "metadata": {},
   "outputs": [],
   "source": [
    "seg_opt = seg_ar * 2\n",
    "print(\"RMS_opd: {}\".format(util.rms(seg_opt)))\n",
    "print(\"Mean_opd: {}\".format(np.mean(seg_opt)))"
   ]
  },
  {
   "cell_type": "markdown",
   "metadata": {},
   "source": [
    "We can see above that RMS_opd = 2 * RMS_mech"
   ]
  },
  {
   "cell_type": "code",
   "execution_count": null,
   "metadata": {},
   "outputs": [],
   "source": [
    "seg_ar -= np.mean(seg_ar)\n",
    "print(\"Mean: {}\".format(np.mean(seg_ar)))   # this is zero now\n",
    "plt.stem(seg_ar)\n",
    "plt.axhline(1, c='k')  # at lambda/2 to each side\n",
    "plt.axhline(-1, c='k')  # at lambda/2 to each side\n",
    "print(\"RMS_mech: {}\".format(util.rms(seg_ar)))   # same as above\n",
    "\n",
    "seg_opt = seg_ar * 2\n",
    "print(\"RMS_opd: {}\".format(util.rms(seg_opt)))"
   ]
  },
  {
   "cell_type": "markdown",
   "metadata": {},
   "source": [
    "OPD is still twice as big as mech RMS.\n",
    "\n",
    "Now make one segment bigger than lambda."
   ]
  },
  {
   "cell_type": "code",
   "execution_count": null,
   "metadata": {},
   "outputs": [],
   "source": [
    "seg_ar[2] = 2.2\n",
    "print(\"RMS_mech: {}\".format(util.rms(seg_ar)))\n",
    "print(\"Mean_mech: {}\".format(np.mean(seg_ar)))\n",
    "\n",
    "seg_opt = seg_ar * 2\n",
    "print(\"RMS_opd: {}\".format(util.rms(seg_opt)))\n",
    "print(\"Mean_opd: {}\".format(np.mean(seg_opt)))\n",
    "\n",
    "plt.stem(seg_ar)\n",
    "plt.axhline(1, c='k')  # at lambda/2 to each side\n",
    "plt.axhline(-1, c='k')  # at lambda/2 to each side"
   ]
  },
  {
   "cell_type": "markdown",
   "metadata": {},
   "source": [
    "RMS_mech is not at lambda yet, and RMS_opd is still twice as much.\n",
    "Continuing to screw up only one segment."
   ]
  },
  {
   "cell_type": "code",
   "execution_count": null,
   "metadata": {},
   "outputs": [],
   "source": [
    "seg_ar[2] = 7.3\n",
    "print(\"RMS_mech: {}\".format(util.rms(seg_ar)))\n",
    "print(\"Mean_mech: {}\".format(np.mean(seg_ar)))\n",
    "\n",
    "seg_opt = seg_ar * 2\n",
    "print(\"RMS_opd: {}\".format(util.rms(seg_opt)))\n",
    "print(\"Mean_opd: {}\".format(np.mean(seg_opt)))\n",
    "\n",
    "plt.stem(seg_ar)\n",
    "plt.axhline(1, c='k')  # at lambda/2 to each side\n",
    "plt.axhline(-1, c='k')  # at lambda/2 to each side"
   ]
  },
  {
   "cell_type": "markdown",
   "metadata": {},
   "source": [
    "RMS_mech is way over lambda, but we're still at RMS_opd = 2 * RMS_mech.\n",
    "\n",
    "What if I now scre up more segments - keep an eye on RMS_mech."
   ]
  },
  {
   "cell_type": "code",
   "execution_count": null,
   "metadata": {},
   "outputs": [],
   "source": [
    "seg_ar[0] = -8.1\n",
    "seg_ar[1] = -2.7\n",
    "seg_ar[2] = 7.3\n",
    "print(\"RMS_mech: {}\".format(util.rms(seg_ar)))\n",
    "print(\"Mean_mech: {}\".format(np.mean(seg_ar)))\n",
    "\n",
    "seg_opt = seg_ar * 2\n",
    "print(\"RMS_opd: {}\".format(util.rms(seg_opt)))\n",
    "print(\"Mean_opd: {}\".format(np.mean(seg_opt)))\n",
    "\n",
    "plt.stem(seg_ar)\n",
    "plt.axhline(1, c='k')  # at lambda/2 to each side\n",
    "plt.axhline(-1, c='k')  # at lambda/2 to each side"
   ]
  },
  {
   "cell_type": "code",
   "execution_count": null,
   "metadata": {},
   "outputs": [],
   "source": [
    "# Trying to do it more formally\n",
    "wvln = 1\n",
    "segs_mech = np.random.uniform(0, wvln, 18)\n",
    "segs_mech -= np.mean(segs_mech)\n",
    "print(\"RMS_mech: {}\".format(util.rms(segs_mech)))\n",
    "segs_opd = segs_mech * 2\n",
    "print(\"RMS_opd: {}\".format(util.rms(segs_opd)))\n",
    "print(\"\\n2*RMS_mech = {}\".format(2*util.rms(segs_mech)))\n",
    "\n",
    "plt.stem(segs_mech)\n",
    "plt.axhline(wvln/2, c='k')  # at lambda/2 to each side\n",
    "plt.axhline(-wvln/2, c='k')  # at lambda/2 to each side"
   ]
  },
  {
   "cell_type": "code",
   "execution_count": null,
   "metadata": {},
   "outputs": [],
   "source": [
    "# Trying to do it more formally\n",
    "wvln = 1\n",
    "segs_mech = np.random.uniform(0, 2*wvln, 18)\n",
    "segs_mech -= np.mean(segs_mech)\n",
    "print(\"RMS_mech: {}\".format(util.rms(segs_mech)))\n",
    "segs_opd = segs_mech * 2\n",
    "print(\"RMS_opd: {}\".format(util.rms(segs_opd)))\n",
    "print(\"\\n2*RMS_mech = {}\".format(2*util.rms(segs_mech)))\n",
    "\n",
    "plt.stem(segs_mech)\n",
    "plt.axhline(wvln/2, c='k')  # at lambda/2 to each side\n",
    "plt.axhline(-wvln/2, c='k')  # at lambda/2 to each side"
   ]
  },
  {
   "cell_type": "code",
   "execution_count": null,
   "metadata": {},
   "outputs": [],
   "source": [
    "# Trying to do it more formally\n",
    "wvln = 1\n",
    "segs_mech = np.random.uniform(0, 5*wvln, 18)\n",
    "segs_mech -= np.mean(segs_mech)\n",
    "print(\"RMS_mech: {}\".format(util.rms(segs_mech)))\n",
    "segs_opd = segs_mech * 2\n",
    "print(\"RMS_opd: {}\".format(util.rms(segs_opd)))\n",
    "print(\"\\n2*RMS_mech = {}\".format(2*util.rms(segs_mech)))\n",
    "\n",
    "plt.stem(segs_mech)\n",
    "plt.axhline(wvln/2, c='k')  # at lambda/2 to each side\n",
    "plt.axhline(-wvln/2, c='k')  # at lambda/2 to each side"
   ]
  },
  {
   "cell_type": "code",
   "execution_count": null,
   "metadata": {},
   "outputs": [],
   "source": [
    "# Trying to do it in a loop for plotting\n",
    "wvln = 1\n",
    "rms_range = np.linspace(0, 2.5*wvln, 50)\n",
    "\n",
    "rms_mech = []\n",
    "rms_opd = []\n",
    "rms_mod = []\n",
    "\n",
    "for i in range(50):\n",
    "    segs_mech = np.random.random([18])\n",
    "\n",
    "    rms_init = util.rms(segs_mech)\n",
    "    segs_mech *= rms_range[i] / rms_init\n",
    "    calc_rms = util.rms(segs_mech)\n",
    "    \n",
    "    rms_mech.append(util.rms(segs_mech))\n",
    "    print(\"RMS_mech: {}\".format(util.rms(segs_mech)))\n",
    "    \n",
    "    segs_mod = segs_mech % wvln\n",
    "    rms_mod.append(util.rms(segs_mech))\n",
    "                    \n",
    "    segs_opd = segs_mech * 2\n",
    "    rms_opd.append(util.rms(segs_opd))\n",
    "    print(\"RMS_opd: {}\".format(util.rms(segs_opd)))\n",
    "    print(\"\\n2*RMS_mech = {}\".format(2*util.rms(segs_mech)))"
   ]
  },
  {
   "cell_type": "code",
   "execution_count": null,
   "metadata": {},
   "outputs": [],
   "source": [
    "plt.scatter(rms_mech, rms_opd)\n",
    "plt.xlabel(\"mechanical\")\n",
    "plt.ylabel(\"optical\")"
   ]
  },
  {
   "cell_type": "code",
   "execution_count": null,
   "metadata": {
    "collapsed": true
   },
   "outputs": [],
   "source": []
  },
  {
   "cell_type": "code",
   "execution_count": null,
   "metadata": {
    "collapsed": true
   },
   "outputs": [],
   "source": []
  }
 ],
 "metadata": {
  "kernelspec": {
   "display_name": "Python 3",
   "language": "python",
   "name": "python3"
  },
  "language_info": {
   "codemirror_mode": {
    "name": "ipython",
    "version": 3
   },
   "file_extension": ".py",
   "mimetype": "text/x-python",
   "name": "python",
   "nbconvert_exporter": "python",
   "pygments_lexer": "ipython3",
   "version": "3.6.8"
  }
 },
 "nbformat": 4,
 "nbformat_minor": 2
}
