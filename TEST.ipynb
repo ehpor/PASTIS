{
 "cells": [
  {
   "cell_type": "markdown",
   "id": "bacf0986",
   "metadata": {},
   "source": [
    "### Test area\n",
    "WebbPSF CGI test"
   ]
  },
  {
   "cell_type": "code",
   "execution_count": null,
   "id": "7426bdd9",
   "metadata": {},
   "outputs": [],
   "source": [
    "%pylab inline --no-import-all\n",
    "matplotlib.rcParams['image.origin'] = 'lower'\n",
    "matplotlib.rcParams['image.interpolation'] = 'nearest'\n",
    "\n",
    "import os\n",
    "os.environ['WEBBPSF_PATH'] = '/home/marken/GitHub/webbpsf_data'\n",
    "import webbpsf\n",
    "from webbpsf import roman\n",
    "import ipywidgets\n",
    "from astropy.io import fits\n",
    "\n",
    "webbpsf.setup_logging()\n",
    "\n",
    "DM_on = roman.CGI(mode='CHARSPC_F770')\n",
    "DM_on.dm1.set_actuator(4, 8, 1e-6)\n",
    "DM_on.dm1.set_actuator(44, 40, 1e-6)\n",
    "\n",
    "DM_on.raw_contrast()"
   ]
  },
  {
   "cell_type": "code",
   "execution_count": null,
   "id": "f5375a9a",
   "metadata": {},
   "outputs": [],
   "source": []
  },
  {
   "cell_type": "code",
   "execution_count": null,
   "id": "f93cedb3",
   "metadata": {},
   "outputs": [],
   "source": [
    "from pastis.config import CONFIG_PASTIS\n",
    "from pastis.hockeystick_contrast_curve import hockeystick_curve\n",
    "from pastis.matrix_building_numerical import MatrixIntensityRST\n",
    "from pastis.pastis_analysis import run_full_pastis_analysis\n",
    "import pastis.util as util\n",
    "\n",
    "run_matrix = MatrixIntensityRST(initial_path=CONFIG_PASTIS.get('local', 'local_data_path'))"
   ]
  },
  {
   "cell_type": "code",
   "execution_count": null,
   "id": "29238a2e",
   "metadata": {},
   "outputs": [],
   "source": [
    "run_matrix.calc()"
   ]
  },
  {
   "cell_type": "code",
   "execution_count": null,
   "id": "e6bac4b1",
   "metadata": {},
   "outputs": [],
   "source": []
  },
  {
   "cell_type": "code",
   "execution_count": null,
   "id": "29103c74",
   "metadata": {},
   "outputs": [],
   "source": []
  }
 ],
 "metadata": {
  "kernelspec": {
   "display_name": "Python 3",
   "language": "python",
   "name": "python3"
  },
  "language_info": {
   "codemirror_mode": {
    "name": "ipython",
    "version": 3
   },
   "file_extension": ".py",
   "mimetype": "text/x-python",
   "name": "python",
   "nbconvert_exporter": "python",
   "pygments_lexer": "ipython3",
   "version": "3.7.10"
  }
 },
 "nbformat": 4,
 "nbformat_minor": 5
}
