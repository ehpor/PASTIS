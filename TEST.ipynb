{
 "cells": [
  {
   "cell_type": "markdown",
   "id": "bacf0986",
   "metadata": {},
   "source": [
    "### Test area"
   ]
  },
  {
   "cell_type": "code",
   "execution_count": 1,
   "id": "7426bdd9",
   "metadata": {},
   "outputs": [
    {
     "name": "stdout",
     "output_type": "stream",
     "text": [
      "Populating the interactive namespace from numpy and matplotlib\n",
      "WebbPSF log messages of level INFO and above will be shown.\n",
      "WebbPSF log outputs will be directed to the screen.\n",
      "[webbpsf] Set the following optical configuration:\n",
      "[webbpsf] camera = IFS, filter = F770, apodizer = CHARSPC, fpm = CHARSPC_F770_BOWTIE, lyotstop = LS30D88\n"
     ]
    },
    {
     "name": "stderr",
     "output_type": "stream",
     "text": [
      "[  poppy] Pysynphot unavailable (or invalid source supplied)!   Assuming flat # of counts versus wavelength.\n",
      "[  poppy] CAUTION: Just interpolating rather than integrating filter profile, over 1 steps\n"
     ]
    },
    {
     "name": "stdout",
     "output_type": "stream",
     "text": [
      "[  poppy] PSF calc using fov_arcsec = 1.600000, oversample = 4, number of wavelengths = 1\n",
      "[webbpsf] Creating optical system model:\n",
      "[  poppy] Initialized OpticalSystem: Roman+CGI\n",
      "[  poppy] Roman Entrance Pupil: Loaded amplitude transmission from /home/marken/GitHub/webbpsf_data/AFTA_CGI_C5_Pupil_onax_256px_flip.fits\n",
      "[  poppy] Added pupil plane: Roman Entrance Pupil\n",
      "[  poppy] Added coordinate inversion plane: OTE exit pupil\n",
      "[  poppy] CHARSPC: Loaded amplitude transmission from /home/marken/GitHub/webbpsf_data/CGI/optics/CHARSPC_SP_256pix.fits.gz\n",
      "[  poppy] Added pupil plane: CHARSPC\n",
      "[  poppy] Added pupil plane: DM\n",
      "[  poppy] CHARSPC_F770_BOWTIE: Loaded amplitude transmission from /home/marken/GitHub/webbpsf_data/CGI/optics/CHARSPC_FPM_25WA90_2x65deg_-_FP1res4_evensamp_D072_F770.fits.gz\n",
      "[  poppy] Added image plane: CHARSPC_F770_BOWTIE\n",
      "[  poppy] LS30D88: Loaded amplitude transmission from /home/marken/GitHub/webbpsf_data/CGI/optics/SPC_LS_30D88_256pix.fits.gz\n",
      "[  poppy] Added pupil plane: LS30D88\n",
      "[  poppy] Initialized OpticalSystem: unnamed system\n",
      "[  poppy] Added detector with pixelscale=0.025 and oversampling=4: CGI detector\n",
      "[  poppy] Calculating PSF with 1 wavelengths\n",
      "[  poppy]  Propagating wavelength = 7.7e-07 m\n",
      "[  poppy]  Propagating wavelength = 7.7e-07 m meters using Matrix FTs\n",
      "[  poppy]   Calculation completed in 0.433 s\n",
      "[  poppy] PSF Calculation completed.\n",
      "[  poppy]  Adding extension with image downsampled to detector pixel scale.\n",
      "[  poppy]  Downsampling to detector pixel scale, by 4\n"
     ]
    },
    {
     "name": "stderr",
     "output_type": "stream",
     "text": [
      "[  poppy] Pysynphot unavailable (or invalid source supplied)!   Assuming flat # of counts versus wavelength.\n",
      "[  poppy] CAUTION: Just interpolating rather than integrating filter profile, over 1 steps\n"
     ]
    },
    {
     "name": "stdout",
     "output_type": "stream",
     "text": [
      "[  poppy] PSF calc using fov_arcsec = 1.600000, oversample = 4, number of wavelengths = 1\n",
      "[webbpsf] Creating optical system model:\n",
      "[  poppy] Initialized OpticalSystem: Roman+CGI\n",
      "[  poppy] Roman Entrance Pupil: Loaded amplitude transmission from /home/marken/GitHub/webbpsf_data/AFTA_CGI_C5_Pupil_onax_256px_flip.fits\n",
      "[  poppy] Added pupil plane: Roman Entrance Pupil\n",
      "[  poppy] Added coordinate inversion plane: OTE exit pupil\n",
      "[  poppy] CHARSPC: Loaded amplitude transmission from /home/marken/GitHub/webbpsf_data/CGI/optics/CHARSPC_SP_256pix.fits.gz\n",
      "[  poppy] Added pupil plane: CHARSPC\n",
      "[  poppy] Added pupil plane: DM\n",
      "[  poppy] LS30D88: Loaded amplitude transmission from /home/marken/GitHub/webbpsf_data/CGI/optics/SPC_LS_30D88_256pix.fits.gz\n",
      "[  poppy] Added pupil plane: LS30D88\n",
      "[  poppy] Initialized OpticalSystem: unnamed system\n",
      "[  poppy] Added detector with pixelscale=0.025 and oversampling=4: CGI detector\n",
      "[  poppy] Calculating PSF with 1 wavelengths\n",
      "[  poppy]  Propagating wavelength = 7.7e-07 m\n",
      "[  poppy]  Propagating wavelength = 7.7e-07 m meters using Matrix FTs\n",
      "[  poppy]   Calculation completed in 0.264 s\n",
      "[  poppy] PSF Calculation completed.\n",
      "[  poppy]  Adding extension with image downsampled to detector pixel scale.\n",
      "[  poppy]  Downsampling to detector pixel scale, by 4\n"
     ]
    },
    {
     "name": "stderr",
     "output_type": "stream",
     "text": [
      "/home/marken/GitHub/webbpsf/webbpsf/roman.py:890: RuntimeWarning: divide by zero encountered in true_divide\n",
      "  section = np.abs((newy - yc) / (newx - xc)) < np.arctan(angle)\n",
      "/home/marken/GitHub/webbpsf/webbpsf/roman.py:890: RuntimeWarning: invalid value encountered in true_divide\n",
      "  section = np.abs((newy - yc) / (newx - xc)) < np.arctan(angle)\n"
     ]
    },
    {
     "data": {
      "text/plain": [
       "4.540177726737013e-07"
      ]
     },
     "execution_count": 1,
     "metadata": {},
     "output_type": "execute_result"
    },
    {
     "data": {
      "image/png": "[encoded data removed]",
      "text/plain": [
       "<Figure size 432x288 with 2 Axes>"
      ]
     },
     "metadata": {
      "needs_background": "light"
     },
     "output_type": "display_data"
    }
   ],
   "source": [
    "%pylab inline --no-import-all\n",
    "matplotlib.rcParams['image.origin'] = 'lower'\n",
    "matplotlib.rcParams['image.interpolation'] = 'nearest'\n",
    "\n",
    "import os\n",
    "os.environ['WEBBPSF_PATH'] = '/home/marken/GitHub/webbpsf_data'\n",
    "import webbpsf\n",
    "from webbpsf import roman\n",
    "import ipywidgets\n",
    "from astropy.io import fits\n",
    "\n",
    "webbpsf.setup_logging()\n",
    "\n",
    "DM_on = roman.CGI(mode='CHARSPC_F770')\n",
    "DM_on.dm1.set_actuator(4, 8, 1e-6)\n",
    "DM_on.dm1.set_actuator(44, 40, 1e-6)\n",
    "\n",
    "DM_on.raw_contrast()"
   ]
  },
  {
   "cell_type": "code",
   "execution_count": null,
   "id": "f5375a9a",
   "metadata": {},
   "outputs": [],
   "source": []
  }
 ],
 "metadata": {
  "kernelspec": {
   "display_name": "Python 3",
   "language": "python",
   "name": "python3"
  },
  "language_info": {
   "codemirror_mode": {
    "name": "ipython",
    "version": 3
   },
   "file_extension": ".py",
   "mimetype": "text/x-python",
   "name": "python",
   "nbconvert_exporter": "python",
   "pygments_lexer": "ipython3",
   "version": "3.7.10"
  }
 },
 "nbformat": 4,
 "nbformat_minor": 5
}
