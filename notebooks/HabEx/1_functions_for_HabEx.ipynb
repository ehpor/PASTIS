{
 "cells": [
  {
   "cell_type": "markdown",
   "metadata": {},
   "source": [
    "# Prepare Habex telescope and coronagraph"
   ]
  },
  {
   "cell_type": "code",
   "execution_count": null,
   "metadata": {},
   "outputs": [],
   "source": [
    "import numpy as np\n",
    "import matplotlib.pyplot as plt\n",
    "import hcipy as hc"
   ]
  },
  {
   "cell_type": "markdown",
   "metadata": {},
   "source": [
    "## Parameters"
   ]
  },
  {
   "cell_type": "code",
   "execution_count": null,
   "metadata": {},
   "outputs": [],
   "source": [
    "nPup = 1000\n",
    "D_pup = 4.\n",
    "samp_foc = 4\n",
    "rad_foc = 36\n",
    "wavelength = 500e-9\n",
    "pupil_grid = hc.make_pupil_grid(nPup, D_pup)\n",
    "telescope_pupil = hc.aperture.circular_aperture(D_pup)\n",
    "telescope_pupil_field = hc.evaluate_supersampled(telescope_pupil, pupil_grid, 1)\n",
    "lyot_stop = hc.aperture.circular_aperture(D_pup * 0.95)\n",
    "lyot_stop_field = hc.evaluate_supersampled(lyot_stop,pupil_grid, 1)"
   ]
  },
  {
   "cell_type": "code",
   "execution_count": null,
   "metadata": {},
   "outputs": [],
   "source": [
    "hc.imshow_field(telescope_pupil_field)\n",
    "plt.title('Primary mirror')"
   ]
  },
  {
   "cell_type": "code",
   "execution_count": null,
   "metadata": {},
   "outputs": [],
   "source": [
    "hc.imshow_field(lyot_stop_field)\n",
    "plt.title('Lyot stop')"
   ]
  },
  {
   "cell_type": "code",
   "execution_count": null,
   "metadata": {},
   "outputs": [],
   "source": [
    "focal_grid = hc.make_focal_grid(\n",
    "    samp_foc,\n",
    "    rad_foc,\n",
    "    pupil_diameter= D_pup,\n",
    "    focal_length=1.,\n",
    "    reference_wavelength= wavelength,\n",
    ")"
   ]
  },
  {
   "cell_type": "markdown",
   "metadata": {},
   "source": [
    "## Propagators"
   ]
  },
  {
   "cell_type": "code",
   "execution_count": null,
   "metadata": {},
   "outputs": [],
   "source": [
    "?hc.VortexCoronagraph"
   ]
  },
  {
   "cell_type": "code",
   "execution_count": null,
   "metadata": {},
   "outputs": [],
   "source": [
    "prop = hc.FraunhoferPropagator(pupil_grid, focal_grid)\n",
    "charge = 6\n",
    "# coro = hc.VortexCoronagraph(pupil_grid, charge,scaling_factor = 4,q = 2048,window_size = 128)\n",
    "coro = hc.VortexCoronagraph(pupil_grid, charge)\n",
    "lyot_stop = hc.Apodizer(lyot_stop_field)"
   ]
  },
  {
   "cell_type": "markdown",
   "metadata": {},
   "source": [
    "## Actual code for propagation"
   ]
  },
  {
   "cell_type": "code",
   "execution_count": null,
   "metadata": {},
   "outputs": [],
   "source": [
    "wf = hc.Wavefront(telescope_pupil_field, wavelength)\n",
    "lyot_plane = coro.forward(wf)\n",
    "post_lyot_mask = lyot_stop(lyot_plane)\n",
    "post_lyot_mask.wavelength = wavelength\n",
    "img = prop(post_lyot_mask).intensity\n",
    "img_ref = prop(wf).intensity"
   ]
  },
  {
   "cell_type": "code",
   "execution_count": null,
   "metadata": {},
   "outputs": [],
   "source": [
    "plt.figure(figsize=(10, 10))\n",
    "hc.imshow_field(np.log10(img_ref / img_ref.max()), vmin=-7, cmap='inferno')\n",
    "plt.colorbar()\n",
    "plt.show()\n",
    "\n",
    "plt.figure(figsize=(10, 10))\n",
    "hc.imshow_field(np.log10(img / img_ref.max()), cmap='inferno', vmin=-12, vmax=-5)\n",
    "plt.colorbar()\n",
    "plt.show()"
   ]
  },
  {
   "cell_type": "code",
   "execution_count": null,
   "metadata": {},
   "outputs": [],
   "source": []
  }
 ],
 "metadata": {
  "kernelspec": {
   "display_name": "Python 3",
   "language": "python",
   "name": "python3"
  },
  "language_info": {
   "codemirror_mode": {
    "name": "ipython",
    "version": 3
   },
   "file_extension": ".py",
   "mimetype": "text/x-python",
   "name": "python",
   "nbconvert_exporter": "python",
   "pygments_lexer": "ipython3",
   "version": "3.7.10"
  }
 },
 "nbformat": 4,
 "nbformat_minor": 2
}
