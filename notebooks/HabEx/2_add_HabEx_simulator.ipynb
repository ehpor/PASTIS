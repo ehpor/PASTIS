{
 "cells": [
  {
   "cell_type": "markdown",
   "id": "900906c5",
   "metadata": {},
   "source": [
    "# Add HabEx simulator\n",
    "\n",
    "This class just inherits from `Telescope` directly."
   ]
  },
  {
   "cell_type": "code",
   "execution_count": null,
   "id": "6ec7afcc",
   "metadata": {},
   "outputs": [],
   "source": [
    "import hcipy\n",
    "import matplotlib.pyplot as plt\n",
    "import numpy as np\n",
    "\n",
    "from pastis.e2e_simulators.habex_imaging import Habex_VC"
   ]
  },
  {
   "cell_type": "code",
   "execution_count": null,
   "id": "c553f2fe",
   "metadata": {},
   "outputs": [],
   "source": [
    "charge = 6\n",
    "habex = Habex_VC(charge=charge)"
   ]
  },
  {
   "cell_type": "code",
   "execution_count": null,
   "id": "38b6d395",
   "metadata": {},
   "outputs": [],
   "source": [
    "coron, ref = habex.calc_psf(display_intermediate=True, ref=True)"
   ]
  },
  {
   "cell_type": "code",
   "execution_count": null,
   "id": "a3be2930",
   "metadata": {},
   "outputs": [],
   "source": [
    "plt.figure(figsize=(10,10))\n",
    "hcipy.imshow_field(np.log10(coron / ref.max()), cmap='inferno', vmin=-12, vmax=-5)\n",
    "plt.title('coron image')\n",
    "plt.colorbar()"
   ]
  },
  {
   "cell_type": "code",
   "execution_count": null,
   "id": "bbbc763d",
   "metadata": {},
   "outputs": [],
   "source": []
  }
 ],
 "metadata": {
  "kernelspec": {
   "display_name": "Python 3",
   "language": "python",
   "name": "python3"
  },
  "language_info": {
   "codemirror_mode": {
    "name": "ipython",
    "version": 3
   },
   "file_extension": ".py",
   "mimetype": "text/x-python",
   "name": "python",
   "nbconvert_exporter": "python",
   "pygments_lexer": "ipython3",
   "version": "3.7.10"
  }
 },
 "nbformat": 4,
 "nbformat_minor": 5
}
