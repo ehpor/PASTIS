{
 "cells": [
  {
   "cell_type": "markdown",
   "metadata": {},
   "source": [
    "# Get PASTIS modes\n",
    "\n",
    "## --- HiCAT --\n",
    "\n",
    "We will now perform a singular value decomposition (SVD) on the PASTIS matrix to get the PASTIS modes."
   ]
  },
  {
   "cell_type": "code",
   "execution_count": null,
   "metadata": {
    "collapsed": true
   },
   "outputs": [],
   "source": [
    "# Imports\n",
    "import os\n",
    "import numpy as np\n",
    "import matplotlib.pyplot as plt\n",
    "from matplotlib.colors import LogNorm\n",
    "%matplotlib inline\n",
    "from astropy.io import fits\n",
    "import astropy.units as u\n",
    "\n",
    "import hicat.simulators"
   ]
  },
  {
   "cell_type": "markdown",
   "metadata": {},
   "source": [
    "## Read the matrix\n",
    "\n",
    "It's your choice wheter you read the analytical or numerical matrix."
   ]
  },
  {
   "cell_type": "code",
   "execution_count": null,
   "metadata": {
    "collapsed": true
   },
   "outputs": [],
   "source": [
    "#matrix = fits.getdata('/Users/ilaginja/Documents/data_from_repos/pastis_data/2019-5-15_001_50nm/matrix_numerical/PASTISmatrix_num_HiCAT_piston_Noll1.fits')\n",
    "matrix = fits.getdata('/Users/ilaginja/Documents/data_from_repos/pastis_data/2019-4-18_001_100nm/matrix_analytical/PASTISmatrix_piston_Noll1.fits')\n",
    "\n",
    "plt.figure(figsize=(10, 10))\n",
    "plt.imshow(matrix)\n",
    "plt.colorbar()"
   ]
  },
  {
   "cell_type": "markdown",
   "metadata": {},
   "source": [
    "## Get eigenmodes and eigenvalues\n",
    "\n",
    "Lucie actually uses an SVD. I need to ask her why she doesn't just get the eigenmodes and eigenvalues directly, since we're dealing with a quadratic, symmetrical matrix."
   ]
  },
  {
   "cell_type": "code",
   "execution_count": null,
   "metadata": {
    "collapsed": true
   },
   "outputs": [],
   "source": [
    "evals, evecs = np.linalg.eig(matrix)"
   ]
  },
  {
   "cell_type": "code",
   "execution_count": null,
   "metadata": {
    "collapsed": true
   },
   "outputs": [],
   "source": [
    "print('evals.shape: {}'.format(evals.shape))\n",
    "print('evals:\\n{}'.format(evals))"
   ]
  },
  {
   "cell_type": "code",
   "execution_count": null,
   "metadata": {
    "collapsed": true
   },
   "outputs": [],
   "source": [
    "print('evecs.shape: {}'.format(evecs.shape))\n",
    "#print('evecs:\\n{}'.format(evecs))"
   ]
  },
  {
   "cell_type": "markdown",
   "metadata": {},
   "source": [
    "Which dimension are the eigenvectors in?\n",
    "\n",
    "We know\n",
    "\n",
    "$$M \\cdot u = \\lambda \\cdot u$$\n",
    "\n",
    "so we can test this."
   ]
  },
  {
   "cell_type": "code",
   "execution_count": null,
   "metadata": {
    "collapsed": true
   },
   "outputs": [],
   "source": [
    "# Evaluate left and right side of eigenvalue problem for mode number n\n",
    "n = 17\n",
    "\n",
    "left = np.dot(matrix, evals[n])\n",
    "right = np.dot(matrix, evecs[:, n])\n",
    "\n",
    "# Compare them\n",
    "print('Are the left and right side the same:')\n",
    "print(np.allclose(left, right))"
   ]
  },
  {
   "cell_type": "markdown",
   "metadata": {},
   "source": [
    "### Sort from lowest to highest eigenvalue"
   ]
  },
  {
   "cell_type": "code",
   "execution_count": null,
   "metadata": {
    "collapsed": true
   },
   "outputs": [],
   "source": [
    "# Sort them\n",
    "sorted_evals = np.sort(evals)\n",
    "sorted_indices = np.argsort(evals)\n",
    "sorted_evecs = evecs[:, sorted_indices]\n",
    "\n",
    "plt.figure(figsize=(14, 8))\n",
    "#plt.plot(evals, label='Sorted from eigendecomposition')\n",
    "plt.plot(sorted_evals, label='Sorted lowest to highest evals')\n",
    "plt.semilogy()\n",
    "plt.xlabel('Eigenmodes')\n",
    "plt.ylabel('Log Eigenvalues')\n",
    "plt.legend()\n",
    "#plt.savefig('HiCAT_eigenvals.pdf')"
   ]
  },
  {
   "cell_type": "markdown",
   "metadata": {},
   "source": [
    "## Mode display for JWST: Poppy HexDM"
   ]
  },
  {
   "cell_type": "code",
   "execution_count": null,
   "metadata": {
    "collapsed": true
   },
   "outputs": [],
   "source": [
    "import poppy\n",
    "iris = poppy.dms.HexSegmentedDeformableMirror(name='Iris DM',\n",
    "                                              rings=2,\n",
    "                                              flattoflat=15.*u.m,\n",
    "                                              gap=2*u.cm,\n",
    "                                              center=False)"
   ]
  },
  {
   "cell_type": "code",
   "execution_count": null,
   "metadata": {
    "collapsed": true
   },
   "outputs": [],
   "source": [
    "mode = 2   # We start numbering at 0 here, 0-35 (Python nunmbering!)\n",
    "\n",
    "iris.flatten()\n",
    "for seg, val in enumerate(sorted_evecs[:, mode]):\n",
    "    print(val)\n",
    "    iris.set_actuator(seg+1, val*u.um, 0, 0)"
   ]
  },
  {
   "cell_type": "code",
   "execution_count": null,
   "metadata": {
    "collapsed": true
   },
   "outputs": [],
   "source": [
    "iris.display(what='opd')"
   ]
  },
  {
   "cell_type": "code",
   "execution_count": null,
   "metadata": {
    "collapsed": true
   },
   "outputs": [],
   "source": [
    "# Lets compute all modes now\n",
    "jwst_modes = []\n",
    "w = poppy.Wavefront(diam=6*15.*u.m, npix=512)\n",
    "\n",
    "for mode in range(len(evals)):\n",
    "    print('Working on mode {}/{}.'.format(mode+1, len(evals)))\n",
    "    \n",
    "    iris.flatten()\n",
    "    for seg, val in enumerate(sorted_evecs[:, mode]):\n",
    "        #print(val)\n",
    "        iris.set_actuator(seg+1, val*u.um, 0, 0)\n",
    "        \n",
    "    opd = iris.get_opd(w)\n",
    "    jwst_modes.append(opd)\n",
    "        \n",
    "jwst_modes = np.array(jwst_modes)"
   ]
  },
  {
   "cell_type": "code",
   "execution_count": null,
   "metadata": {
    "collapsed": true
   },
   "outputs": [],
   "source": [
    "# Plot them all\n",
    "pmin = -5e-7\n",
    "pmax = 5e-7\n",
    "\n",
    "plt.figure(figsize=(12, 24))\n",
    "for mode in range(int(len(evals)/3)):\n",
    "    \n",
    "    plt.subplot(6, 3, mode*3+1)\n",
    "    plt.imshow(jwst_modes[mode*3], cmap='RdBu', vmin=pmin, vmax=pmax)\n",
    "    plt.colorbar()\n",
    "    plt.title('Mode ' + str(mode*3+1))\n",
    "    \n",
    "    plt.subplot(6, 3, mode*3+2)\n",
    "    plt.imshow(jwst_modes[mode*3+1], cmap='RdBu', vmin=pmin, vmax=pmax)\n",
    "    plt.title('Mode ' + str(mode*3+2))\n",
    "    plt.colorbar()\n",
    "    \n",
    "    plt.subplot(6, 3, mode*3+3)\n",
    "    plt.imshow(jwst_modes[mode*3+2], cmap='RdBu', vmin=pmin, vmax=pmax)\n",
    "    plt.title('Mode ' + str(mode*3+3))\n",
    "    plt.colorbar()\n",
    "    \n",
    "#plt.savefig('JWST_modes_piston.pdf')"
   ]
  },
  {
   "cell_type": "code",
   "execution_count": null,
   "metadata": {
    "collapsed": true
   },
   "outputs": [],
   "source": []
  },
  {
   "cell_type": "markdown",
   "metadata": {},
   "source": [
    "## Mode display for HiCAT"
   ]
  },
  {
   "cell_type": "code",
   "execution_count": null,
   "metadata": {
    "collapsed": true
   },
   "outputs": [],
   "source": [
    "hc = hicat.simulators.hicat_sim.HICAT_Sim()\n",
    "hc.iris_ao = 'iris_ao'\n",
    "hc.apodizer = 'cnt1_apodizer'\n",
    "hc.lyot_stop = 'cnt1_apodizer_lyot_stop'\n",
    "hc.include_fpm = True\n",
    "print(hc.describe())"
   ]
  },
  {
   "cell_type": "markdown",
   "metadata": {},
   "source": [
    "Put an eigenmode on the IrisAO DM."
   ]
  },
  {
   "cell_type": "code",
   "execution_count": null,
   "metadata": {
    "collapsed": true
   },
   "outputs": [],
   "source": [
    "mode = 0   # We start numbering at 0 here, 0-35 (Python numbering!)\n",
    "\n",
    "hc.iris_dm.flatten()\n",
    "for seg, val in enumerate(sorted_evecs[:, mode]):\n",
    "    #print(val)\n",
    "    hc.iris_dm.set_actuator(seg+1, val*u.um, 0, 0)"
   ]
  },
  {
   "cell_type": "code",
   "execution_count": null,
   "metadata": {
    "collapsed": true
   },
   "outputs": [],
   "source": [
    "# Display the mode in all planes\n",
    "plt.figure(figsize=(14,14))\n",
    "psf, fields = hc.calc_psf(display=True, return_intermediates=True)"
   ]
  },
  {
   "cell_type": "code",
   "execution_count": null,
   "metadata": {
    "collapsed": true
   },
   "outputs": [],
   "source": [
    "# Show only the segments\n",
    "plt.imshow(fields[1].phase)"
   ]
  },
  {
   "cell_type": "markdown",
   "metadata": {},
   "source": [
    "Now lets get all modes at once!\n",
    "\n",
    "This version with the HiCAT sim is very slow. Instead, you can just display the modes on the Poppy HexDM below!"
   ]
  },
  {
   "cell_type": "code",
   "execution_count": null,
   "metadata": {
    "collapsed": true
   },
   "outputs": [],
   "source": [
    "hicat_modes = []\n",
    "for mode in range(len(evals)):\n",
    "    print('Working on mode {}/{}.'.format(mode+1, len(evals)))\n",
    "    \n",
    "    hc.iris_dm.flatten()\n",
    "    for seg, val in enumerate(sorted_evecs[:, mode]):\n",
    "        #print(val)\n",
    "        hc.iris_dm.set_actuator(seg+1, val*u.um, 0, 0)\n",
    "        \n",
    "    psf, fields = hc.calc_psf(display=False, return_intermediates=True)\n",
    "    hicat_modes.append(fields[1].phase)\n",
    "        \n",
    "hicat_modes = np.array(hicat_modes)\n",
    "\n",
    "print('All done.')"
   ]
  },
  {
   "cell_type": "code",
   "execution_count": null,
   "metadata": {
    "collapsed": true
   },
   "outputs": [],
   "source": [
    "# Plot them all\n",
    "plt.figure(figsize=(48, 12))\n",
    "for mode in range(len(evals)):\n",
    "    \n",
    "    plt.subplot(12, 3, mode*3+1)\n",
    "    plt.imshow(hicat_modes[mode].phase)\n",
    "    plt.title('Mode ' + str(mode+1))\n",
    "    \n",
    "#plt.savefig('all_HiCAT_modes.pdf')"
   ]
  },
  {
   "cell_type": "markdown",
   "metadata": {},
   "source": [
    "### Now do it on a Poppy HexDM simply to make it faster"
   ]
  },
  {
   "cell_type": "code",
   "execution_count": null,
   "metadata": {
    "collapsed": true
   },
   "outputs": [],
   "source": [
    "import poppy\n",
    "iris_hc = poppy.dms.HexSegmentedDeformableMirror(name='Iris DM',\n",
    "                                              rings=3,\n",
    "                                              flattoflat=15.*u.m,\n",
    "                                              gap=2*u.cm,\n",
    "                                              center=False)"
   ]
  },
  {
   "cell_type": "code",
   "execution_count": null,
   "metadata": {
    "collapsed": true
   },
   "outputs": [],
   "source": [
    "mode = 2   # We start numbering at 0 here, 0-35 (Python nunmbering!)\n",
    "\n",
    "iris_hc.flatten()\n",
    "for seg, val in enumerate(sorted_evecs[:, mode]):\n",
    "    #print(val)\n",
    "    iris_hc.set_actuator(seg+1, val*u.um, 0, 0)\n",
    "iris_hc.display(what='opd')"
   ]
  },
  {
   "cell_type": "code",
   "execution_count": null,
   "metadata": {
    "collapsed": true
   },
   "outputs": [],
   "source": [
    "# Lets compute all modes now for HiCAT with a Poppy Iris DM\n",
    "hicat_modes = []\n",
    "w = poppy.Wavefront(diam=8*15.*u.m, npix=1024)\n",
    "\n",
    "for mode in range(len(evals)):\n",
    "    print('Working on mode {}/{}.'.format(mode+1, len(evals)))\n",
    "    \n",
    "    iris_hc.flatten()\n",
    "    for seg, val in enumerate(sorted_evecs[:, mode]):\n",
    "        #print(val)\n",
    "        iris_hc.set_actuator(seg+1, val*u.um, 0, 0)\n",
    "        \n",
    "    opd = iris_hc.get_opd(w)\n",
    "    hicat_modes.append(opd)\n",
    "        \n",
    "hicat_modes = np.array(hicat_modes)"
   ]
  },
  {
   "cell_type": "code",
   "execution_count": null,
   "metadata": {
    "collapsed": true
   },
   "outputs": [],
   "source": [
    "# Plot them all\n",
    "pmin = -5e-7\n",
    "pmax = 5e-7\n",
    "\n",
    "plt.figure(figsize=(12, 48))\n",
    "for mode in range(int(len(evals)/3)):\n",
    "    \n",
    "    plt.subplot(12, 3, mode*3+1)\n",
    "    plt.imshow(hicat_modes[mode*3], cmap='RdBu', vmin=pmin, vmax=pmax)\n",
    "    plt.colorbar()\n",
    "    plt.title('Mode ' + str(mode*3+1))\n",
    "    \n",
    "    plt.subplot(12, 3, mode*3+2)\n",
    "    plt.imshow(hicat_modes[mode*3+1], cmap='RdBu', vmin=pmin, vmax=pmax)\n",
    "    plt.title('Mode ' + str(mode*3+2))\n",
    "    plt.colorbar()\n",
    "    \n",
    "    plt.subplot(12, 3, mode*3+3)\n",
    "    plt.imshow(hicat_modes[mode*3+2], cmap='RdBu', vmin=pmin, vmax=pmax)\n",
    "    plt.title('Mode ' + str(mode*3+3))\n",
    "    plt.colorbar()\n",
    "    \n",
    "#plt.savefig('HiCAT_modes_piston.pdf')"
   ]
  },
  {
   "cell_type": "code",
   "execution_count": null,
   "metadata": {
    "collapsed": true
   },
   "outputs": [],
   "source": [
    "plt.figure(figsize=(15,15))\n",
    "iris_hc.display(what='opd')"
   ]
  },
  {
   "cell_type": "code",
   "execution_count": null,
   "metadata": {
    "collapsed": true
   },
   "outputs": [],
   "source": []
  }
 ],
 "metadata": {
  "kernelspec": {
   "display_name": "Python 3",
   "language": "python",
   "name": "python3"
  },
  "language_info": {
   "codemirror_mode": {
    "name": "ipython",
    "version": 3
   },
   "file_extension": ".py",
   "mimetype": "text/x-python",
   "name": "python",
   "nbconvert_exporter": "python",
   "pygments_lexer": "ipython3",
   "version": "3.6.8"
  }
 },
 "nbformat": 4,
 "nbformat_minor": 2
}
