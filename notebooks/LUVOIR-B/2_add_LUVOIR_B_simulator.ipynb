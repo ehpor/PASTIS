{
 "cells": [
  {
   "cell_type": "markdown",
   "id": "7eac2117",
   "metadata": {},
   "source": [
    "# Add LUVOIR B simulator"
   ]
  },
  {
   "cell_type": "code",
   "execution_count": null,
   "id": "61eada4d",
   "metadata": {},
   "outputs": [],
   "source": [
    "import os\n",
    "import hcipy\n",
    "import matplotlib.pyplot as plt\n",
    "import numpy as np\n",
    "\n",
    "from pastis.config import CONFIG_PASTIS\n",
    "from pastis.simulators.luvoir_imaging import LuvoirBVortex\n",
    "import pastis.util"
   ]
  },
  {
   "cell_type": "code",
   "execution_count": null,
   "id": "46b37f5c",
   "metadata": {},
   "outputs": [],
   "source": [
    "charge = 6\n",
    "optics_input = os.path.join(pastis.util.find_repo_location(), CONFIG_PASTIS.get('LUVOIR-B', 'optics_path_in_repo'))\n",
    "luvoir = LuvoirBVortex(optics_input, charge)"
   ]
  },
  {
   "cell_type": "markdown",
   "id": "d5b61199",
   "metadata": {},
   "source": [
    "## Start using the simulator"
   ]
  },
  {
   "cell_type": "code",
   "execution_count": null,
   "id": "de98d46a",
   "metadata": {},
   "outputs": [],
   "source": [
    "luvoir.flatten()\n",
    "#luvoir.set_segment(28, 1e-9, 0, 0)\n",
    "#luvoir.set_sm_segment(28, 0, 1e-9)\n",
    "#luvoir.set_segment(18, 1e-9, 0, 0)\n",
    "#luvoir.set_segment(5, 10e-9, 0, 0)\n",
    "#luvoir.set_segment(5, 10e-9, 0, 0)\n",
    "#luvoir.set_segment(5, 10e-9, 0, 0)"
   ]
  },
  {
   "cell_type": "code",
   "execution_count": null,
   "id": "12bf7017",
   "metadata": {},
   "outputs": [],
   "source": [
    "coron, ref = luvoir.calc_psf(display_intermediate=True, ref=True)"
   ]
  },
  {
   "cell_type": "code",
   "execution_count": null,
   "id": "6dd7bacb",
   "metadata": {},
   "outputs": [],
   "source": [
    "plt.figure(figsize=(10,10))\n",
    "hcipy.imshow_field(np.log10(coron / ref.max()), cmap='inferno', vmin=-12, vmax=-5)\n",
    "plt.title('coron image')\n",
    "plt.colorbar()"
   ]
  },
  {
   "cell_type": "code",
   "execution_count": null,
   "id": "a2d78c39",
   "metadata": {},
   "outputs": [],
   "source": [
    "luvoir.create_segmented_mirror(1)"
   ]
  },
  {
   "cell_type": "code",
   "execution_count": null,
   "id": "cff9cd0c",
   "metadata": {},
   "outputs": [],
   "source": [
    "luvoir.set_sm_segment(5, 0, 1e-9)\n",
    "luvoir.set_sm_segment(10, 0, 1e-9)"
   ]
  },
  {
   "cell_type": "code",
   "execution_count": null,
   "id": "61261772",
   "metadata": {},
   "outputs": [],
   "source": [
    "luvoir.create_global_zernike_mirror(3)"
   ]
  },
  {
   "cell_type": "code",
   "execution_count": null,
   "id": "eaca1f9a",
   "metadata": {},
   "outputs": [],
   "source": [
    "luvoir.zernike_mirror.actuators = [5e-9, 3e-9, 4e-9]"
   ]
  },
  {
   "cell_type": "code",
   "execution_count": null,
   "id": "58d05626",
   "metadata": {},
   "outputs": [],
   "source": [
    "n_ripples = 5\n",
    "luvoir.create_ripple_mirror(n_ripples)"
   ]
  },
  {
   "cell_type": "code",
   "execution_count": null,
   "id": "9075bc77",
   "metadata": {},
   "outputs": [],
   "source": [
    "new_command = np.zeros(n_ripples*n_ripples)\n",
    "new_command[12] = 2e-9\n",
    "luvoir.ripple_mirror.actuators = new_command"
   ]
  },
  {
   "cell_type": "code",
   "execution_count": null,
   "id": "36ac5584",
   "metadata": {},
   "outputs": [],
   "source": [
    "pads = np.array([np.pi/2] * 55)\n",
    "luvoir.create_segmented_harris_mirror(filepath='/Users/ilaginja/repos/PASTIS/Sensitivities2.xlsx', pad_orientation=pads)"
   ]
  },
  {
   "cell_type": "code",
   "execution_count": null,
   "id": "df5e2610",
   "metadata": {},
   "outputs": [],
   "source": [
    "luvoir.set_harris_segment(28, 3, 5e-9)\n",
    "#luvoir.set_harris_segment(28, 7, 5e-7)"
   ]
  },
  {
   "cell_type": "code",
   "execution_count": null,
   "id": "dbd57755",
   "metadata": {},
   "outputs": [],
   "source": [
    "n_acts_across = 15 \n",
    "luvoir.create_continuous_deformable_mirror(n_acts_across)"
   ]
  },
  {
   "cell_type": "code",
   "execution_count": null,
   "id": "d78b5bee",
   "metadata": {},
   "outputs": [],
   "source": [
    "new_command = np.zeros(n_acts_across*n_acts_across)\n",
    "new_command[66] = 2e-9\n",
    "new_command[77] = 2e-9\n",
    "luvoir.dm.actuators = new_command"
   ]
  },
  {
   "cell_type": "code",
   "execution_count": null,
   "id": "f2a6a2e9",
   "metadata": {},
   "outputs": [],
   "source": [
    "# We have a OBWFS\n",
    "obwfs_im = luvoir.calc_out_of_band_wfs()\n",
    "plt.imshow(obwfs_im.phase.shaped)"
   ]
  },
  {
   "cell_type": "code",
   "execution_count": null,
   "id": "5dbe50f8",
   "metadata": {},
   "outputs": [],
   "source": []
  }
 ],
 "metadata": {
  "kernelspec": {
   "display_name": "Python 3",
   "language": "python",
   "name": "python3"
  },
  "language_info": {
   "codemirror_mode": {
    "name": "ipython",
    "version": 3
   },
   "file_extension": ".py",
   "mimetype": "text/x-python",
   "name": "python",
   "nbconvert_exporter": "python",
   "pygments_lexer": "ipython3",
   "version": "3.7.10"
  }
 },
 "nbformat": 4,
 "nbformat_minor": 5
}
