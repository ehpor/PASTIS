{
 "cells": [
  {
   "cell_type": "markdown",
   "id": "1c06e44f",
   "metadata": {},
   "source": [
    "# Create tweaked indexed aperture from file\n",
    "\n",
    "We need an indexed aperture to be able to use the `SegmentedTelescope` from the `pastis` package. Creating a completely new one with `hcipy` doesn't work because the exact pixel-sampling won't work with the DM surfaces of the DM assisted vectro coronagraph (DMVC) anymore.\n",
    "\n",
    "This is why in this notebook, I turn to getting and tweaking an indexed aperture from the input aperture file."
   ]
  },
  {
   "cell_type": "code",
   "execution_count": null,
   "id": "21a931c8",
   "metadata": {},
   "outputs": [],
   "source": [
    "import os\n",
    "from astropy.io import fits\n",
    "import hcipy\n",
    "import matplotlib\n",
    "import matplotlib.pyplot as plt\n",
    "import numpy as np\n",
    "from scipy.ndimage import label\n",
    "\n",
    "from pastis.config import CONFIG_PASTIS\n",
    "import pastis.util"
   ]
  },
  {
   "cell_type": "code",
   "execution_count": null,
   "id": "fa988064",
   "metadata": {},
   "outputs": [],
   "source": [
    "matplotlib.rcParams['image.origin']='lower'"
   ]
  },
  {
   "cell_type": "code",
   "execution_count": null,
   "id": "1d5684bc",
   "metadata": {},
   "outputs": [],
   "source": [
    "# Load aperture file\n",
    "datadir = os.path.join(pastis.util.find_repo_location(), CONFIG_PASTIS.get('LUVOIR-B', 'optics_path_in_repo'))\n",
    "aperture = fits.getdata(os.path.join(datadir, 'Pupil1.fits'))\n",
    "\n",
    "plt.figure(figsize=(8,8))\n",
    "plt.imshow(aperture, cmap='Greys_r')\n",
    "plt.title('Input aperture file')"
   ]
  },
  {
   "cell_type": "markdown",
   "id": "1ffdbfe0",
   "metadata": {},
   "source": [
    "## Labelling the segments\n",
    "\n",
    "Note how the results labels the segments bottom-up, and not in the circular fashion we know from real instruments. Also, the first segment starts with 1, while the non-segment background is 0, as are the segment gaps.  \n",
    "Maybe I will get around to change the numbering at a later point."
   ]
  },
  {
   "cell_type": "code",
   "execution_count": null,
   "id": "180178f6",
   "metadata": {},
   "outputs": [],
   "source": [
    "label_param = 0.154\n",
    "segments, nseg = label(aperture > label_param)"
   ]
  },
  {
   "cell_type": "code",
   "execution_count": null,
   "id": "f83fbb96",
   "metadata": {},
   "outputs": [],
   "source": [
    "plt.figure(figsize=(8,8))\n",
    "plt.imshow(segments, cmap='Greys_r')\n",
    "plt.title('Indexed aperture file')"
   ]
  },
  {
   "cell_type": "code",
   "execution_count": null,
   "id": "3b0045e2",
   "metadata": {},
   "outputs": [],
   "source": [
    "fits.writeto('aperture_indexed.fits', segments, overwrite=True)"
   ]
  },
  {
   "cell_type": "markdown",
   "id": "2684f2f6",
   "metadata": {},
   "source": [
    "## Calculate segment centers"
   ]
  },
  {
   "cell_type": "code",
   "execution_count": null,
   "id": "b9888012",
   "metadata": {},
   "outputs": [],
   "source": [
    "# Create pupil grid that is adjusted for the random input aperture we have\n",
    "nPup = CONFIG_PASTIS.getfloat('LUVOIR-B', 'pupil_pixels')\n",
    "nPup_arrays = aperture.shape[0]\n",
    "D_pup = CONFIG_PASTIS.getfloat('LUVOIR-B', 'D_pup')\n",
    "\n",
    "pupil_grid_arrays = hcipy.make_pupil_grid(nPup * (nPup_arrays / nPup), D_pup * (nPup_arrays / nPup))"
   ]
  },
  {
   "cell_type": "code",
   "execution_count": null,
   "id": "7463a269",
   "metadata": {},
   "outputs": [],
   "source": [
    "segment_positions = []\n",
    "for i in range(nseg):\n",
    "    seg = (segments == (i+1)).ravel()\n",
    "    c_x = np.sum(seg * pupil_grid_arrays.x) / np.sum(seg)\n",
    "    c_y = np.sum(seg * pupil_grid_arrays.y) / np.sum(seg)\n",
    "    segment_positions.append((c_x, c_y))"
   ]
  },
  {
   "cell_type": "code",
   "execution_count": null,
   "id": "34bfaf48",
   "metadata": {},
   "outputs": [],
   "source": [
    "len(segment_positions)"
   ]
  },
  {
   "cell_type": "markdown",
   "id": "209207d1",
   "metadata": {},
   "source": [
    "## Create header with segment positions and save with indexed aperture to fits"
   ]
  },
  {
   "cell_type": "code",
   "execution_count": null,
   "id": "8f9b6b48",
   "metadata": {},
   "outputs": [],
   "source": [
    "header_full = fits.Header()"
   ]
  },
  {
   "cell_type": "code",
   "execution_count": null,
   "id": "d6062210",
   "metadata": {},
   "outputs": [],
   "source": [
    "for i, pair in zip(range(nseg), segment_positions):\n",
    "    header_full.set(f'SEG{i}_X', pair[0], f'x-position segment {i+1}')\n",
    "    header_full.set(f'SEG{i}_Y', pair[1], f'y-position segment {i+1}') "
   ]
  },
  {
   "cell_type": "code",
   "execution_count": null,
   "id": "18ce40b1",
   "metadata": {},
   "outputs": [],
   "source": [
    "# Write indexed aperture to file, with header containing segment coordinates\n",
    "fits.writeto('aperture_LUVOIR-B_indexed.fits', segments, header_full, overwrite=True)"
   ]
  },
  {
   "cell_type": "markdown",
   "id": "60007ed4",
   "metadata": {},
   "source": [
    "### Double-check segment positions"
   ]
  },
  {
   "cell_type": "code",
   "execution_count": null,
   "id": "721fa344",
   "metadata": {},
   "outputs": [],
   "source": [
    "aperture_field = hcipy.Field(np.reshape(aperture, nPup_arrays ** 2), pupil_grid_arrays)"
   ]
  },
  {
   "cell_type": "code",
   "execution_count": null,
   "id": "d9269c52",
   "metadata": {},
   "outputs": [],
   "source": [
    "plt.figure(figsize=(8,8))\n",
    "hcipy.imshow_field(aperture_field, cmap='Greys_r')\n",
    "for i, pair in zip(range(nseg), segment_positions):\n",
    "    plt.plot(pair[0], pair[1], marker='o')\n",
    "plt.title('Indexed aperture file')"
   ]
  },
  {
   "cell_type": "code",
   "execution_count": null,
   "id": "46e924f5",
   "metadata": {},
   "outputs": [],
   "source": []
  }
 ],
 "metadata": {
  "kernelspec": {
   "display_name": "Python 3",
   "language": "python",
   "name": "python3"
  },
  "language_info": {
   "codemirror_mode": {
    "name": "ipython",
    "version": 3
   },
   "file_extension": ".py",
   "mimetype": "text/x-python",
   "name": "python",
   "nbconvert_exporter": "python",
   "pygments_lexer": "ipython3",
   "version": "3.7.10"
  }
 },
 "nbformat": 4,
 "nbformat_minor": 5
}
