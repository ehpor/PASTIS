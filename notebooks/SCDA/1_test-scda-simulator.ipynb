{
 "cells": [
  {
   "cell_type": "markdown",
   "id": "35656ba7",
   "metadata": {},
   "source": [
    "# Test SCDA simulators"
   ]
  },
  {
   "cell_type": "code",
   "execution_count": null,
   "id": "4fe9d19f",
   "metadata": {},
   "outputs": [],
   "source": [
    "import os\n",
    "import hcipy\n",
    "import matplotlib.pyplot as plt\n",
    "import numpy as np\n",
    "\n",
    "from pastis.e2e_simulators.scda_telescopes import HexRingAPLC\n",
    "from pastis.util import find_repo_location"
   ]
  },
  {
   "cell_type": "code",
   "execution_count": null,
   "id": "79daade9",
   "metadata": {},
   "outputs": [],
   "source": [
    "# Define input parameters\n",
    "optics_dir = os.path.join(find_repo_location(), 'data', 'SCDA')\n",
    "sampling = 4\n",
    "num_rings = 1\n",
    "robust = 4"
   ]
  },
  {
   "cell_type": "code",
   "execution_count": null,
   "id": "1c20856f",
   "metadata": {},
   "outputs": [],
   "source": [
    "tel = HexRingAPLC(optics_dir, num_rings, sampling, robustness_px=robust)"
   ]
  },
  {
   "cell_type": "code",
   "execution_count": null,
   "id": "4ad439ac",
   "metadata": {},
   "outputs": [],
   "source": [
    "coro, ref, inter = tel.calc_psf(ref=True, display_intermediate=True, return_intermediate='intensity')"
   ]
  },
  {
   "cell_type": "code",
   "execution_count": null,
   "id": "360218e2",
   "metadata": {},
   "outputs": [],
   "source": [
    "plt.figure(figsize=(20, 20))\n",
    "hcipy.imshow_field(inter['seg_mirror'], mask=tel.aperture, cmap='RdBu')\n",
    "plt.colorbar()"
   ]
  },
  {
   "cell_type": "code",
   "execution_count": null,
   "id": "a3eaca7d",
   "metadata": {},
   "outputs": [],
   "source": [
    "hcipy.imshow_field(np.log10(coro/ref.max()), cmap='inferno', vmax=-4, vmin=-12)\n",
    "plt.colorbar()"
   ]
  },
  {
   "cell_type": "code",
   "execution_count": null,
   "id": "728fb13e",
   "metadata": {},
   "outputs": [],
   "source": [
    "tel.flatten()\n",
    "tel.set_segment(2, 1e-4, 0, 0)\n",
    "tel.set_segment(4, 0, 1e-4, 0)\n",
    "tel.set_segment(7, 0, 0, 1e-4)"
   ]
  },
  {
   "cell_type": "code",
   "execution_count": null,
   "id": "c79bc983",
   "metadata": {},
   "outputs": [],
   "source": [
    "n_zernikes = 4\n",
    "tel.create_segmented_mirror(n_zernikes)"
   ]
  },
  {
   "cell_type": "code",
   "execution_count": null,
   "id": "3dbad728",
   "metadata": {},
   "outputs": [],
   "source": [
    "tel.flatten()\n",
    "tel.set_sm_segment(segid=2, zernike_number=2, amplitude=1e-3)\n",
    "tel.set_sm_segment(segid=4, zernike_number=3, amplitude=1e-3)"
   ]
  },
  {
   "cell_type": "code",
   "execution_count": null,
   "id": "952c1047",
   "metadata": {},
   "outputs": [],
   "source": []
  },
  {
   "cell_type": "markdown",
   "id": "12fdf762",
   "metadata": {},
   "source": [
    "### Replace value in a header value of fits file"
   ]
  },
  {
   "cell_type": "code",
   "execution_count": null,
   "id": "cb957841",
   "metadata": {},
   "outputs": [],
   "source": [
    "from astropy.io import fits"
   ]
  },
  {
   "cell_type": "code",
   "execution_count": null,
   "id": "eaf2ce61",
   "metadata": {},
   "outputs": [],
   "source": [
    "# Chose mask\n",
    "num = 3\n",
    "new_val = 1.09816"
   ]
  },
  {
   "cell_type": "code",
   "execution_count": null,
   "id": "2941a4e7",
   "metadata": {},
   "outputs": [],
   "source": [
    "path_to_all = '/Users/ilaginja/repos/PASTIS/data/SCDA'\n",
    "path = os.path.join(path_to_all, f'{num}-Hex', 'masks', f'TelAp_LUVex_0{num}-Hex_gy_clipped_ovsamp04_N1024')"
   ]
  },
  {
   "cell_type": "code",
   "execution_count": null,
   "id": "e6f481fe",
   "metadata": {},
   "outputs": [],
   "source": [
    "# Also for indexed file\n",
    "hdulist_ind = fits.open(path + '_indexed' + '.fits')\n",
    "header_ind = hdulist_ind[0].header"
   ]
  },
  {
   "cell_type": "code",
   "execution_count": null,
   "id": "f23074a9",
   "metadata": {},
   "outputs": [],
   "source": [
    "header_ind"
   ]
  },
  {
   "cell_type": "code",
   "execution_count": null,
   "id": "063112c4",
   "metadata": {},
   "outputs": [],
   "source": [
    "header_ind['SEG_F2F'] = new_val"
   ]
  },
  {
   "cell_type": "code",
   "execution_count": null,
   "id": "0edb9c2d",
   "metadata": {},
   "outputs": [],
   "source": [
    "header_ind"
   ]
  },
  {
   "cell_type": "code",
   "execution_count": null,
   "id": "350fd65a",
   "metadata": {},
   "outputs": [],
   "source": [
    "hdulist_ind.writeto(path + '_indexed' + '.fits', overwrite=True)"
   ]
  },
  {
   "cell_type": "code",
   "execution_count": null,
   "id": "f224021a",
   "metadata": {},
   "outputs": [],
   "source": []
  }
 ],
 "metadata": {
  "kernelspec": {
   "display_name": "Python 3 (ipykernel)",
   "language": "python",
   "name": "python3"
  },
  "language_info": {
   "codemirror_mode": {
    "name": "ipython",
    "version": 3
   },
   "file_extension": ".py",
   "mimetype": "text/x-python",
   "name": "python",
   "nbconvert_exporter": "python",
   "pygments_lexer": "ipython3",
   "version": "3.7.13"
  }
 },
 "nbformat": 4,
 "nbformat_minor": 5
}
