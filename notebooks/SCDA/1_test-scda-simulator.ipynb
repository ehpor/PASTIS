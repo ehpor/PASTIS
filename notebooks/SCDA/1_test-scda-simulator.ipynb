{
 "cells": [
  {
   "cell_type": "markdown",
   "id": "35656ba7",
   "metadata": {},
   "source": [
    "# Test SCDA simulators"
   ]
  },
  {
   "cell_type": "code",
   "execution_count": null,
   "id": "4fe9d19f",
   "metadata": {},
   "outputs": [],
   "source": [
    "import os\n",
    "import matplotlib.pyplot as plt\n",
    "\n",
    "from pastis.e2e_simulators.scda_telescopes import HexRingAPLC\n",
    "from pastis.util import find_repo_location"
   ]
  },
  {
   "cell_type": "code",
   "execution_count": null,
   "id": "79daade9",
   "metadata": {},
   "outputs": [],
   "source": [
    "# Define input parameters\n",
    "optics_dir = os.path.join(find_repo_location(), 'data', 'SCDA')\n",
    "sampling = 4\n",
    "num_rings = 1"
   ]
  },
  {
   "cell_type": "code",
   "execution_count": null,
   "id": "1c20856f",
   "metadata": {},
   "outputs": [],
   "source": [
    "tel = HexRingAPLC(optics_dir, num_rings, sampling)"
   ]
  },
  {
   "cell_type": "code",
   "execution_count": null,
   "id": "4ad439ac",
   "metadata": {},
   "outputs": [],
   "source": []
  }
 ],
 "metadata": {
  "kernelspec": {
   "display_name": "Python 3 (ipykernel)",
   "language": "python",
   "name": "python3"
  },
  "language_info": {
   "codemirror_mode": {
    "name": "ipython",
    "version": 3
   },
   "file_extension": ".py",
   "mimetype": "text/x-python",
   "name": "python",
   "nbconvert_exporter": "python",
   "pygments_lexer": "ipython3",
   "version": "3.7.13"
  }
 },
 "nbformat": 4,
 "nbformat_minor": 5
}
