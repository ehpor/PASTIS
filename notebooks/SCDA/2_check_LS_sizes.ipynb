{
 "cells": [
  {
   "cell_type": "markdown",
   "id": "cd830bec",
   "metadata": {},
   "source": [
    "# Check LS diameters"
   ]
  },
  {
   "cell_type": "code",
   "execution_count": null,
   "id": "a8325dae",
   "metadata": {},
   "outputs": [],
   "source": [
    "import os\n",
    "from astropy.io import fits\n",
    "import hcipy\n",
    "import matplotlib.pyplot as plt\n",
    "import numpy as np"
   ]
  },
  {
   "cell_type": "code",
   "execution_count": null,
   "id": "f9a48ab1",
   "metadata": {},
   "outputs": [],
   "source": [
    "num_rings = 5\n",
    "robustness_px = 0"
   ]
  },
  {
   "cell_type": "code",
   "execution_count": null,
   "id": "20d32986",
   "metadata": {},
   "outputs": [],
   "source": [
    "path_to_all = '/Users/ilaginja/repos/PASTIS/data/SCDA'\n",
    "aper_path = os.path.join(path_to_all, f'{num_rings}-Hex', 'masks', f'TelAp_LUVex_0{num_rings}-Hex_gy_clipped_ovsamp04_N1024')\n",
    "aper_ind_path = os.path.join(path_to_all, f'{num_rings}-Hex', 'masks', f'TelAp_LUVex_0{num_rings}-Hex_gy_clipped_ovsamp04_N1024_indexed')\n",
    "ls_path = os.path.join(path_to_all, f'{num_rings}-Hex', 'masks', f'LS_LUVex_{num_rings:02d}-Hex_ID0000_OD0982_no_struts_gy_ovsamp4_N{1024:04d}')\n",
    "apod_path = os.path.join(path_to_all, f'{num_rings}-Hex', 'solutions', f'{num_rings:01d}-Hex_robust_{robustness_px}px_N{1024:04d}')"
   ]
  },
  {
   "cell_type": "code",
   "execution_count": null,
   "id": "0e54b186",
   "metadata": {},
   "outputs": [],
   "source": [
    "hdu_aper = fits.open(aper_path + '.fits')\n",
    "aper_header = hdu_aper[0].header\n",
    "\n",
    "hdu_ind_aper = fits.open(aper_ind_path + '.fits')\n",
    "aper_ind_header = hdu_ind_aper[0].header\n",
    "\n",
    "hdu_ls = fits.open(ls_path + '.fits')\n",
    "ls_header = hdu_ls[0].header\n",
    "\n",
    "hdu_apod = fits.open(apod_path + '.fits')\n",
    "apod_header = hdu_apod[0].header"
   ]
  },
  {
   "cell_type": "code",
   "execution_count": null,
   "id": "1d585a33",
   "metadata": {},
   "outputs": [],
   "source": [
    "print(f'{num_rings}-Hex:')\n",
    "print(aper_header['D_CIRC'])\n",
    "print(aper_ind_header['D_CIRC'])\n",
    "print(ls_header['D_CIRC'])\n",
    "#print(apod_header['D_CIRC'])    # does not exist"
   ]
  },
  {
   "cell_type": "code",
   "execution_count": null,
   "id": "a7ca2f6c",
   "metadata": {},
   "outputs": [],
   "source": []
  }
 ],
 "metadata": {
  "kernelspec": {
   "display_name": "Python 3 (ipykernel)",
   "language": "python",
   "name": "python3"
  },
  "language_info": {
   "codemirror_mode": {
    "name": "ipython",
    "version": 3
   },
   "file_extension": ".py",
   "mimetype": "text/x-python",
   "name": "python",
   "nbconvert_exporter": "python",
   "pygments_lexer": "ipython3",
   "version": "3.10.4"
  }
 },
 "nbformat": 4,
 "nbformat_minor": 5
}
