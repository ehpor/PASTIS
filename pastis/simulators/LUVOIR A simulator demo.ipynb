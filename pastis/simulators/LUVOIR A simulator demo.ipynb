{
 "cells": [
  {
   "cell_type": "markdown",
   "id": "f48356ab",
   "metadata": {},
   "source": [
    "# LUVOIR A Simulator Demo"
   ]
  },
  {
   "cell_type": "code",
   "execution_count": null,
   "id": "activated-influence",
   "metadata": {},
   "outputs": [],
   "source": [
    "import os\n",
    "import matplotlib\n",
    "import matplotlib.pyplot as plt\n",
    "from matplotlib.colors import LogNorm\n",
    "import numpy as np\n",
    "import hcipy\n",
    "from astropy.io import fits\n",
    "\n",
    "from pastis.config import CONFIG_PASTIS\n",
    "import pastis.util\n",
    "from pastis.e2e_simulators.luvoir_imaging import LuvoirA_APLC\n",
    "\n",
    "matplotlib.rc('image', origin='lower')    # Make sure image origin is always in lower left"
   ]
  },
  {
   "cell_type": "code",
   "execution_count": null,
   "id": "welcome-eligibility",
   "metadata": {},
   "outputs": [],
   "source": [
    "# Define sampling and set path for LUVOIR A input files (they are on the repo)\n",
    "sampling = CONFIG_PASTIS.getfloat('LUVOIR', 'sampling')\n",
    "optics_input = os.path.join(pastis.util.find_repo_location(), CONFIG_PASTIS.get('LUVOIR', 'optics_path_in_repo'))"
   ]
  },
  {
   "cell_type": "code",
   "execution_count": null,
   "id": "fatty-original",
   "metadata": {},
   "outputs": [],
   "source": [
    "# Pick which design you want (small, medium, large) and instantiate LUVOIR A simulator object\n",
    "design = 'small'\n",
    "luvoir = LuvoirA_APLC(optics_input, design, sampling)"
   ]
  },
  {
   "cell_type": "markdown",
   "id": "bf8d9783",
   "metadata": {},
   "source": [
    "This will instantiate LUOVIR A with the chosen APLC, and also a simple segmented DM that can do piston, tip and tilt on each segment only."
   ]
  },
  {
   "cell_type": "code",
   "execution_count": null,
   "id": "brutal-saver",
   "metadata": {},
   "outputs": [],
   "source": [
    "# Calculate a coronagraphic and a direct PSF, display all intermediate planes while doing so\n",
    "coro, direct = luvoir.calc_psf(display_intermediate=True, ref=True)"
   ]
  },
  {
   "cell_type": "code",
   "execution_count": null,
   "id": "0c7afc19",
   "metadata": {},
   "outputs": [],
   "source": [
    "# We have a LOWFS\n",
    "lowfs_im = luvoir.calc_low_order_wfs()\n",
    "plt.imshow(lowfs_im.intensity.shaped)"
   ]
  },
  {
   "cell_type": "code",
   "execution_count": null,
   "id": "47208e9f",
   "metadata": {},
   "outputs": [],
   "source": [
    "# We have a OBWFS\n",
    "obwfs_im = luvoir.calc_out_of_band_wfs()\n",
    "plt.imshow(obwfs_im.intensity.shaped)"
   ]
  },
  {
   "cell_type": "markdown",
   "id": "09a59321",
   "metadata": {},
   "source": [
    "## Creating, commanding and deleting the various deformable mirrors"
   ]
  },
  {
   "cell_type": "markdown",
   "id": "9f3d7742",
   "metadata": {},
   "source": [
    "You can run the individual cells below to add different deformable mirrors:\n",
    "1. Full segmented mirror with the capability for an arbitrary number of local Zernikes\n",
    "2. Segmented DM for Harris modes as local segment modes\n",
    "3. Global Zernike DM\n",
    "4. DM for Fourier ripples\n",
    "5. Continuous deformable mirror\n",
    "\n",
    "When you don't actually need a DM, do not create it as it will only slow down the propagations. If you needed to create it but now don't need it any more, you can use the appropriate methods to remove it fro your simulator instance."
   ]
  },
  {
   "cell_type": "markdown",
   "id": "c8ee68a4",
   "metadata": {},
   "source": [
    "### 1. Multi-mode segmented DM (Zernikes)"
   ]
  },
  {
   "cell_type": "code",
   "execution_count": null,
   "id": "258a114b",
   "metadata": {},
   "outputs": [],
   "source": [
    "# Create multi mode segmented mirror\n",
    "# !! THIS CELL TAKES QUITE A WHILE TO RUN !!\n",
    "n_modes_segs = 3\n",
    "luvoir.create_segmented_mirror(n_modes_segs)"
   ]
  },
  {
   "cell_type": "code",
   "execution_count": null,
   "id": "d4870538",
   "metadata": {},
   "outputs": [],
   "source": [
    "# Command the DM\n",
    "new_command = np.zeros(120*n_modes_segs)\n",
    "new_command[4] = 2e-8\n",
    "new_command[51] = 2e-4\n",
    "new_command[346] = 2e-8\n",
    "luvoir.sm.actuators = new_command"
   ]
  },
  {
   "cell_type": "code",
   "execution_count": null,
   "id": "3888c069",
   "metadata": {},
   "outputs": [],
   "source": [
    "# Remove the DM from simulator instance\n",
    "luvoir.remove_segmented_mirror()"
   ]
  },
  {
   "cell_type": "markdown",
   "id": "551a686d",
   "metadata": {},
   "source": [
    "When you remove this multi-mode segmented DM, you go back to having the simple piston, tip, tilt segmented DM."
   ]
  },
  {
   "cell_type": "markdown",
   "id": "343d71da",
   "metadata": {},
   "source": [
    "### 2. Harris modes segmented DM"
   ]
  },
  {
   "cell_type": "code",
   "execution_count": null,
   "id": "b5573fdc",
   "metadata": {},
   "outputs": [],
   "source": [
    "# Create segmented Harris mode mirror\n",
    "# !! THIS CELL TAKES QUITE A WHILE TO RUN !!\n",
    "fpath = '/Users/ilaginja/repos/PASTIS/Sensitivities2.xlsx'    # path to Harris spreadsheet\n",
    "pad_orientations = np.pi / 2 * np.ones(120)\n",
    "luvoir.create_segmented_harris_mirror(fpath, pad_orientations)"
   ]
  },
  {
   "cell_type": "code",
   "execution_count": null,
   "id": "b7da713b",
   "metadata": {},
   "outputs": [],
   "source": [
    "# Command the DM\n",
    "new_command = np.zeros(luvoir.harris_sm.num_actuators)\n",
    "new_command[18] = 1e-8\n",
    "new_command[37] = 2e-8\n",
    "luvoir.harris_sm.actuators = new_command"
   ]
  },
  {
   "cell_type": "code",
   "execution_count": null,
   "id": "b876affd",
   "metadata": {},
   "outputs": [],
   "source": [
    "# Remove the DM from simulator instance\n",
    "luvoir.remove_segmented_harris_mirror()"
   ]
  },
  {
   "cell_type": "markdown",
   "id": "b5546356",
   "metadata": {},
   "source": [
    "### 3. Global Zernike DM (global low-order modes)"
   ]
  },
  {
   "cell_type": "code",
   "execution_count": null,
   "id": "758073c0",
   "metadata": {},
   "outputs": [],
   "source": [
    "# Create low-order (Zernike) mode mirror\n",
    "n_modes_zernikes = 15\n",
    "luvoir.create_global_zernike_mirror(n_modes_zernikes)"
   ]
  },
  {
   "cell_type": "code",
   "execution_count": null,
   "id": "8c328f0b",
   "metadata": {},
   "outputs": [],
   "source": [
    "# Command the DM\n",
    "new_command = np.zeros(n_modes_zernikes)\n",
    "new_command[7] = 2e-8\n",
    "luvoir.zernike_mirror.actuators = new_command"
   ]
  },
  {
   "cell_type": "code",
   "execution_count": null,
   "id": "d030991e",
   "metadata": {},
   "outputs": [],
   "source": [
    "# Remove the DM from simulator instance\n",
    "luvoir.remove_global_zernike_mirror()"
   ]
  },
  {
   "cell_type": "markdown",
   "id": "52631a9c",
   "metadata": {},
   "source": [
    "### 4. Ripple DM (global high-order modes)"
   ]
  },
  {
   "cell_type": "code",
   "execution_count": null,
   "id": "f079a90d",
   "metadata": {},
   "outputs": [],
   "source": [
    "# Create high-order (ripple) mode mirror\n",
    "n_ripples = 5    # need to use odd number\n",
    "luvoir.create_ripple_mirror(n_ripples)"
   ]
  },
  {
   "cell_type": "code",
   "execution_count": null,
   "id": "d049c488",
   "metadata": {},
   "outputs": [],
   "source": [
    "# Command the DM\n",
    "new_command = np.zeros(n_ripples*n_ripples)\n",
    "new_command[12] = 2e-8\n",
    "luvoir.ripple_mirror.actuators = new_command"
   ]
  },
  {
   "cell_type": "code",
   "execution_count": null,
   "id": "2bdf176c",
   "metadata": {},
   "outputs": [],
   "source": [
    "# Remove the DM from simulator instance\n",
    "luvoir.remove_ripple_mirror()"
   ]
  },
  {
   "cell_type": "markdown",
   "id": "8f9fc2d6",
   "metadata": {},
   "source": [
    "### 5. Continuous DM"
   ]
  },
  {
   "cell_type": "code",
   "execution_count": null,
   "id": "28da7f47",
   "metadata": {},
   "outputs": [],
   "source": [
    "# Create a good ol' continuous DM\n",
    "n_acts_across = 15 \n",
    "luvoir.create_continuous_deformable_mirror(n_acts_across)"
   ]
  },
  {
   "cell_type": "code",
   "execution_count": null,
   "id": "93eaf1cd",
   "metadata": {},
   "outputs": [],
   "source": [
    "# Command the DM\n",
    "new_command = np.zeros(n_acts_across*n_acts_across)\n",
    "new_command[66] = 2e-8\n",
    "new_command[77] = 2e-8\n",
    "luvoir.dm.actuators = new_command"
   ]
  },
  {
   "cell_type": "code",
   "execution_count": null,
   "id": "c9932111",
   "metadata": {},
   "outputs": [],
   "source": [
    "# Remove the DM from simulator instance\n",
    "luvoir.remove_continuous_deformable_mirror()"
   ]
  },
  {
   "cell_type": "markdown",
   "id": "81415557",
   "metadata": {},
   "source": [
    "## Normalization to one photon\n",
    "\n",
    "All `calc_psf()` methods have a parameter `norm_one_photon` that allows you to normalize the propagations to one photon. The default is set to `None` and you have to actively set it to `norm_one_photon=True` wen you need it."
   ]
  },
  {
   "cell_type": "code",
   "execution_count": null,
   "id": "cd0316c8",
   "metadata": {},
   "outputs": [],
   "source": [
    "# Calculate a coronagraphic and a direct PSF, display all intermediate planes while doing so\n",
    "coro, direct = luvoir.calc_psf(display_intermediate=True, ref=True, norm_one_photon=True)"
   ]
  },
  {
   "cell_type": "code",
   "execution_count": null,
   "id": "36f4106b",
   "metadata": {},
   "outputs": [],
   "source": []
  }
 ],
 "metadata": {
  "kernelspec": {
   "display_name": "Python 3",
   "language": "python",
   "name": "python3"
  },
  "language_info": {
   "codemirror_mode": {
    "name": "ipython",
    "version": 3
   },
   "file_extension": ".py",
   "mimetype": "text/x-python",
   "name": "python",
   "nbconvert_exporter": "python",
   "pygments_lexer": "ipython3",
   "version": "3.7.10"
  }
 },
 "nbformat": 4,
 "nbformat_minor": 5
}
