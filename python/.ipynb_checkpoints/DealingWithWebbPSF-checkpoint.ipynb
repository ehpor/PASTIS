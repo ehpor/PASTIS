{
 "cells": [
  {
   "cell_type": "markdown",
   "metadata": {},
   "source": [
    "# Dealing with WebbPSF"
   ]
  },
  {
   "cell_type": "markdown",
   "metadata": {},
   "source": [
    "This is a personal introductory notebook for myself, because I have to learn use WebbPSF and this is probably the easiest way to do it."
   ]
  },
  {
   "cell_type": "code",
   "execution_count": null,
   "metadata": {
    "collapsed": true
   },
   "outputs": [],
   "source": [
    "%matplotlib inline\n",
    "import matplotlib\n",
    "import matplotlib.pyplot as plt\n",
    "\n",
    "import webbpsf\n",
    "print('Currenlty running on WebbPSF', webbpsf.version.version)"
   ]
  },
  {
   "cell_type": "markdown",
   "metadata": {},
   "source": [
    "## Generatinc coronagraphic PSFs\n",
    "\n",
    "What is the main goal of this? I am currenlty translating Lucie Leboulleux' PASTIS algorithm from IDL to Python and in order to do that, I need to be able to simulate JWST PSFs with and without coronagraphic optics. So, for one I need to learn how to pick a coronagraphic configuration (masks, filter, etc.) and to display that and for the other I need to learn how to generate OPD maps that I need and recreate PSFs with that.\n",
    "The notebooks on the WebbPSF GitHub are pretty neat, but also too much, so I will extract here what I need."
   ]
  },
  {
   "cell_type": "code",
   "execution_count": null,
   "metadata": {
    "collapsed": true
   },
   "outputs": [],
   "source": [
    "# Create a NIRCam object\n",
    "nc = webbpsf.NIRCam()"
   ]
  },
  {
   "cell_type": "code",
   "execution_count": null,
   "metadata": {
    "collapsed": true
   },
   "outputs": [],
   "source": [
    "# Calculate the PSF of my current default nc setup\n",
    "psf = nc.calc_psf()\n",
    "# Display the PSF\n",
    "webbpsf.display_psf(psf)"
   ]
  },
  {
   "cell_type": "code",
   "execution_count": null,
   "metadata": {
    "collapsed": true
   },
   "outputs": [],
   "source": [
    "# Change the filter to what I want it to be\n",
    "nc.filter = 'F335M'\n",
    "\n",
    "# Recreate the PSF\n",
    "psf = nc.calc_psf()\n",
    "# And plot the nc PSF of the current setup\n",
    "webbpsf.display_psf(psf)"
   ]
  },
  {
   "cell_type": "code",
   "execution_count": null,
   "metadata": {
    "collapsed": true
   },
   "outputs": [],
   "source": [
    "# Create a second NIRCam instrument case that will hold the coronagraph\n",
    "nc_coro = webbpsf.NIRCam()\n",
    "# Add correct filter\n",
    "nc_coro.filter = 'F335M'\n",
    "# Add an occulting mask (focal plane mask)\n",
    "nc_coro.image_mask = 'MASK335R'\n",
    "# Add a Lyot stop in the pupil plane\n",
    "nc_coro.pupil_mask = 'CIRCLYOT'\n",
    "\n",
    "# Create the PSF\n",
    "psf_coro = nc_coro.calc_psf()   # This takes quite a while.\n",
    "# Display the new PSF\n",
    "webbpsf.display_psf(psf_coro)"
   ]
  },
  {
   "cell_type": "code",
   "execution_count": null,
   "metadata": {
    "collapsed": true
   },
   "outputs": [],
   "source": [
    "# It looks (almost) blank, but that's because the intensity limits are not well set. We will see it better\n",
    "#further down, when we dipslay the PSF with plt.imshow().\n",
    "\n",
    "# To see what your options for generating the PSF are, check:\n",
    "help(nc.calc_psf)"
   ]
  },
  {
   "cell_type": "code",
   "execution_count": null,
   "metadata": {
    "collapsed": true
   },
   "outputs": [],
   "source": [
    "# The default return is the PSF as an HDUlist object, from which I can extract the data as an image array\n",
    "# by doing this:\n",
    "psf_coro_im = psf_coro[1].data\n",
    "print('Type of psf_coro_im: ', type(psf_coro_im))\n",
    "print('Shape of psf_coro_im: ', psf_coro_im.shape)\n",
    "\n",
    "# Extension [0] is always overampled by a factor of 4, meaning we are putting 4 image pixels onto one detector pixel.\n",
    "# The extension [1] alwyas gives us the detector-sampled image.\n",
    "\n",
    "# Display it with classic plt.imshow().\n",
    "plt.imshow(psf_coro_im)\n",
    "plt.show()"
   ]
  },
  {
   "cell_type": "code",
   "execution_count": null,
   "metadata": {
    "collapsed": true
   },
   "outputs": [],
   "source": [
    "# Here we go, we can see the coronagraphic PSF now.\n",
    "\n",
    "# Since I will have to make the PSF a certain pixel size, I will use the keyword \"fov_pixels\" in calc_psf.\n",
    "# We also don't want it to be oversampled with a factor of 4, which is default in webbpsf, which is why we\n",
    "# will be extracting the [1] extension from the PSF HDU file instead of the [0] extension.\n",
    "psf_coro = nc_coro.calc_psf(fov_pixels=600)   # Taking a long time again.\n",
    "psf = nc.calc_psf(fov_pixels=600)             # Taking a long time again.\n",
    "\n",
    "print('PSF calculations done')"
   ]
  },
  {
   "cell_type": "code",
   "execution_count": null,
   "metadata": {
    "collapsed": true
   },
   "outputs": [],
   "source": [
    "# Display both PSFs (without and with the coronagraph)\n",
    "webbpsf.display_psf(psf)\n",
    "plt.title('Non-coro PSF')\n",
    "plt.show()\n",
    "webbpsf.display_psf(psf_coro)\n",
    "plt.title('Coronagraph PSF')\n",
    "plt.show()"
   ]
  },
  {
   "cell_type": "code",
   "execution_count": null,
   "metadata": {
    "collapsed": true
   },
   "outputs": [],
   "source": [
    "# Also, extract the PSFs as image arrays again\n",
    "psf_im = psf[1].data\n",
    "psf_coro_im = psf_coro[1].data\n",
    "\n",
    "print('psf_im.shape: ', psf_im.shape)\n",
    "print('psf_coro_im.shape: ', psf_coro_im.shape)\n",
    "\n",
    "# Display them with plt.imshow()\n",
    "plt.subplot(1,2,1)\n",
    "plt.imshow(psf_im)\n",
    "plt.title('Non-coro PSF')\n",
    "plt.subplot(1,2,2)\n",
    "plt.imshow(psf_coro_im)\n",
    "plt.title('Coronagraph PSF')\n",
    "plt.show()"
   ]
  },
  {
   "cell_type": "code",
   "execution_count": null,
   "metadata": {
    "collapsed": true
   },
   "outputs": [],
   "source": [
    "# Just in case you want to display all the planes in the optical train of your two instruments:\n",
    "nc.display()\n",
    "plt.show()\n",
    "\n",
    "nc_coro.display()\n",
    "plt.show()"
   ]
  },
  {
   "cell_type": "markdown",
   "metadata": {},
   "source": [
    "## Working with OPD maps\n",
    "\n",
    "Now that we know how to produce the PSFs we want, we also recquire to go in and change the OPD maps of the telescopes so that we can simulate the different configurations PASTIS needs.\n",
    "\n",
    "Most helpful for this was:\n",
    "https://github.com/mperrin/webbpsf/blob/master/notebooks/Simulated%20OTE%20Mirror%20Move%20Demo.ipynb"
   ]
  },
  {
   "cell_type": "code",
   "execution_count": null,
   "metadata": {
    "collapsed": true
   },
   "outputs": [],
   "source": [
    "# List what OPD maps are available by default\n",
    "print('Non-coro:\\n', nc.opd_list)\n",
    "print('Coro:\\n', nc_coro.opd_list)"
   ]
  },
  {
   "cell_type": "code",
   "execution_count": null,
   "metadata": {
    "collapsed": true
   },
   "outputs": [],
   "source": [
    "# The \"requirements\" OPD is used by default and is usually more conservative.\n",
    "print('Non-coro:\\n', nc.pupilopd)\n",
    "print('Coro:\\n', nc_coro.pupilopd)"
   ]
  },
  {
   "cell_type": "markdown",
   "metadata": {},
   "source": [
    "While different OPD maps are used for each SI, these OPD maps do not include wavefront error contributions from optics internal to the science instrument.\n",
    "\n",
    "NIRCam is one of the more complicated classes in webbpsf, and has several unique selectable options to model the two copies of NIRCam each with two channels.\n",
    "\n",
    "The detector attribute can be used to select between any of the ten detectors, A1-A5 and B1-B5. Additional attributes are then automatically set for channel (“short” or “long”) and module (“A” or “B”) but these cannot be set directly; just set the desired detector and the channel and module are inferred automatically.\n",
    "\n",
    "The choice of filter also impacts the channel selection: If you choose a long-wavelength filter such as F460M, then the detector will automatically switch to the long-wave detector for the current channel. "
   ]
  },
  {
   "cell_type": "code",
   "execution_count": null,
   "metadata": {
    "collapsed": true
   },
   "outputs": [],
   "source": [
    "# This means that we don't have to bother about chosing the right detector, our filter choice determines that for us:\n",
    "print('Non-coro:\\n', nc.detector)\n",
    "print('Coro:\\n', nc_coro.detector)"
   ]
  },
  {
   "cell_type": "markdown",
   "metadata": {},
   "source": [
    "\n",
    "The contributions to wavefront error can be separated into:\n",
    "\n",
    "1. OTE wavefront error (due to variations in the telescope optics common to all instruments)\n",
    "\n",
    "2. static SI wavefront error (due to variations in the specific science instrument's optics)\n",
    "\n",
    "3. field dependent SI wavefront error (due to variation in the PSF based on the position of the source within the field of view)\n",
    "\n",
    "The first two components are combined in the pupilopd map shown in the top right panel. The last component of the model is generated at runtime from a Zernike coefficient lookup table. The include_si_wfe attribute switches this last component of the model on and off."
   ]
  },
  {
   "cell_type": "code",
   "execution_count": null,
   "metadata": {
    "collapsed": true
   },
   "outputs": [],
   "source": [
    "nc.include_si_wfe"
   ]
  },
  {
   "cell_type": "code",
   "execution_count": null,
   "metadata": {
    "collapsed": true
   },
   "outputs": [],
   "source": [
    "# So if we want to exclude the field-dependent SI WFE, we set it to:\n",
    "nc.include_si_wfe = False\n",
    "nc.include_si_wfe"
   ]
  },
  {
   "cell_type": "code",
   "execution_count": null,
   "metadata": {
    "collapsed": true
   },
   "outputs": [],
   "source": [
    "# So lets check again what the wavefront maps look like for both cases:\n",
    "nc.include_si_wfe = False\n",
    "nc.display()\n",
    "plt.show()\n",
    "\n",
    "nc.include_si_wfe = True\n",
    "nc.display()\n",
    "plt.show()"
   ]
  },
  {
   "cell_type": "markdown",
   "metadata": {},
   "source": [
    "From GitHub:\n",
    "\n",
    "\"We can simulate JWST mirror adjustments using a linear optical model to adjust the optical path difference (OPD) array. This can be activated for a given WebbPSF instrument instance using the enable_adjustable_ote helper function. This notebook demonstrates a few things we can do with this.\""
   ]
  },
  {
   "cell_type": "code",
   "execution_count": null,
   "metadata": {
    "collapsed": true
   },
   "outputs": [],
   "source": [
    "# Now, we want to be able to talk to the OTE (Optical Telescope Element, basically the general telescope with the\n",
    "# mirror segments), so that we can adjust the segments with aberrations of whatever kind.\n",
    "# So we will create the new object \"ote\", and we just need to tell webbpsf which instrument we will be using,\n",
    "# so that it gets the ote details right for that instrument.\n",
    "nc, ote = webbpsf.enable_adjustable_ote(nc)\n",
    "nc_coro, ote_coro = webbpsf.enable_adjustable_ote(nc_coro)"
   ]
  },
  {
   "cell_type": "code",
   "execution_count": null,
   "metadata": {
    "collapsed": true
   },
   "outputs": [],
   "source": [
    "# Take this function from https://github.com/mperrin/webbpsf/blob/master/notebooks/Simulated%20OTE%20Mirror%20Move%20Demo.ipynb\n",
    "# It lets you display the current OTE setup and the resulting PSF. Pretty neat!\n",
    "\n",
    "def display_ote_and_psf(inst, ote, opd_vmax=500, psf_vmax=0.01, title=\"OPD and PSF\", **kwargs):\n",
    "    psf = inst.calc_psf(monochromatic=3.35e-6)\n",
    "    plt.figure(figsize=(12,8))\n",
    "    ax1 = plt.subplot(121)\n",
    "    ote.display_opd(ax=ax1, vmax=opd_vmax, \n",
    "                    colorbar_orientation='horizontal',\n",
    "                   title='OPD modified for mirror moves') #, cbpad=0.05)\n",
    "    ax2 = plt.subplot(122)\n",
    "    webbpsf.display_psf(psf, ext=1, vmax=psf_vmax, vmin=psf_vmax/1e4,\n",
    "                        colorbar_orientation='horizontal',\n",
    "                       title=\"PSF sim, 3.35 microns\") #, cbpad=0.05)\n",
    "    plt.suptitle(title, fontsize=16)"
   ]
  },
  {
   "cell_type": "code",
   "execution_count": null,
   "metadata": {
    "collapsed": true
   },
   "outputs": [],
   "source": [
    "# Let's try it out:\n",
    "display_ote_and_psf(nc, ote, title=\"Default OPD and PSF\")\n",
    "plt.show()\n",
    "# \n",
    "\n",
    "display_ote_and_psf(nc_coro, ote_coro, title=\"Coronagraph OPD and PSF\")\n",
    "plt.show()"
   ]
  },
  {
   "cell_type": "code",
   "execution_count": null,
   "metadata": {
    "collapsed": true
   },
   "outputs": [],
   "source": [
    "# If you want to check the current status of the OTE:\n",
    "ote.print_state()"
   ]
  },
  {
   "cell_type": "code",
   "execution_count": null,
   "metadata": {
    "collapsed": true
   },
   "outputs": [],
   "source": [
    "# Let's see what the documentation says we can do wiht the OTE:\n",
    "help(ote)\n",
    "# It pays off to go back and see what the methods listed in the Methods resolution order are capable of doing."
   ]
  },
  {
   "cell_type": "code",
   "execution_count": null,
   "metadata": {
    "collapsed": true
   },
   "outputs": [],
   "source": [
    "# For pastis, and for now, we're mainly interested in moving one segment at a time\n",
    "# For PASTIS, I will have to map the segment names A1 thorugh C6 to the 18 segment numbers.\n",
    "\n",
    "# Tilt one segment.\n",
    "ote.reset()\n",
    "ote_coro.reset()\n",
    "\n",
    "ote.move_seg_local('A1', xtilt=.5)  # default units are microradians for tilts, microns for translations\n",
    "ote_coro.move_seg_local('A1', xtilt=.5)\n",
    "\n",
    "# Display it.\n",
    "display_ote_and_psf(nc, ote, title=\"Perturbed default OPD and PSF\")\n",
    "display_ote_and_psf(nc_coro, ote_coro, title=\"Perturbed coronagraph OPD and PSF\")\n",
    "\n",
    "# We told it to tilt A1, why is A4 tilted then?? The thing is, it is still segment A1 that is tilted here,\n",
    "# but the segment labelling is wrong. The current labelling is still the entrance pupil labelling, but we are\n",
    "# actually looking at the exit pupil here. I submitted an issue to the WebbPSF GitHub repo (on 5 July 2018) and\n",
    "# hope this will be be fixed sometime soon."
   ]
  },
  {
   "cell_type": "markdown",
   "metadata": {},
   "source": [
    "For PASTIS, I will probably also have to deal with coordinate system transformations, because (GitHub):\n",
    "\n",
    "\"A note about coordinate axes: The \"control\" coordinate system used for describing moves is not intuitive. Each segment has its own local X and Y axes, which are oriented differently for each of the A, B, and C segment types, and which rotate by 60 degrees for each successive segment of that type. Also, \"Xtilt\" means e.g. \"tilt the segment around the local X axis\" which results in a wavefront tilt that will move the PSF in the Y direction, and vice versa.\" "
   ]
  },
  {
   "cell_type": "code",
   "execution_count": null,
   "metadata": {
    "collapsed": true
   },
   "outputs": [],
   "source": [
    "ote.reset()\n",
    "ote_coro.reset()\n",
    "\n",
    "ote.move_seg_local('A2', xtilt=.5)\n",
    "ote_coro.move_seg_local('A2', xtilt=.5)\n",
    "\n",
    "display_ote_and_psf(nc, ote, title=\"Perturbed default OPD and PSF\")\n",
    "display_ote_and_psf(nc_coro, ote_coro, title=\"Perturbed coronagraph OPD and PSF\")"
   ]
  },
  {
   "cell_type": "markdown",
   "metadata": {},
   "source": [
    "Let's see if I can control the segments not in their individual coordinate system, but in the global coordinate sysyem. The ote method \"move_seg_global()\" should do that."
   ]
  },
  {
   "cell_type": "code",
   "execution_count": null,
   "metadata": {
    "collapsed": true
   },
   "outputs": [],
   "source": [
    "help(ote.move_seg_global)"
   ]
  },
  {
   "cell_type": "code",
   "execution_count": null,
   "metadata": {
    "collapsed": true
   },
   "outputs": [],
   "source": [
    "ote.reset()\n",
    "ote_coro.reset()\n",
    "\n",
    "ote.move_seg_global('A1', xtilt=.5)\n",
    "ote_coro.move_seg_global('A1', xtilt=.5)\n",
    "\n",
    "display_ote_and_psf(nc, ote, title=\"Perturbed default OPD and PSF\")\n",
    "display_ote_and_psf(nc_coro, ote_coro, title=\"Perturbed coronagraph OPD and PSF\")"
   ]
  },
  {
   "cell_type": "code",
   "execution_count": null,
   "metadata": {
    "collapsed": true
   },
   "outputs": [],
   "source": [
    "# Well, Marshall was right in remembering that this function was never really finished. I could go in\n",
    "# and do that... Or I can find a faster way.\n",
    "\n",
    "# Let's try this:\n",
    "help(ote._apply_hexikes_to_seg)"
   ]
  },
  {
   "cell_type": "markdown",
   "metadata": {},
   "source": [
    "!!! It turns out that the documentation is wrong and the Zernike coefficient input is actually in *meters*. !!!"
   ]
  },
  {
   "cell_type": "code",
   "execution_count": null,
   "metadata": {
    "collapsed": true
   },
   "outputs": [],
   "source": [
    "# Since this function takes Zernikes in the WSS (JWST wavefront sensing system) order, we need to\n",
    "# convert the Noll Zernike index to the WSS Zernike index; here's a function for that:\n",
    "def noll_to_wss(zern):\n",
    "    \"\"\"\n",
    "    Transform a Noll Zernike index into a JWST WSS framework Zernike index.\n",
    "    :param zern: int; Noll Zernike index\n",
    "    :return: WSS Zernike index\n",
    "    \"\"\"\n",
    "    noll = {1: 'piston', 2: 'tip', 3: 'tilt', 4: 'defocus', 5: 'astig45', 6: 'astig0', 7: 'ycoma', 8: 'xcoma',\n",
    "            9: 'ytrefoil', 10: 'xtrefoil', 11: 'spherical'}\n",
    "    wss = {'piston': 1, 'tip': 2, 'tilt': 3, 'defocus': 5, 'astig45': 4, 'astig0': 6, 'ycoma': 8, 'xcoma': 7,\n",
    "            'ytrefoil': 10, 'xtrefoil': 11, 'spherical': 9}\n",
    "    wss_ind = wss[noll[zern]]\n",
    "\n",
    "    return wss_ind\n",
    "\n",
    "# Defining some parameters\n",
    "nb_seg = 18    # How many segments does your telescope have.\n",
    "zern_max = 5   # What, in theory, is the highes Zernike you can use? Will depend on code capabilities.\n",
    "zern_nb = 2    # Which Zernike do you want to calibrate for in this run?\n",
    "nm_aber = 1.   # Aberration of Noll zernike 'zern_nb' in nm."
   ]
  },
  {
   "cell_type": "code",
   "execution_count": null,
   "metadata": {
    "collapsed": true
   },
   "outputs": [],
   "source": [
    "# Let's give our OTEs a fresh start\n",
    "ote.reset()\n",
    "ote_coro.reset()\n",
    "\n",
    "# WSS Zernike numbering! Transform the index.\n",
    "wss_zern_nb = noll_to_wss(zern_nb)\n",
    "# Create a list that can hold an aberration coefficient for each Zernike.\n",
    "coeff = [0.] * zern_max\n",
    "# Fill in the ones you want to use.\n",
    "coeff[wss_zern_nb] = nm_aber * 1e9   # Convert to meters\n",
    "\n",
    "# Apply this aberration to the OTEs.\n",
    "ote._apply_hexikes_to_seg('A2', coeff)\n",
    "ote_coro._apply_hexikes_to_seg('A2', coeff)\n",
    "\n",
    "# Calculate and display the OPDs and PSFs.\n",
    "display_ote_and_psf(nc, ote, title=\"Perturbed default OPD and PSF\")\n",
    "display_ote_and_psf(nc_coro, ote_coro, title=\"Perturbed coronagraph OPD and PSF\")"
   ]
  },
  {
   "cell_type": "markdown",
   "metadata": {},
   "source": [
    "We have seen further up how one PSF calculation is taking rather long, around a minute and a half. Depending on the filter we are using, the calc_psf() calculated a mulit-wavelength PSF. To see how many wavelenghts is is using, we can print:"
   ]
  },
  {
   "cell_type": "code",
   "execution_count": null,
   "metadata": {
    "collapsed": true
   },
   "outputs": [],
   "source": [
    "nc._get_default_nlambda('F335M')"
   ]
  },
  {
   "cell_type": "markdown",
   "metadata": {},
   "source": [
    "In order to make the PSF calculations faster during code building and testing, we can reduce the number of different wavelengths to 1:"
   ]
  },
  {
   "cell_type": "code",
   "execution_count": null,
   "metadata": {
    "collapsed": true
   },
   "outputs": [],
   "source": [
    "import time\n",
    "start_nine = time.time()\n",
    "psf_slow = nc_coro.calc_psf(fov_pixels=600)\n",
    "end_nine = time.time()\n",
    "print('9 wavelength PSF calculation takes:', end_nine-start_nine, 'sec =', (end_nine-start_nine)/60, 'min')\n",
    "      \n",
    "start_one = time.time()\n",
    "psf_fast = nc_coro.calc_psf(fov_pixels=600, nlambda=1)\n",
    "end_one = time.time()\n",
    "print('1 wavelength PSF calculation takes:', end_one-start_one, 'sec =', (end_one-start_one)/60, 'min')"
   ]
  },
  {
   "cell_type": "markdown",
   "metadata": {},
   "source": [
    "On a sidenote, if you ever need this kind of information:"
   ]
  },
  {
   "cell_type": "code",
   "execution_count": null,
   "metadata": {
    "collapsed": true
   },
   "outputs": [],
   "source": [
    "print(webbpsf.system_diagnostic())\n"
   ]
  },
  {
   "cell_type": "markdown",
   "metadata": {},
   "source": [
    "Aaaand this will be it. It took a bit of playing around, but it works now."
   ]
  },
  {
   "cell_type": "markdown",
   "metadata": {},
   "source": [
    "# NIRCam image sampling"
   ]
  },
  {
   "cell_type": "markdown",
   "metadata": {},
   "source": [
    "Sampling is confusing. Understanding how it is implemented in somebody else's code even more so. Let's try to figure out how it is dealt with in WebbPSF for NIRCam."
   ]
  },
  {
   "cell_type": "code",
   "execution_count": 1,
   "metadata": {},
   "outputs": [],
   "source": [
    "# I'll just assume we're starting fresh from here.\n",
    "\n",
    "import os\n",
    "import webbpsf\n",
    "import matplotlib.pyplot as plt\n",
    "from matplotlib.colors import LogNorm"
   ]
  },
  {
   "cell_type": "code",
   "execution_count": 2,
   "metadata": {
    "collapsed": true
   },
   "outputs": [],
   "source": [
    "# Make your NIRCam object.\n",
    "nc = webbpsf.NIRCam()\n",
    "nc.filter = 'F335M'"
   ]
  },
  {
   "cell_type": "markdown",
   "metadata": {},
   "source": [
    "The function calc_psf() has a parameter \"oversample\", with which you can determine by what factor we oversample the PSF compared to the detector sampling. Remember how the first HDU extension (0) always contains the PSF you told it to calculate and the second sxtension(1) always contains the image with original detector sampling? Let's play a little with that."
   ]
  },
  {
   "cell_type": "code",
   "execution_count": 3,
   "metadata": {
    "collapsed": true
   },
   "outputs": [],
   "source": [
    "# Create different images with different oversampling parameters.\n",
    "im = nc.calc_psf()                   # default settings\n",
    "im_o4 = nc.calc_psf(oversample=4)    # oversampling by 4\n",
    "im_o2 = nc.calc_psf(oversample=2)    # oversampling by 2\n",
    "im_o1 = nc.calc_psf(oversample=1)    # force it to not oversample the first extension"
   ]
  },
  {
   "cell_type": "code",
   "execution_count": 4,
   "metadata": {
    "collapsed": true
   },
   "outputs": [],
   "source": [
    "# Extract the actual images. The \"_o\" images will be the oversampled images (first data extension),\n",
    "# the \"_d\" will be the detector sampled images (second data extension).\n",
    "im_o = im[0].data\n",
    "im_d = im[1].data\n",
    "o4_o = im_o4[0].data\n",
    "o4_d = im_o4[1].data\n",
    "o2_o = im_o2[0].data\n",
    "o2_d = im_o2[1].data\n",
    "o1_o = im_o1[0].data\n",
    "o1_d = im_o1[1].data"
   ]
  },
  {
   "cell_type": "code",
   "execution_count": 5,
   "metadata": {},
   "outputs": [
    {
     "data": {
      "image/png": "[encoded data removed]",
      "text/plain": [
       "<matplotlib.figure.Figure at 0x1097574e0>"
      ]
     },
     "metadata": {},
     "output_type": "display_data"
    }
   ],
   "source": [
    "# Now let's look at all of them and see what we got.\n",
    "# (You. might want to do this in a separate windown, where you can make the plot bigger.)\n",
    "plt.subplot(2,4,1)\n",
    "plt.imshow(im_o, norm=LogNorm())\n",
    "plt.title('im_o')\n",
    "\n",
    "plt.subplot(2,4,5)\n",
    "plt.imshow(im_d, norm=LogNorm())\n",
    "plt.title('im_d')\n",
    "\n",
    "plt.subplot(2,4,2)\n",
    "plt.imshow(o4_o, norm=LogNorm())\n",
    "plt.title('o4_o')\n",
    "\n",
    "plt.subplot(2,4,6)\n",
    "plt.imshow(o4_d, norm=LogNorm())\n",
    "plt.title('o4_d')\n",
    "\n",
    "plt.subplot(2,4,3)\n",
    "plt.imshow(o2_o, norm=LogNorm())\n",
    "plt.title('o2_o')\n",
    "\n",
    "plt.subplot(2,4,7)\n",
    "plt.imshow(o2_d, norm=LogNorm())\n",
    "plt.title('o2_d')\n",
    "\n",
    "plt.subplot(2,4,4)\n",
    "plt.imshow(o1_o, norm=LogNorm())\n",
    "plt.title('o1_o')\n",
    "\n",
    "plt.subplot(2,4,8)\n",
    "plt.imshow(o1_d, norm=LogNorm())\n",
    "plt.title('o1_d')\n",
    "\n",
    "plt.show()"
   ]
  },
  {
   "cell_type": "markdown",
   "metadata": {
    "collapsed": true
   },
   "source": [
    "You can see that all the images on the bottom have exactly the same sampling, some 2-3 pixels per PSF core. This proves that teh second extension always gives you the same sampling, detector sampling.\n",
    "\n",
    "The top images however are sampled according to their oversampling factor we gave it. With \"oversample=1\", it doesn't get oversampled at all, and abou 2 pixels cover one PSF core radius (3 over the total core). Since we are only interested in this and higher oversampling factors also mean more computation time, we will stick with this parameter instead of the default oversamplign of 4.\n",
    "\n",
    "At \"oversample=2, there are about 4 pixels in onde PSF core radius, aobut 8 pixels across the total core. And finally with an oversampling factor of 4, you get about 8 pixels in the PSF radius and around 15-16 pixels in the diameter of the PSF core."
   ]
  }
 ],
 "metadata": {
  "kernelspec": {
   "display_name": "Python 3",
   "language": "python",
   "name": "python3"
  },
  "language_info": {
   "codemirror_mode": {
    "name": "ipython",
    "version": 3
   },
   "file_extension": ".py",
   "mimetype": "text/x-python",
   "name": "python",
   "nbconvert_exporter": "python",
   "pygments_lexer": "ipython3",
   "version": "3.6.2"
  }
 },
 "nbformat": 4,
 "nbformat_minor": 2
}
